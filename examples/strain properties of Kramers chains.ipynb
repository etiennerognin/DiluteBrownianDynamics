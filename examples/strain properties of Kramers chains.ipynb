{
 "cells": [
  {
   "cell_type": "markdown",
   "id": "6cb240e2",
   "metadata": {},
   "source": [
    "# Strain properties of Kramers chains\n",
    "\n",
    "Here we want to see how a molecule unravells in the limit $Wi \\gg 1$. Therefore simulations are done without Brownian force. \n"
   ]
  },
  {
   "cell_type": "code",
   "execution_count": 1,
   "id": "e200af8f",
   "metadata": {},
   "outputs": [],
   "source": [
    "import numpy as np\n",
    "from dilutebrowniandynamics.simulate import simulate_batch\n",
    "from dilutebrowniandynamics.molecules.Kramers_chain import KramersChain\n",
    "\n",
    "%matplotlib inline\n",
    "import matplotlib.pyplot as plt\n",
    "plt.rcParams['figure.figsize'] = [15, 8]"
   ]
  },
  {
   "cell_type": "markdown",
   "id": "908a42b7",
   "metadata": {},
   "source": [
    "## Parameters definition"
   ]
  },
  {
   "cell_type": "code",
   "execution_count": 2,
   "id": "09eb77c4",
   "metadata": {},
   "outputs": [],
   "source": [
    "n_links = 1000       # Number of segments in the Kramers chain\n",
    "n_ensemble = 4     # Number of molecules to simulate\n",
    "n_proc = 4         # Number of processor cores to use\n",
    "\n",
    "output_file = 'outputs/sandpit'"
   ]
  },
  {
   "cell_type": "markdown",
   "id": "3f05c5d5",
   "metadata": {},
   "source": [
    "## Initialise molecules\n",
    "Here we just draw random vectors from a normal distribution and rescale to unit vectors. To do this with call `from_normal_distribution` constructor. "
   ]
  },
  {
   "cell_type": "code",
   "execution_count": 3,
   "id": "9bc61b6c",
   "metadata": {},
   "outputs": [],
   "source": [
    "seq = np.random.SeedSequence(2022)\n",
    "seeds = seq.spawn(n_ensemble)\n",
    "# Starting vectors\n",
    "molecules = [KramersChain.from_normal_distribution(n_links, seed)\n",
    "             for seed in seeds]"
   ]
  },
  {
   "cell_type": "markdown",
   "id": "dd23f15d",
   "metadata": {},
   "source": [
    "## No thermalisation since Brownian forces are off"
   ]
  },
  {
   "cell_type": "markdown",
   "id": "0c2297b8",
   "metadata": {},
   "source": [
    "## Simulation\n",
    "Now let's simulate a sudden uniaxial elongation."
   ]
  },
  {
   "cell_type": "code",
   "execution_count": null,
   "id": "8bc9e8c5",
   "metadata": {},
   "outputs": [
    {
     "name": "stdout",
     "output_type": "stream",
     "text": [
      "Length of time series: 1000\n",
      "Physical time to compute: 100.0\n",
      "Calculation started on 4 cores.\n"
     ]
    },
    {
     "name": "stderr",
     "output_type": "stream",
     "text": [
      "\r",
      "  0%|                                                     | 0/4 [00:00<?, ?it/s]"
     ]
    }
   ],
   "source": [
    "gradU = np.diag([.1, .05, .05])\n",
    "dt = .01 \n",
    "n_steps = 10000\n",
    "write_interval = 10\n",
    "print(f\"Length of time series: {n_steps//write_interval}\")\n",
    "observables, molecules = simulate_batch(molecules, gradU, dt, n_steps, \n",
    "                                        write_interval=write_interval,\n",
    "                                        no_average={'g_max', 'i_max', 'g_13', 'g_12', 'g_23'},\n",
    "                                        n_proc=n_proc)"
   ]
  },
  {
   "cell_type": "code",
   "execution_count": null,
   "id": "41143ba7",
   "metadata": {},
   "outputs": [],
   "source": [
    "t = np.arange(n_steps//write_interval)*dt*write_interval\n",
    "A = observables['A_average']/n_links**2\n",
    "trA = np.trace(A, axis1=1, axis2=2)"
   ]
  },
  {
   "cell_type": "code",
   "execution_count": null,
   "id": "e9840451",
   "metadata": {},
   "outputs": [],
   "source": [
    "fig, ax = plt.subplots(nrows=1, ncols=2)\n",
    "ax[0].semilogy(t, trA, label='tr(A)')\n",
    "ax[0].axhline(1, ls='--', label='$Stratch$')\n",
    "ax[0].axhline(1/n_links**0.5, ls=':', label='$Transistion$')\n",
    "ax[0].axhline(1/n_links, label='$Coil$')\n",
    "\n",
    "x = np.linspace(0,1)\n",
    "ax[0].semilogy(x, np.exp(2*x - np.log(n_links)), label='Affine')\n",
    "\n",
    "ax[0].legend()\n",
    "ax[0].set_xlabel('Time')\n",
    "ax[0].set_ylabel('Value')\n",
    "ax[0].set_title('Time series of the conformation tensor')\n",
    "\n",
    "\n",
    "for g_max in observables['g_max'][0:1]:\n",
    "    ax[1].semilogy(t, 8*g_max/n_links**2)\n",
    "#ax[1].hist([REEs[:,0], REEs[:,1], REEs[:,2]], bins=bins, density=True, label=['x','y','z'])\n",
    "#ax[1].legend()\n",
    "#ax[1].set_title('Final end-to-end vectors distribution')\n",
    "plt.show()"
   ]
  },
  {
   "cell_type": "code",
   "execution_count": null,
   "id": "e1280bb0",
   "metadata": {},
   "outputs": [],
   "source": [
    "gradUt = gradU(t)\n",
    "plt.plot(gradUt[:,0,0], trA, '.', alpha=0.002)\n",
    "plt.axhline(n_links**1.5, ls=':', label='$N^{1.5}$')"
   ]
  },
  {
   "cell_type": "code",
   "execution_count": null,
   "id": "ab30b07f",
   "metadata": {},
   "outputs": [],
   "source": [
    "0.52/0.5*0.0142"
   ]
  },
  {
   "cell_type": "markdown",
   "id": "a8b190a4",
   "metadata": {},
   "source": [
    "We can see that the average square length, tr(A), is constraint by (n_links)²."
   ]
  },
  {
   "cell_type": "markdown",
   "id": "62bc5b55",
   "metadata": {},
   "source": [
    "## Stress\n",
    "We now examine the stress tensor."
   ]
  },
  {
   "cell_type": "code",
   "execution_count": null,
   "id": "b6d3435a",
   "metadata": {},
   "outputs": [],
   "source": [
    "S = observables['S_average']\n",
    "trS = np.trace(S, axis1=1, axis2=2)\n",
    "\n",
    "fig, ax = plt.subplots(nrows=1, ncols=2)\n",
    "ax[0].semilogy(t, trS, label='tr(S)')\n",
    "ax[0].semilogy(t, S[:,0,0], label='Sxx)')\n",
    "ax[0].set_title('Log Trace Stress')\n",
    "ax[0].set_xlabel('Time')\n",
    "ax[0].legend()\n",
    "ax[1].plot(t, S[:,0,0], label='Sxx')\n",
    "ax[1].plot(t, S[:,0,1], label='Sxy')\n",
    "ax[1].plot(t, S[:,1,1], label='Syy')\n",
    "ax[1].legend()\n",
    "ax[1].set_xlabel('Time')\n",
    "ax[1].set_title('Stress tensor')\n",
    "plt.show()"
   ]
  },
  {
   "cell_type": "markdown",
   "id": "b170b865",
   "metadata": {},
   "source": [
    "A few remarks:\n",
    "1. The stress is composed of a viscous part and visco-elastic part. When the flow is turned off, the viscous part vanishes instantaneously, while the viscoelastic part is relaxed over time.\n",
    "2. The noise is very important with this estimator due to the rigid constaint."
   ]
  },
  {
   "cell_type": "code",
   "execution_count": null,
   "id": "60044f8e",
   "metadata": {},
   "outputs": [],
   "source": [
    "0.5/0.55*0.0148"
   ]
  },
  {
   "cell_type": "code",
   "execution_count": null,
   "id": "733bf803",
   "metadata": {},
   "outputs": [],
   "source": []
  }
 ],
 "metadata": {
  "kernelspec": {
   "display_name": "Python 3 (ipykernel)",
   "language": "python",
   "name": "python3"
  },
  "language_info": {
   "codemirror_mode": {
    "name": "ipython",
    "version": 3
   },
   "file_extension": ".py",
   "mimetype": "text/x-python",
   "name": "python",
   "nbconvert_exporter": "python",
   "pygments_lexer": "ipython3",
   "version": "3.8.10"
  }
 },
 "nbformat": 4,
 "nbformat_minor": 5
}
