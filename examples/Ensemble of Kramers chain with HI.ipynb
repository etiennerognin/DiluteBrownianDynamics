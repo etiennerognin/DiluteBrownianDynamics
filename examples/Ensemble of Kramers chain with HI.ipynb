{
 "cells": [
  {
   "cell_type": "markdown",
   "id": "ffe295f8",
   "metadata": {},
   "source": [
    "# Ensemble of Kramers chain with excluded volume (EV) and hydrodynamic interactions (HI)\n",
    "\n"
   ]
  },
  {
   "cell_type": "code",
   "execution_count": 1,
   "id": "e200af8f",
   "metadata": {},
   "outputs": [],
   "source": [
    "import numpy as np\n",
    "from dilutebrowniandynamics.simulate import simulate_batch\n",
    "from dilutebrowniandynamics.molecules.Kramers_chain_EVHI import KramersChainEVHI\n",
    "from dilutebrowniandynamics.molecules.adaptive_Kramers_chain import AdaptiveKramersChain\n",
    "from tqdm.notebook import trange\n",
    "\n",
    "import matplotlib.pyplot as plt"
   ]
  },
  {
   "cell_type": "markdown",
   "id": "908a42b7",
   "metadata": {},
   "source": [
    "## Parameters definition"
   ]
  },
  {
   "cell_type": "code",
   "execution_count": 2,
   "id": "09eb77c4",
   "metadata": {},
   "outputs": [],
   "source": [
    "n_ensemble = 16     # Number of molecules to simulate\n",
    "n_links = 100      # Number of segments in the Kramers chain\n",
    "\n",
    "n_proc = 16         # Number of processor cores to use\n",
    "\n",
    "output_file = 'outputs/sandpit'"
   ]
  },
  {
   "cell_type": "markdown",
   "id": "3f05c5d5",
   "metadata": {},
   "source": [
    "## Initialise molecules\n",
    "Here we just draw random vectors from a normal distribution and rescale to unit vectors. To do this with call `from_normal_distribution` constructor. For now we set `h_star` to zero."
   ]
  },
  {
   "cell_type": "code",
   "execution_count": 3,
   "id": "9bc61b6c",
   "metadata": {},
   "outputs": [],
   "source": [
    "seq = np.random.SeedSequence(2022)\n",
    "seeds = seq.spawn(n_ensemble)\n",
    "# Starting vectors\n",
    "molecules = [KramersChainEVHI.from_normal_distribution(n_links, h_star=0., EVheight=0., EVsigma=0., seed=seed)\n",
    "             for seed in seeds]\n",
    "\n",
    "seq = np.random.SeedSequence(2022)\n",
    "seeds = seq.spawn(n_ensemble)\n",
    "# Starting vectors\n",
    "molecules_free = [AdaptiveKramersChain.from_normal_distribution(n_links, seed=seed)\n",
    "                  for seed in seeds]"
   ]
  },
  {
   "cell_type": "markdown",
   "id": "dd23f15d",
   "metadata": {},
   "source": [
    "## Initial relaxation\n",
    "Thermalisation step."
   ]
  },
  {
   "cell_type": "code",
   "execution_count": 4,
   "id": "98624d39",
   "metadata": {},
   "outputs": [
    {
     "name": "stdout",
     "output_type": "stream",
     "text": [
      "Physical time to compute: 1.0\n",
      "Calculation started on 16 cores.\n"
     ]
    },
    {
     "name": "stderr",
     "output_type": "stream",
     "text": [
      "100%|██████████| 16/16 [00:01<00:00, 10.98it/s]"
     ]
    },
    {
     "name": "stdout",
     "output_type": "stream",
     "text": [
      "Physical time to compute: 1.0\n"
     ]
    },
    {
     "name": "stderr",
     "output_type": "stream",
     "text": [
      "\n"
     ]
    },
    {
     "name": "stdout",
     "output_type": "stream",
     "text": [
      "Calculation started on 16 cores.\n"
     ]
    },
    {
     "name": "stderr",
     "output_type": "stream",
     "text": [
      "100%|██████████| 16/16 [00:01<00:00,  9.58it/s]\n"
     ]
    }
   ],
   "source": [
    "n_steps = 100       # Number of time steps to record\n",
    "gradU = np.zeros((3, 3))\n",
    "dt = .01           # Time step value (dimensionless)\n",
    "simulate_batch(molecules, gradU, dt, n_steps, write_interval=1, n_proc=n_proc);\n",
    "simulate_batch(molecules_free, gradU, dt, n_steps, write_interval=1, n_proc=n_proc);"
   ]
  },
  {
   "cell_type": "markdown",
   "id": "fed40e35",
   "metadata": {},
   "source": [
    "## HI testing\n",
    "\n",
    "Now we need to set `h_star` back to a non-zero value:"
   ]
  },
  {
   "cell_type": "code",
   "execution_count": 5,
   "id": "af8848b9",
   "metadata": {},
   "outputs": [],
   "source": [
    "for molecule in molecules:\n",
    "    molecule.h_star = 0.2"
   ]
  },
  {
   "cell_type": "markdown",
   "id": "dc262bc0",
   "metadata": {},
   "source": [
    "then do another run"
   ]
  },
  {
   "cell_type": "code",
   "execution_count": null,
   "id": "fcd6f930",
   "metadata": {},
   "outputs": [
    {
     "name": "stdout",
     "output_type": "stream",
     "text": [
      "Physical time to compute: 5.0\n",
      "Calculation started on 16 cores.\n"
     ]
    },
    {
     "name": "stderr",
     "output_type": "stream",
     "text": [
      "\r",
      "  0%|          | 0/16 [00:00<?, ?it/s]"
     ]
    }
   ],
   "source": [
    "n_steps = 500       # Number of time steps to record\n",
    "gradU = np.diag([1., -.5, -.5])\n",
    "observables, _ = simulate_batch(molecules, gradU, dt, n_steps, write_interval=1, n_proc=n_proc)\n",
    "observables_free, _ = simulate_batch(molecules_free, gradU, dt, n_steps, write_interval=1, n_proc=n_proc)"
   ]
  },
  {
   "cell_type": "code",
   "execution_count": null,
   "id": "c54e0f0c",
   "metadata": {},
   "outputs": [],
   "source": [
    "t = np.arange(n_steps)*dt\n",
    "A = observables['A_average']\n",
    "trA = np.trace(A, axis1=1, axis2=2)\n",
    "S = observables['S_average']\n",
    "trS = np.trace(S, axis1=1, axis2=2)\n",
    "\n",
    "A_free = observables_free['A_average']\n",
    "trA_free = np.trace(A_free, axis1=1, axis2=2)\n",
    "S_free = observables_free['S_average']\n",
    "trS_free = np.trace(S_free, axis1=1, axis2=2)\n",
    "\n",
    "plt.rcParams['figure.figsize'] = [15, 5]\n",
    "fig, ax = plt.subplots(nrows=1, ncols=2)\n",
    "\n",
    "ax[0].plot(t, trA, label='HI')\n",
    "ax[0].plot(t, trA_free, label='Free draining')\n",
    "ax[0].set_title('Conforation')\n",
    "ax[0].legend()\n",
    "\n",
    "ax[1].plot(t, trS, label='HI')\n",
    "ax[1].plot(t, trS_free, label='Free draining')\n",
    "ax[1].set_title('Stree')\n",
    "ax[1].legend()"
   ]
  },
  {
   "cell_type": "code",
   "execution_count": null,
   "id": "57c87960",
   "metadata": {},
   "outputs": [],
   "source": []
  }
 ],
 "metadata": {
  "kernelspec": {
   "display_name": "Python 3",
   "language": "python",
   "name": "python3"
  },
  "language_info": {
   "codemirror_mode": {
    "name": "ipython",
    "version": 3
   },
   "file_extension": ".py",
   "mimetype": "text/x-python",
   "name": "python",
   "nbconvert_exporter": "python",
   "pygments_lexer": "ipython3",
   "version": "3.7.8"
  }
 },
 "nbformat": 4,
 "nbformat_minor": 5
}
