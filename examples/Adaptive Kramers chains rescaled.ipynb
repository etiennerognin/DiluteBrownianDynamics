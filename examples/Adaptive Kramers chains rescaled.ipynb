{
 "cells": [
  {
   "cell_type": "markdown",
   "id": "6cb240e2",
   "metadata": {},
   "source": [
    "# Adaptive Kramers chains rescaled\n",
    "\n",
    "Here we want to see if the longest relaxation time is given by (Doyle et al. 1997):\n",
    "\n",
    "$$\n",
    "Wi = 0.0142 N^2 Pe\n",
    "$$\n",
    "\n",
    "In fact we are interested in whether we see a coil-stretch transition at $Wi=0.5$. It seems to be the case if we consider the coil-stretch transition as a change in order of magnitude of polymer extention. In terms of number of links $N$, at equilibirum $\\langle R^2\\rangle \\sim N$, and fully stretch $\\langle R^2\\rangle \\sim N^2$. So we define the coil-stretch transistion happening for $Wi$ so that $\\langle R^2\\rangle \\sim N^{3/2}$.\n"
   ]
  },
  {
   "cell_type": "code",
   "execution_count": 1,
   "id": "e200af8f",
   "metadata": {},
   "outputs": [],
   "source": [
    "import numpy as np\n",
    "from dilutebrowniandynamics.simulate import simulate_batch\n",
    "from dilutebrowniandynamics.molecules.adaptive_Kramers_chain import AdaptiveKramersChain"
   ]
  },
  {
   "cell_type": "markdown",
   "id": "908a42b7",
   "metadata": {},
   "source": [
    "## Parameters definition"
   ]
  },
  {
   "cell_type": "code",
   "execution_count": 2,
   "id": "09eb77c4",
   "metadata": {},
   "outputs": [],
   "source": [
    "n_links = 64       # Number of segments in the Kramers chain\n",
    "n_ensemble = 16     # Number of molecules to simulate\n",
    "n_proc = 4         # Number of processor cores to use\n",
    "\n",
    "output_file = 'outputs/sandpit'"
   ]
  },
  {
   "cell_type": "markdown",
   "id": "3f05c5d5",
   "metadata": {},
   "source": [
    "## Initialise molecules\n",
    "Here we just draw random vectors from a normal distribution and rescale to unit vectors. To do this with call `from_normal_distribution` constructor. "
   ]
  },
  {
   "cell_type": "code",
   "execution_count": 3,
   "id": "9bc61b6c",
   "metadata": {},
   "outputs": [],
   "source": [
    "seq = np.random.SeedSequence(2022)\n",
    "seeds = seq.spawn(n_ensemble)\n",
    "# Starting vectors\n",
    "molecules = [AdaptiveKramersChain.from_normal_distribution(n_links, seed)\n",
    "             for seed in seeds]"
   ]
  },
  {
   "cell_type": "markdown",
   "id": "dd23f15d",
   "metadata": {},
   "source": [
    "## Initial relaxation\n",
    "Thermalisation step."
   ]
  },
  {
   "cell_type": "code",
   "execution_count": 4,
   "id": "98624d39",
   "metadata": {},
   "outputs": [
    {
     "name": "stdout",
     "output_type": "stream",
     "text": [
      "Physical time to compute: 20.0\n",
      "Calculation started on 4 cores.\n"
     ]
    },
    {
     "name": "stderr",
     "output_type": "stream",
     "text": [
      "100%|███████████████████████████████████████████| 16/16 [00:05<00:00,  2.78it/s]\n"
     ]
    }
   ],
   "source": [
    "gradU = np.zeros((3, 3))\n",
    "n_steps = 2000     # Number of time steps to record\n",
    "dt = .01           # Time step value (dimensionless)\n",
    "write_interval = 100\n",
    "observables, molecules_out = simulate_batch(molecules, gradU, dt, n_steps, write_interval=write_interval, n_proc=n_proc)"
   ]
  },
  {
   "cell_type": "markdown",
   "id": "3bf21b6e",
   "metadata": {},
   "source": [
    "We can investigate the chains distribution."
   ]
  },
  {
   "cell_type": "code",
   "execution_count": 5,
   "id": "e83fdfaf",
   "metadata": {},
   "outputs": [
    {
     "data": {
      "image/png": "[encoded data removed]",
      "text/plain": [
       "<Figure size 1080x360 with 2 Axes>"
      ]
     },
     "metadata": {
      "needs_background": "light"
     },
     "output_type": "display_data"
    }
   ],
   "source": [
    "t = np.arange(n_steps//write_interval)*dt*write_interval\n",
    "A = observables['A_average']\n",
    "trA = np.trace(A, axis1=1, axis2=2)\n",
    "REEs = np.array([molecule.REE for molecule in molecules_out])\n",
    "\n",
    "import matplotlib.pyplot as plt\n",
    "plt.rcParams['figure.figsize'] = [15, 5]\n",
    "fig, ax = plt.subplots(nrows=1, ncols=2)\n",
    "ax[0].plot(t, trA, label='tr(A)')\n",
    "ax[0].plot(t, A[:,0,0], label='Axx')\n",
    "ax[0].plot(t, A[:,0,1], label='Axy')\n",
    "ax[0].plot(t, A[:,0,2], label='Axz')\n",
    "ax[0].plot(t, A[:,1,1], label='Ayy')\n",
    "ax[0].plot(t, A[:,1,2], label='Ayz')\n",
    "ax[0].plot(t, A[:,2,2], label='Azz')\n",
    "ax[0].legend()\n",
    "ax[0].set_xlabel('Time')\n",
    "ax[0].set_ylabel('Value')\n",
    "ax[0].set_title('Time series of the conformation tensor')\n",
    "bins = int(np.sqrt(n_ensemble))\n",
    "ax[1].hist([REEs[:,0], REEs[:,1], REEs[:,2]], bins=bins, density=True, label=['x','y','z'])\n",
    "ax[1].legend()\n",
    "ax[1].set_title('Final end-to-end vectors distribution')\n",
    "plt.show()"
   ]
  },
  {
   "cell_type": "markdown",
   "id": "0c2297b8",
   "metadata": {},
   "source": [
    "## Simulation\n",
    "Now let's simulate a sudden uniaxial elongation followed by relaxation. We first define a callable `gradU` function for this scenario."
   ]
  },
  {
   "cell_type": "code",
   "execution_count": 6,
   "id": "1b821b29",
   "metadata": {},
   "outputs": [],
   "source": [
    "from scipy.interpolate import interp1d\n",
    "\n",
    "# series of Weissenberg numbers\n",
    "Wis = np.linspace(0.45, 0.55, 3)\n",
    "# Hence Péclet numbers\n",
    "Pes = Wis/(0.0142*n_links**2)\n",
    "# Hencky strain\n",
    "H = 10\n",
    "\n",
    "t_base = []\n",
    "gradU_base = []\n",
    "t0 = 0\n",
    "for Pe in Pes:\n",
    "    t_base.append(t0)\n",
    "    gradU_base.append(Pe*np.diag([1, -.5, -.5]))\n",
    "    t0 = t0 + H/Pe\n",
    "t_base.append(t0)\n",
    "gradU_base.append(Pes[-1]*np.diag([1, -.5, -.5]))\n",
    "gradU = interp1d(t_base, gradU_base, axis=0, kind='previous', bounds_error=False, \n",
    "                 fill_value=(gradU_base[0], gradU_base[-1]), assume_sorted=True)"
   ]
  },
  {
   "cell_type": "code",
   "execution_count": 7,
   "id": "8bc9e8c5",
   "metadata": {},
   "outputs": [
    {
     "name": "stdout",
     "output_type": "stream",
     "text": [
      "Length of time series: 3513\n",
      "Physical time to compute: 3513.29\n",
      "Calculation started on 4 cores.\n"
     ]
    },
    {
     "name": "stderr",
     "output_type": "stream",
     "text": [
      "  0%|                                                    | 0/16 [00:39<?, ?it/s]Process ForkPoolWorker-8:\n",
      "Process ForkPoolWorker-7:\n",
      "Process ForkPoolWorker-5:\n",
      "Process ForkPoolWorker-6:\n",
      "Traceback (most recent call last):\n",
      "\n"
     ]
    },
    {
     "ename": "KeyboardInterrupt",
     "evalue": "",
     "output_type": "error",
     "traceback": [
      "\u001b[0;31m---------------------------------------------------------------------------\u001b[0m",
      "\u001b[0;31mIndexError\u001b[0m                                Traceback (most recent call last)",
      "\u001b[0;32m/usr/lib/python3.8/multiprocessing/pool.py\u001b[0m in \u001b[0;36mnext\u001b[0;34m(self, timeout)\u001b[0m\n\u001b[1;32m    850\u001b[0m             \u001b[0;32mtry\u001b[0m\u001b[0;34m:\u001b[0m\u001b[0;34m\u001b[0m\u001b[0;34m\u001b[0m\u001b[0m\n\u001b[0;32m--> 851\u001b[0;31m                 \u001b[0mitem\u001b[0m \u001b[0;34m=\u001b[0m \u001b[0mself\u001b[0m\u001b[0;34m.\u001b[0m\u001b[0m_items\u001b[0m\u001b[0;34m.\u001b[0m\u001b[0mpopleft\u001b[0m\u001b[0;34m(\u001b[0m\u001b[0;34m)\u001b[0m\u001b[0;34m\u001b[0m\u001b[0;34m\u001b[0m\u001b[0m\n\u001b[0m\u001b[1;32m    852\u001b[0m             \u001b[0;32mexcept\u001b[0m \u001b[0mIndexError\u001b[0m\u001b[0;34m:\u001b[0m\u001b[0;34m\u001b[0m\u001b[0;34m\u001b[0m\u001b[0m\n",
      "\u001b[0;31mIndexError\u001b[0m: pop from an empty deque",
      "\nDuring handling of the above exception, another exception occurred:\n",
      "\u001b[0;31mKeyboardInterrupt\u001b[0m                         Traceback (most recent call last)",
      "\u001b[0;32m/tmp/ipykernel_11239/1970443874.py\u001b[0m in \u001b[0;36m<module>\u001b[0;34m\u001b[0m\n\u001b[1;32m      3\u001b[0m \u001b[0mwrite_interval\u001b[0m \u001b[0;34m=\u001b[0m \u001b[0;36m100\u001b[0m\u001b[0;34m\u001b[0m\u001b[0;34m\u001b[0m\u001b[0m\n\u001b[1;32m      4\u001b[0m \u001b[0mprint\u001b[0m\u001b[0;34m(\u001b[0m\u001b[0;34mf\"Length of time series: {n_steps//write_interval}\"\u001b[0m\u001b[0;34m)\u001b[0m\u001b[0;34m\u001b[0m\u001b[0;34m\u001b[0m\u001b[0m\n\u001b[0;32m----> 5\u001b[0;31m \u001b[0mobservables\u001b[0m\u001b[0;34m,\u001b[0m \u001b[0mmolecules_out\u001b[0m \u001b[0;34m=\u001b[0m \u001b[0msimulate_batch\u001b[0m\u001b[0;34m(\u001b[0m\u001b[0mmolecules_out\u001b[0m\u001b[0;34m,\u001b[0m \u001b[0mgradU\u001b[0m\u001b[0;34m,\u001b[0m \u001b[0mdt\u001b[0m\u001b[0;34m,\u001b[0m \u001b[0mn_steps\u001b[0m\u001b[0;34m,\u001b[0m \u001b[0mwrite_interval\u001b[0m\u001b[0;34m=\u001b[0m\u001b[0mwrite_interval\u001b[0m\u001b[0;34m,\u001b[0m \u001b[0mn_proc\u001b[0m\u001b[0;34m=\u001b[0m\u001b[0mn_proc\u001b[0m\u001b[0;34m)\u001b[0m\u001b[0;34m\u001b[0m\u001b[0;34m\u001b[0m\u001b[0m\n\u001b[0m",
      "\u001b[0;32m~/.local/lib/python3.8/site-packages/dilutebrowniandynamics/simulate.py\u001b[0m in \u001b[0;36msimulate_batch\u001b[0;34m(molecules, gradU, dt, n_steps, write_interval, no_average, n_proc)\u001b[0m\n\u001b[1;32m     55\u001b[0m     \u001b[0;32mwith\u001b[0m \u001b[0mPool\u001b[0m\u001b[0;34m(\u001b[0m\u001b[0mn_proc\u001b[0m\u001b[0;34m)\u001b[0m \u001b[0;32mas\u001b[0m \u001b[0mp\u001b[0m\u001b[0;34m:\u001b[0m\u001b[0;34m\u001b[0m\u001b[0;34m\u001b[0m\u001b[0m\n\u001b[1;32m     56\u001b[0m         \u001b[0mprint\u001b[0m\u001b[0;34m(\u001b[0m\u001b[0;34m\"Calculation started on {} cores.\"\u001b[0m\u001b[0;34m.\u001b[0m\u001b[0mformat\u001b[0m\u001b[0;34m(\u001b[0m\u001b[0mn_proc\u001b[0m\u001b[0;34m)\u001b[0m\u001b[0;34m)\u001b[0m\u001b[0;34m\u001b[0m\u001b[0;34m\u001b[0m\u001b[0m\n\u001b[0;32m---> 57\u001b[0;31m         results = list(tqdm.tqdm(p.imap(simulate_para, molecules),\n\u001b[0m\u001b[1;32m     58\u001b[0m                                  total=n_ensemble))\n\u001b[1;32m     59\u001b[0m \u001b[0;34m\u001b[0m\u001b[0m\n",
      "\u001b[0;32m~/.local/lib/python3.8/site-packages/tqdm/std.py\u001b[0m in \u001b[0;36m__iter__\u001b[0;34m(self)\u001b[0m\n\u001b[1;32m   1178\u001b[0m \u001b[0;34m\u001b[0m\u001b[0m\n\u001b[1;32m   1179\u001b[0m         \u001b[0;32mtry\u001b[0m\u001b[0;34m:\u001b[0m\u001b[0;34m\u001b[0m\u001b[0;34m\u001b[0m\u001b[0m\n\u001b[0;32m-> 1180\u001b[0;31m             \u001b[0;32mfor\u001b[0m \u001b[0mobj\u001b[0m \u001b[0;32min\u001b[0m \u001b[0miterable\u001b[0m\u001b[0;34m:\u001b[0m\u001b[0;34m\u001b[0m\u001b[0;34m\u001b[0m\u001b[0m\n\u001b[0m\u001b[1;32m   1181\u001b[0m                 \u001b[0;32myield\u001b[0m \u001b[0mobj\u001b[0m\u001b[0;34m\u001b[0m\u001b[0;34m\u001b[0m\u001b[0m\n\u001b[1;32m   1182\u001b[0m                 \u001b[0;31m# Update and possibly print the progressbar.\u001b[0m\u001b[0;34m\u001b[0m\u001b[0;34m\u001b[0m\u001b[0;34m\u001b[0m\u001b[0m\n",
      "\u001b[0;32m/usr/lib/python3.8/multiprocessing/pool.py\u001b[0m in \u001b[0;36mnext\u001b[0;34m(self, timeout)\u001b[0m\n\u001b[1;32m    854\u001b[0m                     \u001b[0mself\u001b[0m\u001b[0;34m.\u001b[0m\u001b[0m_pool\u001b[0m \u001b[0;34m=\u001b[0m \u001b[0;32mNone\u001b[0m\u001b[0;34m\u001b[0m\u001b[0;34m\u001b[0m\u001b[0m\n\u001b[1;32m    855\u001b[0m                     \u001b[0;32mraise\u001b[0m \u001b[0mStopIteration\u001b[0m \u001b[0;32mfrom\u001b[0m \u001b[0;32mNone\u001b[0m\u001b[0;34m\u001b[0m\u001b[0;34m\u001b[0m\u001b[0m\n\u001b[0;32m--> 856\u001b[0;31m                 \u001b[0mself\u001b[0m\u001b[0;34m.\u001b[0m\u001b[0m_cond\u001b[0m\u001b[0;34m.\u001b[0m\u001b[0mwait\u001b[0m\u001b[0;34m(\u001b[0m\u001b[0mtimeout\u001b[0m\u001b[0;34m)\u001b[0m\u001b[0;34m\u001b[0m\u001b[0;34m\u001b[0m\u001b[0m\n\u001b[0m\u001b[1;32m    857\u001b[0m                 \u001b[0;32mtry\u001b[0m\u001b[0;34m:\u001b[0m\u001b[0;34m\u001b[0m\u001b[0;34m\u001b[0m\u001b[0m\n\u001b[1;32m    858\u001b[0m                     \u001b[0mitem\u001b[0m \u001b[0;34m=\u001b[0m \u001b[0mself\u001b[0m\u001b[0;34m.\u001b[0m\u001b[0m_items\u001b[0m\u001b[0;34m.\u001b[0m\u001b[0mpopleft\u001b[0m\u001b[0;34m(\u001b[0m\u001b[0;34m)\u001b[0m\u001b[0;34m\u001b[0m\u001b[0;34m\u001b[0m\u001b[0m\n",
      "\u001b[0;32m/usr/lib/python3.8/threading.py\u001b[0m in \u001b[0;36mwait\u001b[0;34m(self, timeout)\u001b[0m\n\u001b[1;32m    300\u001b[0m         \u001b[0;32mtry\u001b[0m\u001b[0;34m:\u001b[0m    \u001b[0;31m# restore state no matter what (e.g., KeyboardInterrupt)\u001b[0m\u001b[0;34m\u001b[0m\u001b[0;34m\u001b[0m\u001b[0m\n\u001b[1;32m    301\u001b[0m             \u001b[0;32mif\u001b[0m \u001b[0mtimeout\u001b[0m \u001b[0;32mis\u001b[0m \u001b[0;32mNone\u001b[0m\u001b[0;34m:\u001b[0m\u001b[0;34m\u001b[0m\u001b[0;34m\u001b[0m\u001b[0m\n\u001b[0;32m--> 302\u001b[0;31m                 \u001b[0mwaiter\u001b[0m\u001b[0;34m.\u001b[0m\u001b[0macquire\u001b[0m\u001b[0;34m(\u001b[0m\u001b[0;34m)\u001b[0m\u001b[0;34m\u001b[0m\u001b[0;34m\u001b[0m\u001b[0m\n\u001b[0m\u001b[1;32m    303\u001b[0m                 \u001b[0mgotit\u001b[0m \u001b[0;34m=\u001b[0m \u001b[0;32mTrue\u001b[0m\u001b[0;34m\u001b[0m\u001b[0;34m\u001b[0m\u001b[0m\n\u001b[1;32m    304\u001b[0m             \u001b[0;32melse\u001b[0m\u001b[0;34m:\u001b[0m\u001b[0;34m\u001b[0m\u001b[0;34m\u001b[0m\u001b[0m\n",
      "\u001b[0;31mKeyboardInterrupt\u001b[0m: "
     ]
    }
   ],
   "source": [
    "n_steps = int(t0/dt)\n",
    "dt = .01           \n",
    "write_interval = 100\n",
    "print(f\"Length of time series: {n_steps//write_interval}\")\n",
    "observables, molecules_out = simulate_batch(molecules_out, gradU, dt, n_steps, write_interval=write_interval, n_proc=n_proc)"
   ]
  },
  {
   "cell_type": "code",
   "execution_count": null,
   "id": "41143ba7",
   "metadata": {},
   "outputs": [],
   "source": [
    "t = np.arange(n_steps//write_interval)*dt*write_interval\n",
    "A = observables['A_average']\n",
    "trA = np.trace(A, axis1=1, axis2=2)\n",
    "REEs = np.array([molecule.REE for molecule in molecules_out])"
   ]
  },
  {
   "cell_type": "code",
   "execution_count": null,
   "id": "e9840451",
   "metadata": {},
   "outputs": [],
   "source": [
    "fig, ax = plt.subplots(nrows=1, ncols=2)\n",
    "ax[0].semilogy(t, trA, label='tr(A)')\n",
    "#ax[0].semilogy(t, A[:,0,0], label='Axx')\n",
    "#ax[0].semilogy(t, A[:,0,1], label='Axy')\n",
    "#ax[0].semilogy(t, A[:,0,2], label='Axz')\n",
    "#ax[0].semilogy(t, A[:,1,1], label='Ayy')\n",
    "#ax[0].semilogy(t, A[:,1,2], label='Ayz')\n",
    "#ax[0].semilogy(t, A[:,2,2], label='Azz')\n",
    "ax[0].axhline(n_links**2, ls='--', label='$N^2$')\n",
    "ax[0].axhline(n_links**1.5, ls=':', label='$N^{1.5}$')\n",
    "ax[0].axhline(n_links, label='$N$')\n",
    "ax[0].legend()\n",
    "ax[0].set_xlabel('Time')\n",
    "ax[0].set_ylabel('Value')\n",
    "ax[0].set_title('Time series of the conformation tensor')\n",
    "bins = int(np.sqrt(n_ensemble))\n",
    "#ax[1].hist([REEs[:,0], REEs[:,1], REEs[:,2]], bins=bins, density=True, label=['x','y','z'])\n",
    "#ax[1].legend()\n",
    "#ax[1].set_title('Final end-to-end vectors distribution')\n",
    "plt.show()"
   ]
  },
  {
   "cell_type": "code",
   "execution_count": null,
   "id": "e1280bb0",
   "metadata": {},
   "outputs": [],
   "source": [
    "gradUt = gradU(t)\n",
    "plt.plot(gradUt[:,0,0], trA, '.', alpha=0.002)\n",
    "plt.axhline(n_links**1.5, ls=':', label='$N^{1.5}$')"
   ]
  },
  {
   "cell_type": "code",
   "execution_count": null,
   "id": "ab30b07f",
   "metadata": {},
   "outputs": [],
   "source": [
    "0.52/0.5*0.0142"
   ]
  },
  {
   "cell_type": "markdown",
   "id": "a8b190a4",
   "metadata": {},
   "source": [
    "We can see that the average square length, tr(A), is constraint by (n_links)²."
   ]
  },
  {
   "cell_type": "markdown",
   "id": "62bc5b55",
   "metadata": {},
   "source": [
    "## Stress\n",
    "We now examine the stress tensor."
   ]
  },
  {
   "cell_type": "code",
   "execution_count": null,
   "id": "b6d3435a",
   "metadata": {},
   "outputs": [],
   "source": [
    "S = observables['S_average']\n",
    "trS = np.trace(S, axis1=1, axis2=2)\n",
    "\n",
    "fig, ax = plt.subplots(nrows=1, ncols=2)\n",
    "ax[0].semilogy(t, trS, label='tr(S)')\n",
    "ax[0].semilogy(t, S[:,0,0], label='Sxx)')\n",
    "ax[0].set_title('Log Trace Stress')\n",
    "ax[0].set_xlabel('Time')\n",
    "ax[0].legend()\n",
    "ax[1].plot(t, S[:,0,0], label='Sxx')\n",
    "ax[1].plot(t, S[:,0,1], label='Sxy')\n",
    "ax[1].plot(t, S[:,1,1], label='Syy')\n",
    "ax[1].legend()\n",
    "ax[1].set_xlabel('Time')\n",
    "ax[1].set_title('Stress tensor')\n",
    "plt.show()"
   ]
  },
  {
   "cell_type": "markdown",
   "id": "b170b865",
   "metadata": {},
   "source": [
    "A few remarks:\n",
    "1. The stress is composed of a viscous part and visco-elastic part. When the flow is turned off, the viscous part vanishes instantaneously, while the viscoelastic part is relaxed over time.\n",
    "2. The noise is very important with this estimator due to the rigid constaint."
   ]
  },
  {
   "cell_type": "code",
   "execution_count": null,
   "id": "60044f8e",
   "metadata": {},
   "outputs": [],
   "source": [
    "0.5/0.55*0.0148"
   ]
  },
  {
   "cell_type": "code",
   "execution_count": null,
   "id": "733bf803",
   "metadata": {},
   "outputs": [],
   "source": []
  }
 ],
 "metadata": {
  "kernelspec": {
   "display_name": "Python 3 (ipykernel)",
   "language": "python",
   "name": "python3"
  },
  "language_info": {
   "codemirror_mode": {
    "name": "ipython",
    "version": 3
   },
   "file_extension": ".py",
   "mimetype": "text/x-python",
   "name": "python",
   "nbconvert_exporter": "python",
   "pygments_lexer": "ipython3",
   "version": "3.8.10"
  }
 },
 "nbformat": 4,
 "nbformat_minor": 5
}
