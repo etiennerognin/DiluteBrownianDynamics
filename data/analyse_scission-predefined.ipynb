{
 "cells": [
  {
   "cell_type": "markdown",
   "id": "2707231d-094d-491c-818d-babb870f3768",
   "metadata": {},
   "source": [
    "# Analyse scission - predefined model\n",
    "\n",
    "Here we are going to assume that the scission rate is given by:\n",
    "$$\n",
    "k = \\alpha |\\mathrm{tr}(A \\nabla U)|^\\beta \\mathrm{tr}(A)^\\gamma\n",
    "$$\n",
    "and we will use available data to fit the model parameters.\n"
   ]
  },
  {
   "cell_type": "code",
   "execution_count": 1,
   "id": "a3a78a28-dc84-49f4-a0be-e88c33e0b69c",
   "metadata": {},
   "outputs": [],
   "source": [
    "import numpy as np\n",
    "from matsindy.feature_library import FeatureLibrary\n",
    "\n",
    "from ipywidgets import interactive, fixed\n",
    "import ipywidgets as widgets\n",
    "%matplotlib inline\n",
    "import matplotlib.pyplot as plt\n",
    "from mpl_toolkits import mplot3d\n",
    "from matplotlib.pyplot import cm\n",
    "plt.rcParams['figure.figsize'] = [15, 8]"
   ]
  },
  {
   "cell_type": "markdown",
   "id": "d4cd1c61",
   "metadata": {},
   "source": [
    "## Datasets selection"
   ]
  },
  {
   "cell_type": "code",
   "execution_count": 23,
   "id": "96801b73",
   "metadata": {},
   "outputs": [],
   "source": [
    "Wi_max = 1000                       # Peak Weissenberg number in simulations\n",
    "n_links = 100                      # Number of segments in the Kramers chain\n",
    "n_ensemble = 1000                     # Number of molecules to simulate\n",
    "n_proc = 16                         # Number of processor cores to use\n",
    "seq = np.random.SeedSequence(2022)  # Random number seed\n",
    "\n",
    "# Input folder\n",
    "data_folder = 'outputs/Kramers'\n",
    "                    \n",
    "# Name: file\n",
    "scenarios = [\n",
    "    'turbulence_0',\n",
    "    'turbulence_1',\n",
    "    'turbulence_2',\n",
    "    'turbulence_3',\n",
    "    'turbulence_4',\n",
    "    'inkjet_0',\n",
    "    'inkjet_1',\n",
    "    'inkjet_2',\n",
    "    'inkjet_3',\n",
    "    'inkjet_4',\n",
    "    'contraction_0',\n",
    "    'contraction_1',\n",
    "    'contraction_2',\n",
    "    'contraction_3',\n",
    "    'contraction_4',\n",
    "    'contraction_5',\n",
    "    'contraction_6',\n",
    "    'elongation_0',\n",
    "    'random_0',\n",
    "    'random_1',\n",
    "    'random_2',\n",
    "    'random_3',\n",
    "    'random_4',\n",
    "    'sonication_0',\n",
    "    'sonication_1',\n",
    "    'sonication_2',\n",
    "    'sonication_3',\n",
    "    'sonication_4',\n",
    "]\n",
    "# Load data with rescaling\n",
    "dataset = {}\n",
    "for scenario in scenarios:\n",
    "    with np.load(f\"{data_folder}/{scenario}_Wi{Wi_max}_nlinks{n_links}_nmol{n_ensemble}.npz\") as data:\n",
    "        temp = dict(data)\n",
    "        # Rename and normalise variables\n",
    "        tau = 0.0142*n_links**2\n",
    "        temp['A'] = temp.pop('A_average')/n_links**2\n",
    "        temp['∇U'] = temp.pop('gradU')*tau\n",
    "        temp['t'] = temp['t']/tau\n",
    "        # Add transposed variables\n",
    "        temp['∇Uᵀ'] = np.transpose(temp['∇U'], axes=(0, 2, 1))\n",
    "        # Add features\n",
    "        temp['tr(A)'] = np.trace(temp['A'], axis1=1, axis2=2)\n",
    "        temp['tr(A∇U)'] = np.trace(temp['A']@temp['∇U'], axis1=1, axis2=2)\n",
    "        temp['tr(A∇U∇Uᵀ)'] = np.trace(temp['A']@temp['∇U']@temp['∇Uᵀ'], axis1=1, axis2=2)        \n",
    "        \n",
    "        # Flow properties\n",
    "        temp['epsilon_dot'] = np.linalg.eigvalsh(0.5*(temp['∇U'] + temp['∇Uᵀ']))\n",
    "        \n",
    "        # Effective principal strain rate\n",
    "        temp['w'] = temp['tr(A∇U)']/temp['tr(A)']\n",
    "        # Estimates of the Henky strain, one using principal strain rates, the other using polymer extension\n",
    "        h = np.zeros_like(temp['t'])\n",
    "        h_prime = np.zeros_like(temp['t'])\n",
    "        for i, dt in enumerate(np.diff(temp['t'])):\n",
    "            h[i+1] = (np.amax(temp['epsilon_dot'][i]) + h[i]/dt)/(1./dt + 1./1.)\n",
    "            #h_prime[i+1] = (temp['tr(A∇U)'][i]/temp['tr(A)'][i] + h_prime[i]/dt)/(1./dt + 1./1.)\n",
    "            h_prime[i+1] = temp['w'][i]*dt + h_prime[i]\n",
    "        temp['h'] = h\n",
    "        temp['h_prime'] = h_prime\n",
    "        \n",
    "        dgradU = np.zeros_like(temp['∇U'])\n",
    "        dgradU[1:] = np.diff(temp['∇U'], axis=0)/np.diff(temp['t'])[:, None, None]\n",
    "        temp['d∇U'] = dgradU\n",
    "        temp['tr(Ad∇U)'] = np.trace(temp['A']@temp['d∇U'], axis1=1, axis2=2)\n",
    "\n",
    "\n",
    "        # Save\n",
    "        dataset[scenario] = temp"
   ]
  },
  {
   "cell_type": "markdown",
   "id": "54203cea",
   "metadata": {},
   "source": [
    "## Simulate scission\n",
    "\n",
    "For an elongated chain, the maximum tension is at the centre and given by:\n",
    "$$\n",
    "g_\\max = Wi\\left(\\frac{N^2}{8} + \\frac{N}{2} \\right)\n",
    "$$\n",
    "So a critical tension corresponds to a critical Weissenberg number\n",
    "$$\n",
    "Wi_c = \\frac{g_c}{\\frac{N^2}{8} + \\frac{N}{2}}\n",
    "$$"
   ]
  },
  {
   "cell_type": "code",
   "execution_count": 28,
   "id": "83d219fc",
   "metadata": {},
   "outputs": [
    {
     "name": "stdout",
     "output_type": "stream",
     "text": [
      "880.2816901408451\n"
     ]
    },
    {
     "name": "stderr",
     "output_type": "stream",
     "text": [
      "/home/etienne/miniconda3/lib/python3.7/site-packages/ipykernel_launcher.py:32: RuntimeWarning: invalid value encountered in log\n",
      "/home/etienne/miniconda3/lib/python3.7/site-packages/ipykernel_launcher.py:33: RuntimeWarning: invalid value encountered in log\n",
      "/home/etienne/miniconda3/lib/python3.7/site-packages/ipykernel_launcher.py:32: RuntimeWarning: divide by zero encountered in log\n",
      "/home/etienne/miniconda3/lib/python3.7/site-packages/ipykernel_launcher.py:32: RuntimeWarning: invalid value encountered in true_divide\n",
      "/home/etienne/miniconda3/lib/python3.7/site-packages/ipykernel_launcher.py:33: RuntimeWarning: divide by zero encountered in log\n"
     ]
    }
   ],
   "source": [
    "Wi_c =  100\n",
    "threshold = Wi_c/(8*0.0142)\n",
    "print(threshold)\n",
    "\n",
    "for scenario, data in dataset.items():\n",
    "    population = np.zeros_like(data['t'])\n",
    "    for molecule in data['g_max']:\n",
    "        for i, g in enumerate(molecule):\n",
    "            if g < threshold:\n",
    "                population[i] += 1\n",
    "            else:\n",
    "                break\n",
    "    data['c'] = population/len(data['g_max'])\n",
    "    k = np.zeros_like(data['t'])\n",
    "    k[1:] = np.diff(-np.log(data['c']+1e-6))/np.diff(data['t'])\n",
    "    data['k'] = k\n",
    "    \n",
    "    # Smooth k using decrete cosine formulation\n",
    "    mirror = np.hstack((data['c'], np.flip(data['c'][1:])))\n",
    "    p_hat = np.fft.rfft(mirror)\n",
    "    f = np.fft.rfftfreq(len(mirror))\n",
    "    filter_ = np.exp(-(5*f)**2)\n",
    "    pop_smooth_m = np.fft.irfft(filter_*p_hat, n=len(mirror))\n",
    "    pop_smooth = pop_smooth_m[:len(data['c'])]\n",
    "    k_smooth = np.zeros_like(data['t'])\n",
    "    k_smooth[1:] = np.diff(-np.log(pop_smooth+1e-6))/np.diff(data['t'])\n",
    "    data['k_smooth'] = k_smooth\n",
    "    data['c_smooth'] = pop_smooth\n",
    "    \n",
    "    ## Simulation based on infinity Wi model:\n",
    "    w = data['w']/Wi_c*1.2\n",
    "    alpha = (0.5 + np.log(w)**2/4)/(1 + np.exp(-(np.log(w))/0.1))\n",
    "    beta = 0.5*np.log(n_links) - 0.22*np.log(w)\n",
    "    gamma = 0.14\n",
    "\n",
    "    minus_log_c = alpha*gamma*np.log((1+np.exp(-beta/gamma+(data['h_prime']+np.log(n_links)/12)/gamma)))\n",
    "    data['c_model'] = np.exp(-minus_log_c)\n",
    "    "
   ]
  },
  {
   "cell_type": "markdown",
   "id": "ed3511f4",
   "metadata": {},
   "source": [
    "Inspect the result:"
   ]
  },
  {
   "cell_type": "code",
   "execution_count": 29,
   "id": "dee03bae",
   "metadata": {},
   "outputs": [
    {
     "data": {
      "application/vnd.jupyter.widget-view+json": {
       "model_id": "7472ef662d83458385f6de95f47855f4",
       "version_major": 2,
       "version_minor": 0
      },
      "text/plain": [
       "interactive(children=(Dropdown(description='Scenario:', options=('turbulence_0', 'turbulence_1', 'turbulence_2…"
      ]
     },
     "metadata": {},
     "output_type": "display_data"
    }
   ],
   "source": [
    "def view_scission(scenario, zoom):\n",
    "    t = dataset[scenario]['t'][zoom[0]:zoom[1]]\n",
    "    \n",
    "    plt.rcParams['figure.figsize'] = [15, 15]\n",
    "    fig, ax = plt.subplots(nrows=4)\n",
    "    ax[0].plot(t, dataset[scenario]['c'][zoom[0]:zoom[1]])\n",
    "    ax[0].plot(t, dataset[scenario]['c_model'][zoom[0]:zoom[1]], '--')\n",
    "    ax[0].set_title('Population')\n",
    "    \n",
    "    gradU = dataset[scenario]['∇U'][zoom[0]:zoom[1]]\n",
    "    D = 0.5*(gradU + np.transpose(gradU, axes=(0,2,1)))\n",
    "    strains = np.linalg.eigvalsh(D)\n",
    "    ax[1].plot(t, strains[:,0])\n",
    "    ax[1].plot(t, strains[:,1])\n",
    "    ax[1].plot(t, strains[:,2])\n",
    "    ax[1].set_title('Strain rates')\n",
    "    \n",
    "    ax[2].semilogy(t, dataset[scenario]['tr(A)'][zoom[0]:zoom[1]]*dataset[scenario]['tr(Ad∇U)'][zoom[0]:zoom[1]]/(dataset[scenario]['tr(A∇U)'][zoom[0]:zoom[1]]**2+1e-6))\n",
    "    ax[2].set_title('tr(Ad∇U)')\n",
    "    \n",
    "    ax[3].plot(t, dataset[scenario]['k'][zoom[0]:zoom[1]])\n",
    "    ax[3].plot(t, dataset[scenario]['k_smooth'][zoom[0]:zoom[1]])\n",
    "    ax[3].set_title('k')\n",
    "    \n",
    "    plt.show()\n",
    "\n",
    "    \n",
    "x_widget = widgets.Dropdown(options=list(dataset.keys()), value=list(dataset.keys())[0], description='Scenario:')\n",
    "y_widget = widgets.IntRangeSlider(description='Zoom:', continuous_update=False)    \n",
    "\n",
    "def update_models(*args):\n",
    "    tmax = len(dataset[x_widget.value]['t'])\n",
    "    y_widget.value=[0, tmax]\n",
    "    y_widget.min=0\n",
    "    y_widget.max=tmax\n",
    "x_widget.observe(update_models)\n",
    "    \n",
    "ws = interactive(view_scission, \n",
    "                 scenario=x_widget,\n",
    "                 zoom=y_widget\n",
    "                )\n",
    "ws"
   ]
  },
  {
   "cell_type": "markdown",
   "id": "b745927a",
   "metadata": {},
   "source": [
    "## Look for functional form"
   ]
  },
  {
   "cell_type": "code",
   "execution_count": 14,
   "id": "ebdf0bc1",
   "metadata": {},
   "outputs": [
    {
     "data": {
      "application/vnd.jupyter.widget-view+json": {
       "model_id": "f7c1510043624e4b8fca3a4e2753f6f8",
       "version_major": 2,
       "version_minor": 0
      },
      "text/plain": [
       "interactive(children=(SelectMultiple(description='Scenarios:', index=(0, 1, 2, 3, 4, 5, 6, 7, 8, 9, 10, 11, 12…"
      ]
     },
     "metadata": {},
     "output_type": "display_data"
    }
   ],
   "source": [
    "def view_3d(scenarios):\n",
    "    #plt.rcParams['figure.figsize'] = [10, 8]\n",
    "    #fig = plt.figure()\n",
    "    #ax = plt.axes(projection='3d')\n",
    "    #for scenario in scenarios:\n",
    "    #    ax.scatter3D(dataset[scenario]['tr(A)'], dataset[scenario]['tr(A∇U)'], dataset[scenario]['k_smooth'])\n",
    "    #ax.set_xlabel('tr(A)')\n",
    "    #ax.set_ylabel('tr(A*gradU)')\n",
    "    #ax.set_zlabel('k smooth')\n",
    "    #plt.show()\n",
    "    \n",
    "    plt.rcParams['figure.figsize'] = [15, 5]\n",
    "    #fig, ax = plt.subplots(ncols=2)\n",
    "    for scenario in scenarios:\n",
    "        plt.loglog(dataset[scenario]['tr(A∇U)'], dataset[scenario]['k_smooth'], '.', alpha=0.5)\n",
    "        \n",
    "        x = dataset[scenario]['tr(A∇U)']\n",
    "        trA = dataset[scenario]['tr(A)']\n",
    "        T = x > Wi_c\n",
    "        y = 2*T*(x-Wi_c/n_links)**2/Wi_c/dataset[scenario]['tr(A)']\n",
    "        plt.loglog(x, y, 'k.', alpha=0.2)\n",
    "    plt.xlim(1, 2*Wi_max)\n",
    "    plt.ylim(1e-1, 1e5)\n",
    "    plt.grid()\n",
    "    plt.show()\n",
    "    \n",
    "w3d = interactive(view_3d, \n",
    "                 scenarios=widgets.SelectMultiple(\n",
    "                    options=list(dataset.keys()),\n",
    "                    value=list(dataset.keys()),\n",
    "                    #rows=10,\n",
    "                    description='Scenarios:',\n",
    "                    disabled=False\n",
    "                    )\n",
    "                )\n",
    "w3d"
   ]
  },
  {
   "cell_type": "markdown",
   "id": "d105394c",
   "metadata": {},
   "source": [
    "## Optimise parameters"
   ]
  },
  {
   "cell_type": "code",
   "execution_count": 6,
   "id": "d5400300",
   "metadata": {},
   "outputs": [
    {
     "name": "stderr",
     "output_type": "stream",
     "text": [
      "/home/etienne/miniconda3/lib/python3.7/site-packages/ipykernel_launcher.py:41: RuntimeWarning: overflow encountered in exp\n",
      "/home/etienne/miniconda3/lib/python3.7/site-packages/ipykernel_launcher.py:42: RuntimeWarning: overflow encountered in square\n",
      "/home/etienne/miniconda3/lib/python3.7/site-packages/scipy/optimize/_numdiff.py:557: RuntimeWarning: invalid value encountered in subtract\n",
      "  df = fun(x) - f0\n",
      "/home/etienne/miniconda3/lib/python3.7/site-packages/ipykernel_launcher.py:42: RuntimeWarning: overflow encountered in square\n"
     ]
    }
   ],
   "source": [
    "from scipy.optimize import minimize, shgo\n",
    "\n",
    "fit_set = {\n",
    "    'turbulence_0',\n",
    "    'turbulence_1',\n",
    "    'turbulence_2',\n",
    "    'turbulence_3',\n",
    "    'turbulence_4',\n",
    "#    'inkjet_0',\n",
    "#    'inkjet_1',\n",
    "#    'inkjet_2',\n",
    "#    'inkjet_3',\n",
    "#    'inkjet_4',\n",
    "    'contraction_0',\n",
    "    'contraction_1',\n",
    "    'contraction_2',\n",
    "    'contraction_3',\n",
    "    'contraction_4',\n",
    "    'contraction_5',\n",
    "    'contraction_6',\n",
    "#    'elongation_0',\n",
    "#    'random_0',\n",
    "#    'random_1',\n",
    "#    'random_2',\n",
    "#    'random_3',\n",
    "#    'random_4',\n",
    "    'sonication_0',\n",
    "    'sonication_1',\n",
    "    'sonication_2',\n",
    "    'sonication_3',\n",
    "    'sonication_4',\n",
    "}\n",
    "\n",
    "def cost(params):\n",
    "    total_cost = 0.\n",
    "    for scenario in fit_set:\n",
    "        T0 = Wi_c*dataset[scenario]['tr(A)']\n",
    "        T = dataset[scenario]['tr(A∇U)'] > T0\n",
    "        k = T*params[1]*(np.abs(dataset[scenario]['tr(A∇U)'])-T0)**2 *dataset[scenario]['tr(A)']**(-1)\n",
    "        c_sim = np.ones_like(dataset[scenario]['c'])\n",
    "        c_sim[1:] = np.exp(-np.cumsum(k[1:]*np.diff(dataset[scenario]['t'])))\n",
    "        total_cost += np.average((dataset[scenario]['c']-c_sim)**2)\n",
    "    return total_cost\n",
    "        \n",
    "res = minimize(cost, x0=[1.,1./Wi_c, 2, -1])\n",
    "bounds = [(1,50), (0, 1), (1.5, 2.5)]\n",
    "#res = shgo(cost, bounds, n=10000, iters=3)"
   ]
  },
  {
   "cell_type": "code",
   "execution_count": 7,
   "id": "45976827",
   "metadata": {},
   "outputs": [
    {
     "data": {
      "text/plain": [
       "      fun: 0.06449630074467914\n",
       " hess_inv: array([[1.       , 0.       , 0.       , 0.       ],\n",
       "       [0.       , 0.0055273, 0.       , 0.       ],\n",
       "       [0.       , 0.       , 1.       , 0.       ],\n",
       "       [0.       , 0.       , 0.       , 1.       ]])\n",
       "      jac: array([ 0.00000000e+00, -1.11758709e-08,  0.00000000e+00,  0.00000000e+00])\n",
       "  message: 'Optimization terminated successfully.'\n",
       "     nfev: 162\n",
       "      nit: 5\n",
       "     njev: 32\n",
       "   status: 0\n",
       "  success: True\n",
       "        x: array([ 1.        ,  0.04447131,  2.        , -1.        ])"
      ]
     },
     "execution_count": 7,
     "metadata": {},
     "output_type": "execute_result"
    }
   ],
   "source": [
    "res"
   ]
  },
  {
   "cell_type": "code",
   "execution_count": 8,
   "id": "b835ed91",
   "metadata": {},
   "outputs": [],
   "source": [
    "for scenario, data in dataset.items():\n",
    "    T0 = Wi_c*dataset[scenario]['tr(A)']/res.x[0]\n",
    "    T = dataset[scenario]['tr(A∇U)'] > T0\n",
    "    k = T*res.x[1]*(np.abs(dataset[scenario]['tr(A∇U)'])-T0)**res.x[2] *dataset[scenario]['tr(A)']**res.x[3]\n",
    "    c_sim = np.ones_like(data['c'])\n",
    "    c_sim[1:] = np.exp(-np.cumsum(k[1:]*np.diff(data['t'])))\n",
    "    data['c_sim'] = c_sim"
   ]
  },
  {
   "cell_type": "code",
   "execution_count": 9,
   "id": "4d3e51ea",
   "metadata": {},
   "outputs": [
    {
     "data": {
      "application/vnd.jupyter.widget-view+json": {
       "model_id": "2b72cfdef7174c738779a4b17099ad0c",
       "version_major": 2,
       "version_minor": 0
      },
      "text/plain": [
       "interactive(children=(Dropdown(description='Scenario:', options=('turbulence_0', 'turbulence_1', 'turbulence_2…"
      ]
     },
     "metadata": {},
     "output_type": "display_data"
    }
   ],
   "source": [
    "def view_fit(scenario):\n",
    "    plt.rcParams['figure.figsize'] = [15, 10]\n",
    "    plt.plot(dataset[scenario]['t'], dataset[scenario]['c'], label='Molecular dynamics')\n",
    "    plt.plot(dataset[scenario]['t'], dataset[scenario]['c_sim'], label='model')\n",
    "    plt.axhline(0, ls=':')\n",
    "    plt.legend()\n",
    "    plt.show()\n",
    "\n",
    "wf = interactive(view_fit, \n",
    "                 scenario=widgets.Dropdown(\n",
    "                    options=list(dataset.keys()),\n",
    "                    value=next(iter(dataset.keys())),\n",
    "                    description='Scenario:',\n",
    "                    disabled=False,\n",
    "                    )\n",
    "                )\n",
    "wf"
   ]
  },
  {
   "cell_type": "code",
   "execution_count": 10,
   "id": "ebeb2fff",
   "metadata": {},
   "outputs": [
    {
     "data": {
      "text/plain": [
       "'1.7.3'"
      ]
     },
     "execution_count": 10,
     "metadata": {},
     "output_type": "execute_result"
    }
   ],
   "source": [
    "import scipy\n",
    "scipy.__version__"
   ]
  },
  {
   "cell_type": "code",
   "execution_count": 11,
   "id": "c5dc2f7d",
   "metadata": {},
   "outputs": [
    {
     "data": {
      "text/plain": [
       "0.04"
      ]
     },
     "execution_count": 11,
     "metadata": {},
     "output_type": "execute_result"
    }
   ],
   "source": [
    "2/50"
   ]
  },
  {
   "cell_type": "code",
   "execution_count": null,
   "id": "38d8904e",
   "metadata": {},
   "outputs": [],
   "source": []
  }
 ],
 "metadata": {
  "kernelspec": {
   "display_name": "Python 3",
   "language": "python",
   "name": "python3"
  },
  "language_info": {
   "codemirror_mode": {
    "name": "ipython",
    "version": 3
   },
   "file_extension": ".py",
   "mimetype": "text/x-python",
   "name": "python",
   "nbconvert_exporter": "python",
   "pygments_lexer": "ipython3",
   "version": "3.7.8"
  }
 },
 "nbformat": 4,
 "nbformat_minor": 5
}
