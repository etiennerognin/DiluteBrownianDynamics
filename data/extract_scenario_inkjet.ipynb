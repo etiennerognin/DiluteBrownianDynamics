{
 "cells": [
  {
   "cell_type": "markdown",
   "id": "6cb240e2",
   "metadata": {},
   "source": [
    "# Velocity gradient time series - Inkjet\n",
    "\n",
    "Flow: transient nozzle flow with free surface (VoF). Simulation done with OpenFOAM interFoam solver, flow rate data from high speed imaging by Susannah Evans. Uniform time step.\n",
    "\n",
    "Steps of this script, for each Lagrangian trajectory:\n",
    "\n",
    "1. Load velocity gradient data\n",
    "2. De-noise using wavelet hard-thresholding\n",
    "3. Normalize maximum strain rate (maximum eigenvalue of strain rate tensor), and multiply time by the inverse of this factor."
   ]
  },
  {
   "cell_type": "code",
   "execution_count": 1,
   "id": "80582d2b",
   "metadata": {},
   "outputs": [],
   "source": [
    "import numpy as np\n",
    "from scipy.interpolate import interp1d\n",
    "import pywt\n",
    "\n",
    "from ipywidgets import interactive, fixed\n",
    "import ipywidgets as widgets\n",
    "\n",
    "%matplotlib inline\n",
    "import matplotlib.pyplot as plt\n",
    "plt.rcParams['figure.figsize'] = [15, 8]\n",
    "\n",
    "folder = 'inputs/inkjet'\n",
    "\n",
    "files = [\n",
    "#    'Lagrangian0.csv',\n",
    "#    'Lagrangian1.csv',\n",
    "    'Lagrangian2.csv',\n",
    "    'Lagrangian3.csv',\n",
    "    'Lagrangian4.csv',\n",
    "    'Lagrangian5.csv',\n",
    "#    'Lagrangian6.csv',\n",
    "    'Lagrangian7.csv',\n",
    "#    'Lagrangian8.csv'\n",
    "]\n",
    "\n",
    "output_file = 'inputs/inkjet/scenario_inkjet'"
   ]
  },
  {
   "cell_type": "markdown",
   "id": "3e73d984",
   "metadata": {},
   "source": [
    "## Import velocity gradient data"
   ]
  },
  {
   "cell_type": "code",
   "execution_count": 2,
   "id": "53e39349",
   "metadata": {},
   "outputs": [
    {
     "ename": "OSError",
     "evalue": "inputs/inkjet/Lagrangian2.csv not found.",
     "output_type": "error",
     "traceback": [
      "\u001b[0;31m---------------------------------------------------------------------------\u001b[0m",
      "\u001b[0;31mOSError\u001b[0m                                   Traceback (most recent call last)",
      "\u001b[0;32m<ipython-input-2-dbd1a5f5fb6b>\u001b[0m in \u001b[0;36m<module>\u001b[0;34m\u001b[0m\n\u001b[1;32m      5\u001b[0m \u001b[0;34m\u001b[0m\u001b[0m\n\u001b[1;32m      6\u001b[0m \u001b[0;32mfor\u001b[0m \u001b[0mfile\u001b[0m \u001b[0;32min\u001b[0m \u001b[0mfiles\u001b[0m\u001b[0;34m:\u001b[0m\u001b[0;34m\u001b[0m\u001b[0;34m\u001b[0m\u001b[0m\n\u001b[0;32m----> 7\u001b[0;31m     \u001b[0mdata\u001b[0m \u001b[0;34m=\u001b[0m \u001b[0mnp\u001b[0m\u001b[0;34m.\u001b[0m\u001b[0mloadtxt\u001b[0m\u001b[0;34m(\u001b[0m\u001b[0;34mf'{folder}/{file}'\u001b[0m\u001b[0;34m,\u001b[0m \u001b[0mdelimiter\u001b[0m\u001b[0;34m=\u001b[0m\u001b[0;34m','\u001b[0m\u001b[0;34m,\u001b[0m \u001b[0musecols\u001b[0m\u001b[0;34m=\u001b[0m\u001b[0mlist\u001b[0m\u001b[0;34m(\u001b[0m\u001b[0mrange\u001b[0m\u001b[0;34m(\u001b[0m\u001b[0;36m6\u001b[0m\u001b[0;34m,\u001b[0m\u001b[0;36m15\u001b[0m\u001b[0;34m)\u001b[0m\u001b[0;34m)\u001b[0m\u001b[0;34m+\u001b[0m\u001b[0;34m[\u001b[0m\u001b[0;36m28\u001b[0m\u001b[0;34m]\u001b[0m\u001b[0;34m,\u001b[0m \u001b[0mskiprows\u001b[0m\u001b[0;34m=\u001b[0m\u001b[0;36m1\u001b[0m\u001b[0;34m)\u001b[0m\u001b[0;34m\u001b[0m\u001b[0;34m\u001b[0m\u001b[0m\n\u001b[0m\u001b[1;32m      8\u001b[0m     \u001b[0mtimes\u001b[0m\u001b[0;34m.\u001b[0m\u001b[0mappend\u001b[0m\u001b[0;34m(\u001b[0m\u001b[0mdata\u001b[0m\u001b[0;34m[\u001b[0m\u001b[0;34m:\u001b[0m\u001b[0;34m,\u001b[0m\u001b[0;34m-\u001b[0m\u001b[0;36m1\u001b[0m\u001b[0;34m]\u001b[0m\u001b[0;34m*\u001b[0m\u001b[0mf\u001b[0m\u001b[0;34m)\u001b[0m\u001b[0;34m\u001b[0m\u001b[0;34m\u001b[0m\u001b[0m\n\u001b[1;32m      9\u001b[0m     \u001b[0mgradU\u001b[0m \u001b[0;34m=\u001b[0m \u001b[0mdata\u001b[0m\u001b[0;34m[\u001b[0m\u001b[0;34m:\u001b[0m\u001b[0;34m,\u001b[0m\u001b[0;34m:\u001b[0m\u001b[0;34m-\u001b[0m\u001b[0;36m1\u001b[0m\u001b[0;34m]\u001b[0m\u001b[0;34m.\u001b[0m\u001b[0mreshape\u001b[0m\u001b[0;34m(\u001b[0m\u001b[0;34m(\u001b[0m\u001b[0mlen\u001b[0m\u001b[0;34m(\u001b[0m\u001b[0mdata\u001b[0m\u001b[0;34m)\u001b[0m\u001b[0;34m,\u001b[0m \u001b[0;36m3\u001b[0m\u001b[0;34m,\u001b[0m \u001b[0;36m3\u001b[0m\u001b[0;34m)\u001b[0m\u001b[0;34m)\u001b[0m\u001b[0;34m\u001b[0m\u001b[0;34m\u001b[0m\u001b[0m\n",
      "\u001b[0;32m~/miniconda3/lib/python3.7/site-packages/numpy/lib/npyio.py\u001b[0m in \u001b[0;36mloadtxt\u001b[0;34m(fname, dtype, comments, delimiter, converters, skiprows, usecols, unpack, ndmin, encoding, max_rows, like)\u001b[0m\n\u001b[1;32m   1065\u001b[0m             \u001b[0mfname\u001b[0m \u001b[0;34m=\u001b[0m \u001b[0mos_fspath\u001b[0m\u001b[0;34m(\u001b[0m\u001b[0mfname\u001b[0m\u001b[0;34m)\u001b[0m\u001b[0;34m\u001b[0m\u001b[0;34m\u001b[0m\u001b[0m\n\u001b[1;32m   1066\u001b[0m         \u001b[0;32mif\u001b[0m \u001b[0m_is_string_like\u001b[0m\u001b[0;34m(\u001b[0m\u001b[0mfname\u001b[0m\u001b[0;34m)\u001b[0m\u001b[0;34m:\u001b[0m\u001b[0;34m\u001b[0m\u001b[0;34m\u001b[0m\u001b[0m\n\u001b[0;32m-> 1067\u001b[0;31m             \u001b[0mfh\u001b[0m \u001b[0;34m=\u001b[0m \u001b[0mnp\u001b[0m\u001b[0;34m.\u001b[0m\u001b[0mlib\u001b[0m\u001b[0;34m.\u001b[0m\u001b[0m_datasource\u001b[0m\u001b[0;34m.\u001b[0m\u001b[0mopen\u001b[0m\u001b[0;34m(\u001b[0m\u001b[0mfname\u001b[0m\u001b[0;34m,\u001b[0m \u001b[0;34m'rt'\u001b[0m\u001b[0;34m,\u001b[0m \u001b[0mencoding\u001b[0m\u001b[0;34m=\u001b[0m\u001b[0mencoding\u001b[0m\u001b[0;34m)\u001b[0m\u001b[0;34m\u001b[0m\u001b[0;34m\u001b[0m\u001b[0m\n\u001b[0m\u001b[1;32m   1068\u001b[0m             \u001b[0mfencoding\u001b[0m \u001b[0;34m=\u001b[0m \u001b[0mgetattr\u001b[0m\u001b[0;34m(\u001b[0m\u001b[0mfh\u001b[0m\u001b[0;34m,\u001b[0m \u001b[0;34m'encoding'\u001b[0m\u001b[0;34m,\u001b[0m \u001b[0;34m'latin1'\u001b[0m\u001b[0;34m)\u001b[0m\u001b[0;34m\u001b[0m\u001b[0;34m\u001b[0m\u001b[0m\n\u001b[1;32m   1069\u001b[0m             \u001b[0mfh\u001b[0m \u001b[0;34m=\u001b[0m \u001b[0miter\u001b[0m\u001b[0;34m(\u001b[0m\u001b[0mfh\u001b[0m\u001b[0;34m)\u001b[0m\u001b[0;34m\u001b[0m\u001b[0;34m\u001b[0m\u001b[0m\n",
      "\u001b[0;32m~/miniconda3/lib/python3.7/site-packages/numpy/lib/_datasource.py\u001b[0m in \u001b[0;36mopen\u001b[0;34m(path, mode, destpath, encoding, newline)\u001b[0m\n\u001b[1;32m    191\u001b[0m \u001b[0;34m\u001b[0m\u001b[0m\n\u001b[1;32m    192\u001b[0m     \u001b[0mds\u001b[0m \u001b[0;34m=\u001b[0m \u001b[0mDataSource\u001b[0m\u001b[0;34m(\u001b[0m\u001b[0mdestpath\u001b[0m\u001b[0;34m)\u001b[0m\u001b[0;34m\u001b[0m\u001b[0;34m\u001b[0m\u001b[0m\n\u001b[0;32m--> 193\u001b[0;31m     \u001b[0;32mreturn\u001b[0m \u001b[0mds\u001b[0m\u001b[0;34m.\u001b[0m\u001b[0mopen\u001b[0m\u001b[0;34m(\u001b[0m\u001b[0mpath\u001b[0m\u001b[0;34m,\u001b[0m \u001b[0mmode\u001b[0m\u001b[0;34m,\u001b[0m \u001b[0mencoding\u001b[0m\u001b[0;34m=\u001b[0m\u001b[0mencoding\u001b[0m\u001b[0;34m,\u001b[0m \u001b[0mnewline\u001b[0m\u001b[0;34m=\u001b[0m\u001b[0mnewline\u001b[0m\u001b[0;34m)\u001b[0m\u001b[0;34m\u001b[0m\u001b[0;34m\u001b[0m\u001b[0m\n\u001b[0m\u001b[1;32m    194\u001b[0m \u001b[0;34m\u001b[0m\u001b[0m\n\u001b[1;32m    195\u001b[0m \u001b[0;34m\u001b[0m\u001b[0m\n",
      "\u001b[0;32m~/miniconda3/lib/python3.7/site-packages/numpy/lib/_datasource.py\u001b[0m in \u001b[0;36mopen\u001b[0;34m(self, path, mode, encoding, newline)\u001b[0m\n\u001b[1;32m    531\u001b[0m                                       encoding=encoding, newline=newline)\n\u001b[1;32m    532\u001b[0m         \u001b[0;32melse\u001b[0m\u001b[0;34m:\u001b[0m\u001b[0;34m\u001b[0m\u001b[0;34m\u001b[0m\u001b[0m\n\u001b[0;32m--> 533\u001b[0;31m             \u001b[0;32mraise\u001b[0m \u001b[0mIOError\u001b[0m\u001b[0;34m(\u001b[0m\u001b[0;34m\"%s not found.\"\u001b[0m \u001b[0;34m%\u001b[0m \u001b[0mpath\u001b[0m\u001b[0;34m)\u001b[0m\u001b[0;34m\u001b[0m\u001b[0;34m\u001b[0m\u001b[0m\n\u001b[0m\u001b[1;32m    534\u001b[0m \u001b[0;34m\u001b[0m\u001b[0m\n\u001b[1;32m    535\u001b[0m \u001b[0;34m\u001b[0m\u001b[0m\n",
      "\u001b[0;31mOSError\u001b[0m: inputs/inkjet/Lagrangian2.csv not found."
     ]
    }
   ],
   "source": [
    "times = []\n",
    "gradUs = []\n",
    "# Pre-normalizing factor (this is properly done later)\n",
    "f = 0.5e6\n",
    "\n",
    "for file in files:\n",
    "    data = np.loadtxt(f'{folder}/{file}', delimiter=',', usecols=list(range(6,15))+[28], skiprows=1) \n",
    "    times.append(data[:,-1]*f)\n",
    "    gradU = data[:,:-1].reshape((len(data), 3, 3))\n",
    "    # Remove trace\n",
    "    #trgU = gradU[:,0,0] + gradU[:,1,1] + gradU[:,2,2]\n",
    "    #gradU = gradU - trgU[:, None, None]/3*np.full_like(gradU, np.eye(3))\n",
    "    gradUs.append(gradU/f)"
   ]
  },
  {
   "cell_type": "code",
   "execution_count": 22,
   "id": "a328c4fd",
   "metadata": {},
   "outputs": [
    {
     "data": {
      "image/png": "[encoded data removed]",
      "text/plain": [
       "<Figure size 1080x576 with 1 Axes>"
      ]
     },
     "metadata": {
      "needs_background": "light"
     },
     "output_type": "display_data"
    },
    {
     "name": "stdout",
     "output_type": "stream",
     "text": [
      "Max trace: 0.12224834599999998\n"
     ]
    }
   ],
   "source": [
    "plt.plot(times[0], gradUs[0].reshape(len(times[0]),9))\n",
    "plt.show()\n",
    "print(f\"Max trace: {np.max(gradUs[0][:,0,0]+gradUs[0][:,1,1]+gradUs[0][:,2,2])}\")"
   ]
  },
  {
   "cell_type": "markdown",
   "id": "9de9f121",
   "metadata": {},
   "source": [
    "## Denoise with wavelet"
   ]
  },
  {
   "cell_type": "code",
   "execution_count": 25,
   "id": "033e7fec",
   "metadata": {},
   "outputs": [],
   "source": [
    "gradUs_denoised = []\n",
    "wavelet = 'coif2'\n",
    "\n",
    "# Thresholds\n",
    "thetas = [\n",
    "#    0.8,\n",
    "#    0.3,\n",
    "    0.,\n",
    "    0.,\n",
    "    0.,\n",
    "    0.001,\n",
    "#    0.1,\n",
    "    0,\n",
    "#    0.003\n",
    "]\n",
    "\n",
    "for gradU, theta in zip(gradUs, thetas):\n",
    "\n",
    "    coeffs = pywt.wavedec(gradU, wavelet, mode='antireflect', axis=0)\n",
    "    for i in range(1,len(coeffs)):\n",
    "        coeffs[i][np.abs(coeffs[i])<theta] = 0\n",
    "    #coeffs[-1] = np.zeros_like(coeffs[-1])\n",
    "    #coeffs[-2] = np.zeros_like(coeffs[-2]) \n",
    "\n",
    "    gradUs_denoised.append(pywt.waverec(coeffs, wavelet, mode='antireflect', axis=0))"
   ]
  },
  {
   "cell_type": "code",
   "execution_count": 26,
   "id": "b3c305af",
   "metadata": {},
   "outputs": [
    {
     "data": {
      "application/vnd.jupyter.widget-view+json": {
       "model_id": "a5840a1319514c5998b40bcd50b7096b",
       "version_major": 2,
       "version_minor": 0
      },
      "text/plain": [
       "interactive(children=(IntRangeSlider(value=(0, 1999), continuous_update=False, description='Index range:', max…"
      ]
     },
     "metadata": {},
     "output_type": "display_data"
    }
   ],
   "source": [
    "def zoom(tb, trajectory, line):\n",
    "    figure, ax = plt.subplots(nrows=2)\n",
    "    ax[0].plot(gradUs[trajectory][:,line,0], c='#0c2c84')\n",
    "    ax[0].plot(gradUs_denoised[trajectory][:,line,0], c='#1d91c0', linewidth=2, label='ix')\n",
    "    ax[0].plot(gradUs[trajectory][:,line,1], c='#1d91c0')\n",
    "    ax[0].plot(gradUs_denoised[trajectory][:,line,1], c='#7fcdbb', linewidth=2, label='iy')\n",
    "    ax[0].plot(gradUs[trajectory][:,line,2], c='#7fcdbb')\n",
    "    ax[0].plot(gradUs_denoised[trajectory][:,line,2], c='#c7e9b4', linewidth=2, label='iz')\n",
    "    ax[0].legend()\n",
    "    \n",
    "    ax[1].plot(gradUs[trajectory][tb[0]:tb[1],line,0], c='#0c2c84')\n",
    "    ax[1].plot(gradUs_denoised[trajectory][tb[0]:tb[1],line,0], c='#1d91c0', linewidth=2, label='ix')\n",
    "    ax[1].plot(gradUs[trajectory][tb[0]:tb[1],line,1], c='#1d91c0')\n",
    "    ax[1].plot(gradUs_denoised[trajectory][tb[0]:tb[1],line,1], c='#7fcdbb', linewidth=2, label='iy')\n",
    "    ax[1].plot(gradUs[trajectory][tb[0]:tb[1],line,2], c='#7fcdbb')\n",
    "    ax[1].plot(gradUs_denoised[trajectory][tb[0]:tb[1],line,2], c='#c7e9b4', linewidth=2, label='iz')\n",
    "    \n",
    "    ax[1].set_title('Zoom')\n",
    "    ax[0].axvline(tb[0], c='r')\n",
    "    ax[0].axvline(tb[1], c='r')\n",
    "    \n",
    "    plt.show()\n",
    "\n",
    "\n",
    "w = interactive(zoom, tb=widgets.IntRangeSlider(\n",
    "                    value=[0, len(gradUs[0])-1],\n",
    "                    description='Index range:',\n",
    "                    min=0,\n",
    "                    max=len(gradUs[0])-1, \n",
    "                    continuous_update=False\n",
    "                    ),\n",
    "                     trajectory=widgets.Dropdown(\n",
    "                    options=list(range(len(gradUs))),\n",
    "                    value=0,\n",
    "                    description='Trajectory #:',\n",
    "                    disabled=False,\n",
    "                    ),\n",
    "                    line=widgets.Dropdown(\n",
    "                    options=[('xx, xy, xz', 0),('yx, yy, yz', 1),('zx, zy, zz', 2)],\n",
    "                    value=0,\n",
    "                    description='Line:',\n",
    "                    disabled=False,\n",
    "                    )\n",
    "                \n",
    "               )\n",
    "w"
   ]
  },
  {
   "cell_type": "markdown",
   "id": "2d6e2a48",
   "metadata": {},
   "source": [
    "## Remove trace"
   ]
  },
  {
   "cell_type": "code",
   "execution_count": 27,
   "id": "1b66fed8",
   "metadata": {},
   "outputs": [
    {
     "name": "stdout",
     "output_type": "stream",
     "text": [
      "Max trace: 0.122248346\n",
      "Max trace: 0.0\n"
     ]
    }
   ],
   "source": [
    "print(f\"Max trace: {np.max(gradUs_denoised[0][:,0,0]+gradUs_denoised[0][:,1,1]+gradUs_denoised[0][:,2,2])}\")\n",
    "\n",
    "for i, gradU in enumerate(gradUs_denoised):\n",
    "    # Here we don't trust the value zz\n",
    "    trgU = gradU[:,0,0] + gradU[:,1,1] + gradU[:,2,2]\n",
    "    gradUs_denoised[i][:,2,2] = - gradU[:,0,0] - gradU[:,1,1]\n",
    "    \n",
    "print(f\"Max trace: {np.max(gradUs_denoised[0][:,0,0]+gradUs_denoised[0][:,1,1]+gradUs_denoised[0][:,2,2])}\")"
   ]
  },
  {
   "cell_type": "markdown",
   "id": "fd0ada35",
   "metadata": {},
   "source": [
    "## Analyse and normalize strain rate"
   ]
  },
  {
   "cell_type": "code",
   "execution_count": 28,
   "id": "2d788189",
   "metadata": {},
   "outputs": [
    {
     "name": "stdout",
     "output_type": "stream",
     "text": [
      "Maximum strain rate: 0.7119848152313726\n",
      "Normalised length of trajecotry: 35.59924076156863\n",
      "Max Weissenberg number: 0.7477928687901909\n",
      "Normalised length of trajecotry: 35.59924076156863\n",
      "Max Weissenberg number: 0.8790527917544295\n",
      "Normalised length of trajecotry: 35.59924076156863\n",
      "Max Weissenberg number: 0.5144217847007625\n",
      "Normalised length of trajecotry: 35.59924076156863\n",
      "Max Weissenberg number: 0.5647101952183887\n",
      "Normalised length of trajecotry: 35.59924076156863\n",
      "Max Weissenberg number: 1.0\n"
     ]
    }
   ],
   "source": [
    "gradUs = gradUs_denoised\n",
    "\n",
    "gradUs_norm = []\n",
    "times_norm = []\n",
    "Es = []\n",
    "Es_norm = []\n",
    "Wis = []\n",
    "\n",
    "# First pass to get max Wi\n",
    "for gradU, time in zip(gradUs, times):\n",
    "\n",
    "    # Get principal values for the strain\n",
    "    D = 0.5*(gradU + np.transpose(gradU, axes=(0,2,1)))\n",
    "    strains = np.linalg.eigvalsh(D)\n",
    "    Es.append(np.amax(np.abs(strains), axis=1))\n",
    "    Wis.append(np.amax(np.abs(strains)))\n",
    "\n",
    "max_Wi = max(Wis)\n",
    "print(f\"Maximum strain rate: {max_Wi}\")\n",
    "# Second pass to normalise\n",
    "for gradU, time, E in zip(gradUs, times, Es):\n",
    "\n",
    "    gradUs_norm.append(gradU/max_Wi)\n",
    "    times_norm.append(time*max_Wi)\n",
    "    Es_norm.append(E/max_Wi)\n",
    "    print(f\"Normalised length of trajecotry: {time[-1]*max_Wi}\")\n",
    "    print(f\"Max Weissenberg number: {np.amax(E/max_Wi)}\")"
   ]
  },
  {
   "cell_type": "markdown",
   "id": "c6576c9c",
   "metadata": {},
   "source": [
    "## Crop"
   ]
  },
  {
   "cell_type": "code",
   "execution_count": 29,
   "id": "99484f70",
   "metadata": {},
   "outputs": [
    {
     "data": {
      "application/vnd.jupyter.widget-view+json": {
       "model_id": "bfde6fc36ee64e78a3a08f27fcc613dd",
       "version_major": 2,
       "version_minor": 0
      },
      "text/plain": [
       "Tab(children=(interactive(children=(IntRangeSlider(value=(0, 1999), continuous_update=False, description='Inde…"
      ]
     },
     "metadata": {},
     "output_type": "display_data"
    }
   ],
   "source": [
    "def crop(tb, trajectory):\n",
    "    figure, ax = plt.subplots(nrows=3)\n",
    "    ax[0].plot(times_norm[trajectory], gradUs_norm[trajectory][:,0,0], c='#1d91c0', linewidth=2, label='xx')\n",
    "    ax[0].plot(times_norm[trajectory], gradUs_norm[trajectory][:,0,1], c='#7fcdbb', linewidth=2, label='xy')\n",
    "    ax[0].plot(times_norm[trajectory], gradUs_norm[trajectory][:,0,2], c='#c7e9b4', linewidth=2, label='xz')\n",
    "    ax[0].plot(times_norm[trajectory], gradUs_norm[trajectory][:,1,0], c='#0c2c84', linewidth=2, label='yx')\n",
    "    ax[0].legend()\n",
    "    \n",
    "\n",
    "    ax[1].plot(times_norm[trajectory][tb[0]:tb[1]], gradUs_norm[trajectory][tb[0]:tb[1],0,0], c='#1d91c0', linewidth=2, label='xx')\n",
    "    ax[1].plot(times_norm[trajectory][tb[0]:tb[1]], gradUs_norm[trajectory][tb[0]:tb[1],0,1], c='#7fcdbb', linewidth=2, label='xy')\n",
    "    ax[1].plot(times_norm[trajectory][tb[0]:tb[1]], gradUs_norm[trajectory][tb[0]:tb[1],0,2], c='#c7e9b4', linewidth=2, label='xz')\n",
    "    ax[1].plot(times_norm[trajectory][tb[0]:tb[1]], gradUs_norm[trajectory][tb[0]:tb[1],1,0], c='#0c2c84', linewidth=2, label='yx')\n",
    "    \n",
    "    ax[1].set_title('Zoom')\n",
    "    ax[0].axvline(times_norm[trajectory][tb[0]], c='r')\n",
    "    ax[0].axvline(times_norm[trajectory][tb[1]], c='r')\n",
    "    \n",
    "    ax[2].semilogy(times_norm[trajectory][tb[0]:tb[1]], Es_norm[trajectory][tb[0]:tb[1]], c='#1d91c0', linewidth=2, label='xx')\n",
    "    ax[2].set_title('Elongation rate')\n",
    "    ax[2].axhline(1e-3, ls=':')\n",
    "    \n",
    "    plt.show()\n",
    "\n",
    "#tab_contents\n",
    "sliders = [widgets.IntRangeSlider(\n",
    "                    value=[0, len(time)-1],\n",
    "                    description='Index range:',\n",
    "                    min=0,\n",
    "                    max=len(time)-1, \n",
    "                    continuous_update=False\n",
    "                    ) for time in times]\n",
    "\n",
    "children = [interactive(crop, tb=slider, trajectory=fixed(i)) for i, slider in enumerate(sliders)]\n",
    "tab = widgets.Tab()\n",
    "tab.children = children\n",
    "for i in range(len(children)):\n",
    "    tab.set_title(i, str(i))\n",
    "tab"
   ]
  },
  {
   "cell_type": "code",
   "execution_count": 30,
   "id": "6db125b5",
   "metadata": {},
   "outputs": [],
   "source": [
    "for i, (time, gradU) in enumerate(zip(times_norm, gradUs_norm)):\n",
    "    tmin, tmax = tab.children[i].kwargs['tb']\n",
    "    np.savez_compressed(f\"{output_file}_{i}\", t=time[tmin:tmax]-time[tmin], gradU=gradU[tmin:tmax])"
   ]
  },
  {
   "cell_type": "code",
   "execution_count": null,
   "id": "2172c04d",
   "metadata": {},
   "outputs": [],
   "source": []
  },
  {
   "cell_type": "code",
   "execution_count": null,
   "id": "60044f8e",
   "metadata": {},
   "outputs": [],
   "source": []
  },
  {
   "cell_type": "code",
   "execution_count": 112,
   "id": "2d4db458",
   "metadata": {},
   "outputs": [],
   "source": []
  },
  {
   "cell_type": "code",
   "execution_count": null,
   "id": "7466076b",
   "metadata": {},
   "outputs": [],
   "source": []
  }
 ],
 "metadata": {
  "kernelspec": {
   "display_name": "Python 3",
   "language": "python",
   "name": "python3"
  },
  "language_info": {
   "codemirror_mode": {
    "name": "ipython",
    "version": 3
   },
   "file_extension": ".py",
   "mimetype": "text/x-python",
   "name": "python",
   "nbconvert_exporter": "python",
   "pygments_lexer": "ipython3",
   "version": "3.7.8"
  }
 },
 "nbformat": 4,
 "nbformat_minor": 5
}
