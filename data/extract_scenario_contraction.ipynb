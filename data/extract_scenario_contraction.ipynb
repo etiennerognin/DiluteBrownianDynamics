{
 "cells": [
  {
   "cell_type": "markdown",
   "id": "6cb240e2",
   "metadata": {},
   "source": [
    "# Velocity gradient time series - 4:1 Axisymmetric contraction\n",
    "\n",
    "Flow: steady-state Newtonian at Re=1.\n",
    "\n",
    "When streamlines are computed by ParaView, one column of the interpolated data is `\"IntegrationTime\"` which is used to rephrase the data as Lagrangian particles (instead of streamlines)."
   ]
  },
  {
   "cell_type": "code",
   "execution_count": 1,
   "id": "80582d2b",
   "metadata": {},
   "outputs": [],
   "source": [
    "import numpy as np\n",
    "from scipy.interpolate import interp1d\n",
    "import pywt\n",
    "\n",
    "from ipywidgets import interactive, fixed\n",
    "import ipywidgets as widgets\n",
    "\n",
    "%matplotlib inline\n",
    "import matplotlib.pyplot as plt\n",
    "plt.rcParams['figure.figsize'] = [15, 8]\n",
    "\n",
    "folder = 'inputs/contraction'\n",
    "\n",
    "files = [\n",
    "    'tracer_y0.0005.csv',\n",
    "    'tracer_y0.0010.csv',\n",
    "    'tracer_y0.0015.csv',\n",
    "    'tracer_y0.0020.csv',\n",
    "    'tracer_y0.0025.csv',\n",
    "    'tracer_y0.0030.csv',\n",
    "    'tracer_y0.0035.csv'\n",
    "]\n",
    "\n",
    "output_file = 'inputs/contraction/scenario_contraction'"
   ]
  },
  {
   "cell_type": "markdown",
   "id": "3e73d984",
   "metadata": {},
   "source": [
    "## Import velocity gradient data"
   ]
  },
  {
   "cell_type": "code",
   "execution_count": 2,
   "id": "53e39349",
   "metadata": {},
   "outputs": [],
   "source": [
    "times = []\n",
    "gradUs = []\n",
    "# Pre-normalizing factor (this is properly done later)\n",
    "f = 10\n",
    "\n",
    "for file in files:\n",
    "    data = np.loadtxt(f'{folder}/{file}', delimiter=',', usecols=list(range(4,14)), skiprows=1) \n",
    "    times.append(data[:,-1]*f)\n",
    "    gradUs.append(data[:,:-1].reshape((len(data), 3, 3))/f)"
   ]
  },
  {
   "cell_type": "code",
   "execution_count": null,
   "id": "9a69d3a8",
   "metadata": {},
   "outputs": [],
   "source": []
  },
  {
   "cell_type": "code",
   "execution_count": 3,
   "id": "a328c4fd",
   "metadata": {},
   "outputs": [
    {
     "data": {
      "image/png": "[encoded data removed]",
      "text/plain": [
       "<Figure size 1080x576 with 1 Axes>"
      ]
     },
     "metadata": {
      "needs_background": "light"
     },
     "output_type": "display_data"
    },
    {
     "name": "stdout",
     "output_type": "stream",
     "text": [
      "Max trace: 1.7797679733485299\n"
     ]
    }
   ],
   "source": [
    "plt.plot(times[-1], gradUs[-1].reshape(len(times[-1]),9))\n",
    "plt.show()\n",
    "print(f\"Max trace: {np.max(gradUs[0][:,0,0]+gradUs[0][:,1,1]+gradUs[0][:,2,2])}\")"
   ]
  },
  {
   "cell_type": "code",
   "execution_count": 5,
   "id": "bf199864",
   "metadata": {},
   "outputs": [
    {
     "data": {
      "application/vnd.jupyter.widget-view+json": {
       "model_id": "00de4deef60a4e8fb640ccc289dab5bf",
       "version_major": 2,
       "version_minor": 0
      },
      "text/plain": [
       "interactive(children=(IntRangeSlider(value=(0, 609), continuous_update=False, description='Index range:', max=…"
      ]
     },
     "metadata": {},
     "output_type": "display_data"
    }
   ],
   "source": [
    "def zoom(tb, trajectory, line):\n",
    "    figure, ax = plt.subplots(nrows=2)\n",
    "    ax[0].plot(gradUs[trajectory][:,line,0], c='#1d91c0', linewidth=2, label='ix')\n",
    "    ax[0].plot(gradUs[trajectory][:,line,1], c='#7fcdbb', linewidth=2, label='iy')\n",
    "    ax[0].plot(gradUs[trajectory][:,line,2], c='#c7e9b4', linewidth=2, label='iz')\n",
    "    ax[0].legend()\n",
    "    \n",
    "\n",
    "    ax[1].plot(gradUs[trajectory][tb[0]:tb[1],line,0], c='#1d91c0', linewidth=2, label='ix')\n",
    "    ax[1].plot(gradUs[trajectory][tb[0]:tb[1],line,1], c='#7fcdbb', linewidth=2, label='iy')\n",
    "    ax[1].plot(gradUs[trajectory][tb[0]:tb[1],line,2], c='#c7e9b4', linewidth=2, label='iz')\n",
    "    \n",
    "    ax[1].set_title('Zoom')\n",
    "    ax[0].axvline(tb[0], c='r')\n",
    "    ax[0].axvline(tb[1], c='r')\n",
    "    \n",
    "    plt.show()\n",
    "\n",
    "\n",
    "w = interactive(zoom, tb=widgets.IntRangeSlider(\n",
    "                    value=[0, len(gradUs[0])-1],\n",
    "                    description='Index range:',\n",
    "                    min=0,\n",
    "                    max=len(gradUs[0])-1, \n",
    "                    continuous_update=False\n",
    "                    ),\n",
    "                     trajectory=widgets.Dropdown(\n",
    "                    options=list(range(len(gradUs))),\n",
    "                    value=0,\n",
    "                    description='Trajectory #:',\n",
    "                    disabled=False,\n",
    "                    ),\n",
    "                    line=widgets.Dropdown(\n",
    "                    options=[('xx, xy, xz', 0),('yx, yy, yz', 1),('zx, zy, zz', 2)],\n",
    "                    value=0,\n",
    "                    description='Line:',\n",
    "                    disabled=False,\n",
    "                    )\n",
    "                \n",
    "               )\n",
    "w"
   ]
  },
  {
   "cell_type": "markdown",
   "id": "87836458",
   "metadata": {},
   "source": [
    "## Remove trace"
   ]
  },
  {
   "cell_type": "code",
   "execution_count": 6,
   "id": "cfe293a9",
   "metadata": {},
   "outputs": [
    {
     "name": "stdout",
     "output_type": "stream",
     "text": [
      "Max trace: 1.7797679733485299\n",
      "Max trace: 0.0\n"
     ]
    }
   ],
   "source": [
    "print(f\"Max trace: {np.max(gradUs[0][:,0,0]+gradUs[0][:,1,1]+gradUs[0][:,2,2])}\")\n",
    "\n",
    "for i, gradU in enumerate(gradUs):\n",
    "    # Here we don't trust the value zz\n",
    "    trgU = gradU[:,0,0] + gradU[:,1,1] + gradU[:,2,2]\n",
    "    gradUs[i][:,2,2] = - gradU[:,0,0] - gradU[:,1,1]\n",
    "    \n",
    "print(f\"Max trace: {np.max(gradUs[0][:,0,0]+gradUs[0][:,1,1]+gradUs[0][:,2,2])}\")"
   ]
  },
  {
   "cell_type": "markdown",
   "id": "fd0ada35",
   "metadata": {},
   "source": [
    "## Analyse strain"
   ]
  },
  {
   "cell_type": "code",
   "execution_count": 7,
   "id": "2d788189",
   "metadata": {},
   "outputs": [
    {
     "name": "stdout",
     "output_type": "stream",
     "text": [
      "Maximum strain rate: 3.568382189112658\n",
      "Normalised length of trajecotry: 121.49917538132325\n",
      "Maximum strain rate: 3.786845297002905\n",
      "Normalised length of trajecotry: 133.6101253779705\n",
      "Maximum strain rate: 4.22869345997719\n",
      "Normalised length of trajecotry: 142.6403046563351\n",
      "Maximum strain rate: 5.0797560255308305\n",
      "Normalised length of trajecotry: 171.6384842777222\n",
      "Maximum strain rate: 6.502325536691279\n",
      "Normalised length of trajecotry: 248.0689485710519\n",
      "Maximum strain rate: 8.316612745885585\n",
      "Normalised length of trajecotry: 427.3029460908507\n",
      "Maximum strain rate: 10.87151323062176\n",
      "Normalised length of trajecotry: 1070.718585217399\n"
     ]
    }
   ],
   "source": [
    "gradUs_norm = []\n",
    "times_norm = []\n",
    "\n",
    "for gradU, time in zip(gradUs, times):\n",
    "\n",
    "    # Get principal values for the strain\n",
    "    D = 0.5*(gradU + np.transpose(gradU, axes=(0,2,1)))\n",
    "    strains = np.linalg.eigvalsh(D)\n",
    "    max_Wi = np.max(strains[:,2])\n",
    "    \n",
    "    # Normalize\n",
    "    gradUs_norm.append(gradU/max_Wi)\n",
    "    times_norm.append(time*max_Wi)\n",
    "    print(f\"Maximum strain rate: {max_Wi}\")\n",
    "    print(f\"Normalised length of trajecotry: {time[-1]*max_Wi}\")"
   ]
  },
  {
   "cell_type": "markdown",
   "id": "50864872",
   "metadata": {},
   "source": [
    "## Crop"
   ]
  },
  {
   "cell_type": "code",
   "execution_count": 8,
   "id": "7980d12b",
   "metadata": {},
   "outputs": [
    {
     "data": {
      "application/vnd.jupyter.widget-view+json": {
       "model_id": "ffcde789800747219ca755d4de32bc0e",
       "version_major": 2,
       "version_minor": 0
      },
      "text/plain": [
       "Tab(children=(interactive(children=(IntRangeSlider(value=(0, 609), continuous_update=False, description='Index…"
      ]
     },
     "metadata": {},
     "output_type": "display_data"
    }
   ],
   "source": [
    "def crop(tb, trajectory):\n",
    "    figure, ax = plt.subplots(nrows=2)\n",
    "    ax[0].plot(times_norm[trajectory], gradUs_norm[trajectory][:,0,0], c='#1d91c0', linewidth=2, label='xx')\n",
    "    ax[0].plot(times_norm[trajectory], gradUs_norm[trajectory][:,0,1], c='#7fcdbb', linewidth=2, label='xy')\n",
    "    ax[0].plot(times_norm[trajectory], gradUs_norm[trajectory][:,0,2], c='#c7e9b4', linewidth=2, label='xz')\n",
    "    ax[0].plot(times_norm[trajectory], gradUs_norm[trajectory][:,1,0], c='#0c2c84', linewidth=2, label='yx')\n",
    "    ax[0].legend()\n",
    "    \n",
    "\n",
    "    ax[1].plot(times_norm[trajectory][tb[0]:tb[1]], gradUs_norm[trajectory][tb[0]:tb[1],0,0], c='#1d91c0', linewidth=2, label='xx')\n",
    "    ax[1].plot(times_norm[trajectory][tb[0]:tb[1]], gradUs_norm[trajectory][tb[0]:tb[1],0,1], c='#7fcdbb', linewidth=2, label='xy')\n",
    "    ax[1].plot(times_norm[trajectory][tb[0]:tb[1]], gradUs_norm[trajectory][tb[0]:tb[1],0,2], c='#c7e9b4', linewidth=2, label='xz')\n",
    "    ax[1].plot(times_norm[trajectory][tb[0]:tb[1]], gradUs_norm[trajectory][tb[0]:tb[1],1,0], c='#0c2c84', linewidth=2, label='yx')\n",
    "    \n",
    "    ax[1].set_title('Zoom')\n",
    "    ax[0].axvline(times_norm[trajectory][tb[0]], c='r')\n",
    "    ax[0].axvline(times_norm[trajectory][tb[1]], c='r')\n",
    "    \n",
    "    plt.show()\n",
    "\n",
    "#tab_contents\n",
    "sliders = [widgets.IntRangeSlider(\n",
    "                    value=[0, len(time)-1],\n",
    "                    description='Index range:',\n",
    "                    min=0,\n",
    "                    max=len(time)-1, \n",
    "                    continuous_update=False\n",
    "                    ) for time in times]\n",
    "\n",
    "children = [interactive(crop, tb=slider, trajectory=fixed(i)) for i, slider in enumerate(sliders)]\n",
    "tab = widgets.Tab()\n",
    "tab.children = children\n",
    "for i in range(len(children)):\n",
    "    tab.set_title(i, str(i))\n",
    "tab\n",
    "\n"
   ]
  },
  {
   "cell_type": "code",
   "execution_count": 9,
   "id": "c3b85e5d",
   "metadata": {},
   "outputs": [
    {
     "data": {
      "text/plain": [
       "(240, 609)"
      ]
     },
     "execution_count": 9,
     "metadata": {},
     "output_type": "execute_result"
    }
   ],
   "source": [
    "tab.children[0].kwargs['tb']"
   ]
  },
  {
   "cell_type": "markdown",
   "id": "347fd932",
   "metadata": {},
   "source": [
    "## Save to files"
   ]
  },
  {
   "cell_type": "code",
   "execution_count": 10,
   "id": "6db125b5",
   "metadata": {},
   "outputs": [],
   "source": [
    "for i, (time, gradU) in enumerate(zip(times_norm, gradUs_norm)):\n",
    "    tmin, tmax = tab.children[i].kwargs['tb']\n",
    "    np.savez_compressed(f\"{output_file}_{i}\", t=time[tmin:tmax]-time[tmin], gradU=gradU[tmin:tmax])"
   ]
  },
  {
   "cell_type": "code",
   "execution_count": null,
   "id": "2172c04d",
   "metadata": {},
   "outputs": [],
   "source": []
  },
  {
   "cell_type": "code",
   "execution_count": null,
   "id": "60044f8e",
   "metadata": {},
   "outputs": [],
   "source": []
  },
  {
   "cell_type": "code",
   "execution_count": 112,
   "id": "2d4db458",
   "metadata": {},
   "outputs": [],
   "source": []
  },
  {
   "cell_type": "code",
   "execution_count": null,
   "id": "7466076b",
   "metadata": {},
   "outputs": [],
   "source": []
  }
 ],
 "metadata": {
  "kernelspec": {
   "display_name": "Python 3",
   "language": "python",
   "name": "python3"
  },
  "language_info": {
   "codemirror_mode": {
    "name": "ipython",
    "version": 3
   },
   "file_extension": ".py",
   "mimetype": "text/x-python",
   "name": "python",
   "nbconvert_exporter": "python",
   "pygments_lexer": "ipython3",
   "version": "3.7.8"
  }
 },
 "nbformat": 4,
 "nbformat_minor": 5
}
