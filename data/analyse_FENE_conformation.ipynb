{
 "cells": [
  {
   "cell_type": "markdown",
   "id": "2707231d-094d-491c-818d-babb870f3768",
   "metadata": {},
   "source": [
    "# Analyse FENE model regarding conformation tensor\n"
   ]
  },
  {
   "cell_type": "code",
   "execution_count": 1,
   "id": "a3a78a28-dc84-49f4-a0be-e88c33e0b69c",
   "metadata": {},
   "outputs": [],
   "source": [
    "import numpy as np\n",
    "from matsindy.feature_library import FeatureLibrary\n",
    "\n",
    "from ipywidgets import interactive, fixed\n",
    "import ipywidgets as widgets\n",
    "%matplotlib inline\n",
    "import matplotlib.pyplot as plt\n",
    "plt.rcParams['figure.figsize'] = [15, 8]"
   ]
  },
  {
   "cell_type": "markdown",
   "id": "d4cd1c61",
   "metadata": {},
   "source": [
    "## Datasets selection"
   ]
  },
  {
   "cell_type": "code",
   "execution_count": 2,
   "id": "96801b73",
   "metadata": {},
   "outputs": [],
   "source": [
    "# Max molecule length\n",
    "L_max = 4.\n",
    "\n",
    "# Name: file\n",
    "dataset_files = {\n",
    "    'random_0_n1000': f'outputs/FENE/L{L_max:.1f}_random_0_n1000.npz',\n",
    "    'random_1_n1000': f'outputs/FENE/L{L_max:.1f}_random_1_n1000.npz',\n",
    "    'random_2_n1000': f'outputs/FENE/L{L_max:.1f}_random_2_n1000.npz',\n",
    "    'random_3_n1000': f'outputs/FENE/L{L_max:.1f}_random_3_n1000.npz',\n",
    "    'random_4_n1000': f'outputs/FENE/L{L_max:.1f}_random_4_n1000.npz',\n",
    "    'turbulence_0_n1000': f'outputs/FENE/L{L_max:.1f}_turbulence_0_n1000.npz',\n",
    "    'turbulence_1_n1000': f'outputs/FENE/L{L_max:.1f}_turbulence_1_n1000.npz',\n",
    "    'turbulence_2_n1000': f'outputs/FENE/L{L_max:.1f}_turbulence_2_n1000.npz',\n",
    "    'turbulence_3_n1000': f'outputs/FENE/L{L_max:.1f}_turbulence_3_n1000.npz',\n",
    "    'turbulence_4_n1000': f'outputs/FENE/L{L_max:.1f}_turbulence_4_n1000.npz',\n",
    "    'contraction_0_n1000': f'outputs/FENE/L{L_max:.1f}_contraction_0_n1000.npz',\n",
    "    'contraction_1_n1000': f'outputs/FENE/L{L_max:.1f}_contraction_1_n1000.npz',\n",
    "    'contraction_2_n1000': f'outputs/FENE/L{L_max:.1f}_contraction_2_n1000.npz',\n",
    "    'contraction_3_n1000': f'outputs/FENE/L{L_max:.1f}_contraction_3_n1000.npz',\n",
    "    'contraction_4_n1000': f'outputs/FENE/L{L_max:.1f}_contraction_4_n1000.npz'\n",
    "}\n",
    "\n",
    "# Test data\n",
    "test_scenarios = {\n",
    "    'random_0_n1000', \n",
    "    'turbulence_0_n1000', \n",
    "'contraction_0_n1000'\n",
    "                 }"
   ]
  },
  {
   "cell_type": "code",
   "execution_count": 3,
   "id": "5650ea3a",
   "metadata": {},
   "outputs": [],
   "source": [
    "# Load data\n",
    "dataset = {}\n",
    "for name, file in dataset_files.items():\n",
    "    with np.load(file) as data:\n",
    "        temp = dict(data)\n",
    "        # Rename variables\n",
    "        temp['S'] = temp.pop('S_average')\n",
    "        temp['A'] = temp.pop('A_average')\n",
    "        temp['∇U'] = temp.pop('gradU')\n",
    "        # Add transposed variables\n",
    "        \n",
    "        temp['∇Uᵀ'] = np.transpose(temp['∇U'], axes=(0, 2, 1))\n",
    "        # Save\n",
    "        dataset[name] = temp"
   ]
  },
  {
   "cell_type": "markdown",
   "id": "d105394c",
   "metadata": {},
   "source": [
    "## Make library of features"
   ]
  },
  {
   "cell_type": "markdown",
   "id": "e527a163-89b2-44c8-898b-202cf8e25aa6",
   "metadata": {},
   "source": [
    "Matrix libraries will take data in the form of a dictionary and access the variables using their name. Therefore we need to specify which names we want to involve in the library by defining `variable_names`. Another useful parameter is the `transpose_map` dictionary where we write information about the transpose of the variables. In this dictionary, a key is a variable name of the dataset, and the value is:\n",
    "- Same name if the variable is symmetric;\n",
    "- Same name with a leading `-` if the variable is skew;\n",
    "- The name of the transpose if it is present in the dataset;\n",
    "- `None` otherwise.\n",
    "\n",
    "Here we will be using the stress `'S'` which is symmetric, and both the velocity gradient `'∇U'` and its transposed `'∇Uᵀ'`."
   ]
  },
  {
   "cell_type": "code",
   "execution_count": 4,
   "id": "b2945e1d-ae76-4a2c-84d5-e6dc3903122e",
   "metadata": {},
   "outputs": [],
   "source": [
    "variable_names = {'A', '∇U', '∇Uᵀ'}\n",
    "transpose_map = {'A':'A', '∇U':'∇Uᵀ', '∇Uᵀ':'∇U'}"
   ]
  },
  {
   "cell_type": "markdown",
   "id": "0a51758a-556b-46d1-8fc4-e3fe051eb85e",
   "metadata": {},
   "source": [
    "Now we can create a new library containing polynomial terms by calling `from_polynomial_matrices`. We need to provide: \n",
    "1. `n_terms`: number of mutliplication terms.\n",
    "2. `intercept`: include the identity matrix as a feature.\n",
    "3. `symmetry`: symmetry property of the feature. Here we want only symmetric features."
   ]
  },
  {
   "cell_type": "code",
   "execution_count": 5,
   "id": "c38eedce-3dfd-4c37-baee-6009df155290",
   "metadata": {},
   "outputs": [],
   "source": [
    "library = FeatureLibrary.from_polynomial_matrices(variable_names=variable_names, \n",
    "                                                  transpose_map=transpose_map, \n",
    "                                                  n_terms=4, intercept=True, symmetry='symmetric')\n",
    "#library"
   ]
  },
  {
   "cell_type": "markdown",
   "id": "1bbe4722-c2fc-4fe8-a042-14c73addb7b2",
   "metadata": {},
   "source": [
    "We will also make a scalar library which returns the trace of these polynomial terms. Note that trivially equal features have been removed."
   ]
  },
  {
   "cell_type": "code",
   "execution_count": 6,
   "id": "87283fe0-f362-4820-a8b0-c83934dee9a8",
   "metadata": {},
   "outputs": [
    {
     "data": {
      "text/plain": [
       "Type of feature output: scalar\n",
       "Variables names: {'∇Uᵀ', '∇U', 'A'}\n",
       "Variables transpose map: {'A': 'A', '∇U': '∇Uᵀ', '∇Uᵀ': '∇U'}\n",
       "Number of feature_functions: 28\n",
       "(0)\ttr(A)\n",
       "(1)\ttr(∇U)\n",
       "(2)\ttr(A∘A)\n",
       "(3)\ttr(A∘∇U)\n",
       "(4)\ttr(∇U∘∇U)\n",
       "(5)\ttr(∇U∘∇Uᵀ)\n",
       "(6)\ttr(A∘A∘A)\n",
       "(7)\ttr(A∘A∘∇U)\n",
       "(8)\ttr(A∘∇U∘∇U)\n",
       "(9)\ttr(A∘∇U∘∇Uᵀ)\n",
       "(10)\ttr(A∘∇Uᵀ∘∇U)\n",
       "(11)\ttr(∇U∘∇U∘∇U)\n",
       "(12)\ttr(∇U∘∇U∘∇Uᵀ)\n",
       "(13)\ttr(A∘A∘A∘A)\n",
       "(14)\ttr(A∘A∘A∘∇U)\n",
       "(15)\ttr(A∘A∘∇U∘∇U)\n",
       "(16)\ttr(A∘A∘∇U∘∇Uᵀ)\n",
       "(17)\ttr(A∘A∘∇Uᵀ∘∇U)\n",
       "(18)\ttr(A∘∇U∘A∘∇U)\n",
       "(19)\ttr(A∘∇U∘A∘∇Uᵀ)\n",
       "(20)\ttr(A∘∇U∘∇U∘∇U)\n",
       "(21)\ttr(A∘∇U∘∇U∘∇Uᵀ)\n",
       "(22)\ttr(A∘∇U∘∇Uᵀ∘∇U)\n",
       "(23)\ttr(A∘∇Uᵀ∘∇U∘∇U)\n",
       "(24)\ttr(∇U∘∇U∘∇U∘∇U)\n",
       "(25)\ttr(∇U∘∇U∘∇U∘∇Uᵀ)\n",
       "(26)\ttr(∇U∘∇U∘∇Uᵀ∘∇Uᵀ)\n",
       "(27)\ttr(∇U∘∇Uᵀ∘∇U∘∇Uᵀ)"
      ]
     },
     "execution_count": 6,
     "metadata": {},
     "output_type": "execute_result"
    }
   ],
   "source": [
    "library_trace = FeatureLibrary.from_polynomial_traces(variable_names, transpose_map, n_terms=4, intercept=False)\n",
    "library_trace"
   ]
  },
  {
   "cell_type": "markdown",
   "id": "1009b8da-d1af-4fa3-9a1e-b4dfd723f9cc",
   "metadata": {},
   "source": [
    "Before we go on, we will remove `tr(∇U)` from the library as we expect this should be null from imcompressibility assumption."
   ]
  },
  {
   "cell_type": "code",
   "execution_count": 7,
   "id": "ed049caa-551b-45a0-857f-42539e9f158c",
   "metadata": {},
   "outputs": [
    {
     "data": {
      "text/plain": [
       "Type of feature output: scalar\n",
       "Variables names: {'∇Uᵀ', '∇U', 'A'}\n",
       "Variables transpose map: {'A': 'A', '∇U': '∇Uᵀ', '∇Uᵀ': '∇U'}\n",
       "Number of feature_functions: 27\n",
       "(0)\ttr(A)\n",
       "(1)\ttr(A∘A)\n",
       "(2)\ttr(A∘∇U)\n",
       "(3)\ttr(∇U∘∇U)\n",
       "(4)\ttr(∇U∘∇Uᵀ)\n",
       "(5)\ttr(A∘A∘A)\n",
       "(6)\ttr(A∘A∘∇U)\n",
       "(7)\ttr(A∘∇U∘∇U)\n",
       "(8)\ttr(A∘∇U∘∇Uᵀ)\n",
       "(9)\ttr(A∘∇Uᵀ∘∇U)\n",
       "(10)\ttr(∇U∘∇U∘∇U)\n",
       "(11)\ttr(∇U∘∇U∘∇Uᵀ)\n",
       "(12)\ttr(A∘A∘A∘A)\n",
       "(13)\ttr(A∘A∘A∘∇U)\n",
       "(14)\ttr(A∘A∘∇U∘∇U)\n",
       "(15)\ttr(A∘A∘∇U∘∇Uᵀ)\n",
       "(16)\ttr(A∘A∘∇Uᵀ∘∇U)\n",
       "(17)\ttr(A∘∇U∘A∘∇U)\n",
       "(18)\ttr(A∘∇U∘A∘∇Uᵀ)\n",
       "(19)\ttr(A∘∇U∘∇U∘∇U)\n",
       "(20)\ttr(A∘∇U∘∇U∘∇Uᵀ)\n",
       "(21)\ttr(A∘∇U∘∇Uᵀ∘∇U)\n",
       "(22)\ttr(A∘∇Uᵀ∘∇U∘∇U)\n",
       "(23)\ttr(∇U∘∇U∘∇U∘∇U)\n",
       "(24)\ttr(∇U∘∇U∘∇U∘∇Uᵀ)\n",
       "(25)\ttr(∇U∘∇U∘∇Uᵀ∘∇Uᵀ)\n",
       "(26)\ttr(∇U∘∇Uᵀ∘∇U∘∇Uᵀ)"
      ]
     },
     "execution_count": 7,
     "metadata": {},
     "output_type": "execute_result"
    }
   ],
   "source": [
    "library_trace.remove_by_name('tr(∇U)')"
   ]
  },
  {
   "cell_type": "code",
   "execution_count": 8,
   "id": "bc40a06d",
   "metadata": {},
   "outputs": [],
   "source": [
    "library_trace = library_trace + library_trace*library_trace"
   ]
  },
  {
   "cell_type": "markdown",
   "id": "d6b7ee59-7fce-4333-867f-fb7caf9b9b04",
   "metadata": {},
   "source": [
    "Now it is time to combine our matrix library and scalar library."
   ]
  },
  {
   "cell_type": "code",
   "execution_count": 9,
   "id": "e67388cc-5d79-45c4-9da9-075f9023d9b8",
   "metadata": {},
   "outputs": [
    {
     "data": {
      "text/plain": [
       "28014"
      ]
     },
     "execution_count": 9,
     "metadata": {},
     "output_type": "execute_result"
    }
   ],
   "source": [
    "library = library + library_trace*library\n",
    "len(library)"
   ]
  },
  {
   "cell_type": "markdown",
   "id": "189a5723-56be-43bb-9032-87ff4bed7c5b",
   "metadata": {},
   "source": [
    "We end up with a gigantic library we certainly want to trim, so we do by specifying the maximum degree in each variable:"
   ]
  },
  {
   "cell_type": "code",
   "execution_count": 10,
   "id": "60ed3373-6214-4a48-8e8a-15c4efc5ba45",
   "metadata": {},
   "outputs": [
    {
     "data": {
      "text/plain": [
       "Type of feature output: matrix\n",
       "Symmetry of features: symmetric\n",
       "Variables names: {'∇Uᵀ', '∇U', 'A'}\n",
       "Variables transpose map: {'A': 'A', '∇U': '∇Uᵀ', '∇Uᵀ': '∇U'}\n",
       "Number of feature_functions: 126\n",
       "(0)\tI\n",
       "(1)\tA\n",
       "(2)\t∇U + (∇U)ᵀ\n",
       "(3)\tA∘A\n",
       "(4)\tA∘∇U + (A∘∇U)ᵀ\n",
       "(5)\tA∘∇Uᵀ + (A∘∇Uᵀ)ᵀ\n",
       "(6)\t∇U∘∇Uᵀ\n",
       "(7)\t∇Uᵀ∘∇U\n",
       "(8)\tA∘A∘A\n",
       "(9)\tA∘A∘∇U + (A∘A∘∇U)ᵀ\n",
       "(10)\tA∘A∘∇Uᵀ + (A∘A∘∇Uᵀ)ᵀ\n",
       "(11)\tA∘∇U∘A + (A∘∇U∘A)ᵀ\n",
       "(12)\tA∘∇U∘∇Uᵀ + (A∘∇U∘∇Uᵀ)ᵀ\n",
       "(13)\tA∘∇Uᵀ∘∇U + (A∘∇Uᵀ∘∇U)ᵀ\n",
       "(14)\t∇U∘A∘∇Uᵀ\n",
       "(15)\t∇Uᵀ∘A∘∇U\n",
       "(16)\tA∘A∘A∘∇U + (A∘A∘A∘∇U)ᵀ\n",
       "(17)\tA∘A∘A∘∇Uᵀ + (A∘A∘A∘∇Uᵀ)ᵀ\n",
       "(18)\tA∘A∘∇U∘A + (A∘A∘∇U∘A)ᵀ\n",
       "(19)\tA∘A∘∇U∘∇Uᵀ + (A∘A∘∇U∘∇Uᵀ)ᵀ\n",
       "(20)\tA∘A∘∇Uᵀ∘A + (A∘A∘∇Uᵀ∘A)ᵀ\n",
       "(21)\tA∘A∘∇Uᵀ∘∇U + (A∘A∘∇Uᵀ∘∇U)ᵀ\n",
       "(22)\tA∘∇U∘A∘∇Uᵀ + (A∘∇U∘A∘∇Uᵀ)ᵀ\n",
       "(23)\tA∘∇U∘∇Uᵀ∘A\n",
       "(24)\tA∘∇Uᵀ∘A∘∇U + (A∘∇Uᵀ∘A∘∇U)ᵀ\n",
       "(25)\tA∘∇Uᵀ∘∇U∘A\n",
       "(26)\t∇U∘A∘A∘∇Uᵀ\n",
       "(27)\t∇Uᵀ∘A∘A∘∇U\n",
       "(28)\ttr(A)I\n",
       "(29)\ttr(A)A\n",
       "(30)\ttr(A)(∇U + (∇U)ᵀ)\n",
       "(31)\ttr(A)A∘A\n",
       "(32)\ttr(A)(A∘∇U + (A∘∇U)ᵀ)\n",
       "(33)\ttr(A)(A∘∇Uᵀ + (A∘∇Uᵀ)ᵀ)\n",
       "(34)\ttr(A)∇U∘∇Uᵀ\n",
       "(35)\ttr(A)∇Uᵀ∘∇U\n",
       "(36)\ttr(A)(A∘A∘∇U + (A∘A∘∇U)ᵀ)\n",
       "(37)\ttr(A)(A∘A∘∇Uᵀ + (A∘A∘∇Uᵀ)ᵀ)\n",
       "(38)\ttr(A)(A∘∇U∘A + (A∘∇U∘A)ᵀ)\n",
       "(39)\ttr(A)(A∘∇U∘∇Uᵀ + (A∘∇U∘∇Uᵀ)ᵀ)\n",
       "(40)\ttr(A)(A∘∇Uᵀ∘∇U + (A∘∇Uᵀ∘∇U)ᵀ)\n",
       "(41)\ttr(A)∇U∘A∘∇Uᵀ\n",
       "(42)\ttr(A)∇Uᵀ∘A∘∇U\n",
       "(43)\ttr(A)(A∘A∘∇U∘∇Uᵀ + (A∘A∘∇U∘∇Uᵀ)ᵀ)\n",
       "(44)\ttr(A)(A∘A∘∇Uᵀ∘∇U + (A∘A∘∇Uᵀ∘∇U)ᵀ)\n",
       "(45)\ttr(A)(A∘∇U∘A∘∇Uᵀ + (A∘∇U∘A∘∇Uᵀ)ᵀ)\n",
       "(46)\ttr(A)A∘∇U∘∇Uᵀ∘A\n",
       "(47)\ttr(A)(A∘∇Uᵀ∘A∘∇U + (A∘∇Uᵀ∘A∘∇U)ᵀ)\n",
       "(48)\ttr(A)A∘∇Uᵀ∘∇U∘A\n",
       "(49)\ttr(A)∇U∘A∘A∘∇Uᵀ\n",
       "(50)\ttr(A)∇Uᵀ∘A∘A∘∇U\n",
       "(51)\ttr(A∘A)I\n",
       "(52)\ttr(A∘A)A\n",
       "(53)\ttr(A∘A)(∇U + (∇U)ᵀ)\n",
       "(54)\ttr(A∘A)(A∘∇U + (A∘∇U)ᵀ)\n",
       "(55)\ttr(A∘A)(A∘∇Uᵀ + (A∘∇Uᵀ)ᵀ)\n",
       "(56)\ttr(A∘A)∇U∘∇Uᵀ\n",
       "(57)\ttr(A∘A)∇Uᵀ∘∇U\n",
       "(58)\ttr(A∘A)(A∘∇U∘∇Uᵀ + (A∘∇U∘∇Uᵀ)ᵀ)\n",
       "(59)\ttr(A∘A)(A∘∇Uᵀ∘∇U + (A∘∇Uᵀ∘∇U)ᵀ)\n",
       "(60)\ttr(A∘A)∇U∘A∘∇Uᵀ\n",
       "(61)\ttr(A∘A)∇Uᵀ∘A∘∇U\n",
       "(62)\ttr(A∘∇U)I\n",
       "(63)\ttr(A∘∇U)A\n",
       "(64)\ttr(A∘∇U)A∘A\n",
       "(65)\ttr(A∘∇U)(A∘∇Uᵀ + (A∘∇Uᵀ)ᵀ)\n",
       "(66)\ttr(A∘∇U)(A∘A∘∇Uᵀ + (A∘A∘∇Uᵀ)ᵀ)\n",
       "(67)\ttr(∇U∘∇Uᵀ)I\n",
       "(68)\ttr(∇U∘∇Uᵀ)A\n",
       "(69)\ttr(∇U∘∇Uᵀ)A∘A\n",
       "(70)\ttr(∇U∘∇Uᵀ)A∘A∘A\n",
       "(71)\ttr(A∘A∘A)I\n",
       "(72)\ttr(A∘A∘A)(∇U + (∇U)ᵀ)\n",
       "(73)\ttr(A∘A∘A)∇U∘∇Uᵀ\n",
       "(74)\ttr(A∘A∘A)∇Uᵀ∘∇U\n",
       "(75)\ttr(A∘A∘∇U)I\n",
       "(76)\ttr(A∘A∘∇U)A\n",
       "(77)\ttr(A∘A∘∇U)(A∘∇Uᵀ + (A∘∇Uᵀ)ᵀ)\n",
       "(78)\ttr(A∘∇U∘∇Uᵀ)I\n",
       "(79)\ttr(A∘∇U∘∇Uᵀ)A\n",
       "(80)\ttr(A∘∇U∘∇Uᵀ)A∘A\n",
       "(81)\ttr(A∘∇Uᵀ∘∇U)I\n",
       "(82)\ttr(A∘∇Uᵀ∘∇U)A\n",
       "(83)\ttr(A∘∇Uᵀ∘∇U)A∘A\n",
       "(84)\ttr(A∘A∘A∘∇U)I\n",
       "(85)\ttr(A∘A∘∇U∘∇Uᵀ)I\n",
       "(86)\ttr(A∘A∘∇U∘∇Uᵀ)A\n",
       "(87)\ttr(A∘A∘∇Uᵀ∘∇U)I\n",
       "(88)\ttr(A∘A∘∇Uᵀ∘∇U)A\n",
       "(89)\ttr(A∘∇U∘A∘∇Uᵀ)I\n",
       "(90)\ttr(A∘∇U∘A∘∇Uᵀ)A\n",
       "(91)\t(tr(A))²I\n",
       "(92)\t(tr(A))²A\n",
       "(93)\t(tr(A))²(∇U + (∇U)ᵀ)\n",
       "(94)\t(tr(A))²(A∘∇U + (A∘∇U)ᵀ)\n",
       "(95)\t(tr(A))²(A∘∇Uᵀ + (A∘∇Uᵀ)ᵀ)\n",
       "(96)\t(tr(A))²∇U∘∇Uᵀ\n",
       "(97)\t(tr(A))²∇Uᵀ∘∇U\n",
       "(98)\t(tr(A))²(A∘∇U∘∇Uᵀ + (A∘∇U∘∇Uᵀ)ᵀ)\n",
       "(99)\t(tr(A))²(A∘∇Uᵀ∘∇U + (A∘∇Uᵀ∘∇U)ᵀ)\n",
       "(100)\t(tr(A))²∇U∘A∘∇Uᵀ\n",
       "(101)\t(tr(A))²∇Uᵀ∘A∘∇U\n",
       "(102)\ttr(A)tr(A∘A)I\n",
       "(103)\ttr(A)tr(A∘A)(∇U + (∇U)ᵀ)\n",
       "(104)\ttr(A)tr(A∘A)∇U∘∇Uᵀ\n",
       "(105)\ttr(A)tr(A∘A)∇Uᵀ∘∇U\n",
       "(106)\ttr(A)tr(A∘∇U)I\n",
       "(107)\ttr(A)tr(A∘∇U)A\n",
       "(108)\ttr(A)tr(A∘∇U)(A∘∇Uᵀ + (A∘∇Uᵀ)ᵀ)\n",
       "(109)\ttr(A)tr(∇U∘∇Uᵀ)I\n",
       "(110)\ttr(A)tr(∇U∘∇Uᵀ)A\n",
       "(111)\ttr(A)tr(∇U∘∇Uᵀ)A∘A\n",
       "(112)\ttr(A)tr(A∘A∘∇U)I\n",
       "(113)\ttr(A)tr(A∘∇U∘∇Uᵀ)I\n",
       "(114)\ttr(A)tr(A∘∇U∘∇Uᵀ)A\n",
       "(115)\ttr(A)tr(A∘∇Uᵀ∘∇U)I\n",
       "(116)\ttr(A)tr(A∘∇Uᵀ∘∇U)A\n",
       "(117)\ttr(A)tr(A∘A∘∇U∘∇Uᵀ)I\n",
       "(118)\ttr(A)tr(A∘A∘∇Uᵀ∘∇U)I\n",
       "(119)\ttr(A)tr(A∘∇U∘A∘∇Uᵀ)I\n",
       "(120)\ttr(A∘A)tr(A∘∇U)I\n",
       "(121)\ttr(A∘A)tr(∇U∘∇Uᵀ)I\n",
       "(122)\ttr(A∘A)tr(∇U∘∇Uᵀ)A\n",
       "(123)\ttr(A∘A)tr(A∘∇U∘∇Uᵀ)I\n",
       "(124)\ttr(A∘A)tr(A∘∇Uᵀ∘∇U)I\n",
       "(125)\ttr(∇U∘∇Uᵀ)tr(A∘A∘A)I"
      ]
     },
     "execution_count": 10,
     "metadata": {},
     "output_type": "execute_result"
    }
   ],
   "source": [
    "library.trim({'A':3, '∇U':1, '∇Uᵀ':1})"
   ]
  },
  {
   "cell_type": "markdown",
   "id": "4c3d0bef",
   "metadata": {},
   "source": [
    "## Evaluate strong-form features\n",
    "\n",
    "For each scenario in the dataset, we evalulate the features from the original (noisy) data and store them in a list. These are features that would be used in a direct application of SINDy."
   ]
  },
  {
   "cell_type": "code",
   "execution_count": 11,
   "id": "52f34b24",
   "metadata": {},
   "outputs": [],
   "source": [
    "for scenario, data in dataset.items():\n",
    "    features = []\n",
    "    for featurize in library.feature_functions:\n",
    "        features.append(featurize(data))\n",
    "    dataset[scenario]['features'] = features"
   ]
  },
  {
   "cell_type": "code",
   "execution_count": 12,
   "id": "2179fc81",
   "metadata": {},
   "outputs": [
    {
     "data": {
      "application/vnd.jupyter.widget-view+json": {
       "model_id": "ffb1d945b3b94ea282f3b3fd76385ffb",
       "version_major": 2,
       "version_minor": 0
      },
      "text/plain": [
       "interactive(children=(Dropdown(description='Scenario:', options=('random_0_n1000', 'random_1_n1000', 'random_2…"
      ]
     },
     "metadata": {},
     "output_type": "display_data"
    }
   ],
   "source": [
    "def inspect(scenario, line, feature):\n",
    "\n",
    "    ln = ['x', 'y', 'z']\n",
    "    plt.plot(dataset[scenario]['t'], dataset[scenario]['features'][feature][:,line,0], c='#0c2c84', linewidth=2, label=f'{ln[line]}x')\n",
    "    plt.plot(dataset[scenario]['t'], dataset[scenario]['features'][feature][:,line,1], c='#1d91c0', linewidth=2, label=f'{ln[line]}y')\n",
    "    plt.plot(dataset[scenario]['t'], dataset[scenario]['features'][feature][:,line,2], c='#7fcdbb', linewidth=2, label=f'{ln[line]}z')\n",
    "    plt.legend()\n",
    "    \n",
    "    plt.show()\n",
    "\n",
    "\n",
    "w = interactive(inspect, scenario=widgets.Dropdown(\n",
    "                    options=list(dataset.keys()),\n",
    "                    value=next(iter(dataset.keys())),\n",
    "                    description='Scenario:',\n",
    "                    disabled=False,\n",
    "                    ),\n",
    "                    line=widgets.Dropdown(\n",
    "                    options=[('xx, xy, xz', 0),('yx, yy, yz', 1),('zx, zy, zz', 2)],\n",
    "                    value=0,\n",
    "                    description='Line:',\n",
    "                    disabled=False,\n",
    "                    ),\n",
    "                    feature=widgets.Dropdown(\n",
    "                    options=list(zip(library.feature_names, range(len(library)))),\n",
    "                    value=0,\n",
    "                    description='Feature precursor:',\n",
    "                    disabled=False,\n",
    "                    )\n",
    "               )\n",
    "w"
   ]
  },
  {
   "cell_type": "markdown",
   "id": "f2e49b9e",
   "metadata": {},
   "source": [
    "## Make weak-form features\n",
    "\n",
    "From the literature, weak-form SINDy is more resilient to noisy data. The weak form is simply achieved by projection (weighted sum in our case) onto test functions. Here, we call the test functions *windows*, refering to signal processing. Sampling the weak-form problem is then, for each window, projecting the stress or conformtation tensor onto `diff(window)` and feature onto `window`, where `diff` is a finite differenciation function. In this descrete setting, the strong-form problem with Euler scheme is actually a special case where `window = [0, 1, 0]` and `diff(window) = [0, -1, 1]`.\n",
    "\n",
    "A few important remarks:\n",
    "\n",
    "1. Using windows with a larger support acts as a low-pass filter on the features. However, as pointed out by [REF], features are evaluated before this filtering occurs, so that no assumption is made on the smoothness of the origninal data.\n",
    "\n",
    "2. It is not obvious which window shape we should use. Some are better at filtering out high frequencies but is this really what matters? In our case, we don't know much about the properties of the noise. For example, using a rectangular window is not the best choice for noise, but it brings the problem closer to what we ultimately want to do: evaluate the stress (and not the rate of change, which is only a proxy). Applying a rectangular window is like integrating the data over chunks of time, producing an appraoch similar to that of Hayden Schaeffer and Scott G. McCalla, https://doi.org/10.1103/PhysRevE.96.023302, but avoiding drift.\n",
    "\n",
    "3. We don't go into the complications of optimal window placement, which is a data selection process after all. At this point, we are still agnostic about the information content of the data, and we make the following choice: for a given window size, windows are distributed to cover the entire data but don't overlap (some data points at the end of the simulated scenario may be excluded). Therefore this approach is equivalent to a low-pass filtering followed by subsampling (in signal processing sense): if we choose a window size greater than one, we end up with less data in the weak form. Now, we can do this process with different window sizes and shapes, and regenerate as many weak-form data points as we want."
   ]
  },
  {
   "cell_type": "code",
   "execution_count": 13,
   "id": "bd1ed1ce",
   "metadata": {},
   "outputs": [
    {
     "data": {
      "image/png": "[encoded data removed]",
      "text/plain": [
       "<Figure size 1080x360 with 2 Axes>"
      ]
     },
     "metadata": {
      "needs_background": "light"
     },
     "output_type": "display_data"
    }
   ],
   "source": [
    "from matsindy.weak import make_window\n",
    "\n",
    "window = make_window(16, 'rectangular')\n",
    "\n",
    "width = len(window)\n",
    "x = np.arange(width)\n",
    "#print(window)\n",
    "wind_diff = np.zeros(width)\n",
    "# derivative: \n",
    "wind_diff[1:] = -np.diff(window)\n",
    "plt.rcParams['figure.figsize'] = [15, 5]\n",
    "fig, ax = plt.subplots(ncols=2)\n",
    "ax[0].bar(x, window, width=0.01*width)\n",
    "ax[0].plot(window,'o',markersize=10)\n",
    "ax[1].bar(x, wind_diff, width=0.01*width)\n",
    "ax[1].plot(wind_diff,'o',markersize=10)\n",
    "plt.show()"
   ]
  },
  {
   "cell_type": "code",
   "execution_count": 14,
   "id": "a432aec8",
   "metadata": {},
   "outputs": [],
   "source": [
    "from matsindy.weak import weak_diff\n",
    "\n",
    "ys_dataset = {}\n",
    "for scenario, data in dataset.items():\n",
    "    dt = data['t'][1]-data['t'][0]  # Assuming uniform time-step\n",
    "    ys_dataset[scenario] = weak_diff(data['A'], dt, window)"
   ]
  },
  {
   "cell_type": "code",
   "execution_count": 15,
   "id": "7ffe3ba5",
   "metadata": {},
   "outputs": [],
   "source": [
    "from matsindy.weak import weak_form\n",
    "\n",
    "# Weak-form features\n",
    "wfeatures_dataset = {}\n",
    "for scenario, data in dataset.items():\n",
    "    dt = data['t'][1]-data['t'][0]\n",
    "    wfeatures_dataset[scenario] = [weak_form(feature, dt, window) for feature in data['features']]"
   ]
  },
  {
   "cell_type": "code",
   "execution_count": 16,
   "id": "678f7b37",
   "metadata": {},
   "outputs": [
    {
     "data": {
      "image/png": "[encoded data removed]",
      "text/plain": [
       "<Figure size 1080x360 with 1 Axes>"
      ]
     },
     "metadata": {
      "needs_background": "light"
     },
     "output_type": "display_data"
    }
   ],
   "source": [
    "scenario = next(iter(dataset_files.keys()))\n",
    "plt.plot(dataset[scenario]['t'], dataset[scenario]['A'][:,0,0])\n",
    "plt.plot(dataset[scenario]['t'][width//2:-width//2+1:width-2], wfeatures_dataset[scenario][1][:,0,0]/dt, '.')\n",
    "plt.show()"
   ]
  },
  {
   "cell_type": "markdown",
   "id": "efcb408c",
   "metadata": {},
   "source": [
    "## Assemble matrix before regression \n",
    "\n",
    "Note: at this point, time differentiation has already been done, so the order of data points doesn't matter."
   ]
  },
  {
   "cell_type": "code",
   "execution_count": null,
   "id": "94b0a523",
   "metadata": {},
   "outputs": [],
   "source": []
  },
  {
   "cell_type": "code",
   "execution_count": 17,
   "id": "a9b7e1b3",
   "metadata": {},
   "outputs": [],
   "source": [
    "y_train = np.hstack([ys_dataset[scenario].flatten() for scenario in dataset.keys() - test_scenarios])\n",
    "y_test = np.hstack([ys_dataset[scenario].flatten() for scenario in test_scenarios])"
   ]
  },
  {
   "cell_type": "code",
   "execution_count": 18,
   "id": "830cc423",
   "metadata": {},
   "outputs": [
    {
     "name": "stdout",
     "output_type": "stream",
     "text": [
      "(28737,)\n",
      "(7272,)\n"
     ]
    }
   ],
   "source": [
    "print(y_train.shape)\n",
    "print(y_test.shape)"
   ]
  },
  {
   "cell_type": "code",
   "execution_count": 19,
   "id": "9fe262d2",
   "metadata": {},
   "outputs": [],
   "source": [
    "Xs = []\n",
    "for scenario in dataset.keys() - test_scenarios:\n",
    "    flat_features = [feature.flatten() for feature in wfeatures_dataset[scenario]]\n",
    "    X = np.array(flat_features)\n",
    "    Xs.append(X.T)\n",
    "X_train = np.vstack(Xs)\n",
    "\n",
    "Xs = []\n",
    "for scenario in test_scenarios:\n",
    "    flat_features = [feature.flatten() for feature in wfeatures_dataset[scenario]]\n",
    "    X = np.array(flat_features)\n",
    "    Xs.append(X.T)\n",
    "X_test = np.vstack(Xs)"
   ]
  },
  {
   "cell_type": "code",
   "execution_count": 20,
   "id": "1e14a28f",
   "metadata": {},
   "outputs": [
    {
     "name": "stdout",
     "output_type": "stream",
     "text": [
      "(28737, 126)\n",
      "(7272, 126)\n"
     ]
    }
   ],
   "source": [
    "print(X_train.shape)\n",
    "print(X_test.shape)"
   ]
  },
  {
   "cell_type": "code",
   "execution_count": 21,
   "id": "539c2547",
   "metadata": {},
   "outputs": [
    {
     "data": {
      "text/plain": [
       "120"
      ]
     },
     "execution_count": 21,
     "metadata": {},
     "output_type": "execute_result"
    }
   ],
   "source": [
    "np.linalg.matrix_rank(X_train)"
   ]
  },
  {
   "cell_type": "markdown",
   "id": "75915706",
   "metadata": {},
   "source": [
    "## Regression"
   ]
  },
  {
   "cell_type": "code",
   "execution_count": 22,
   "id": "567bb6d7",
   "metadata": {},
   "outputs": [],
   "source": [
    "from matsindy.optimizer import SSR, SSRD, STLSQ, Ridge_STLSQ, backward_elimination"
   ]
  },
  {
   "cell_type": "code",
   "execution_count": 23,
   "id": "b3316a96",
   "metadata": {},
   "outputs": [],
   "source": [
    "#models_be = backward_elimination(X_train, y_train)"
   ]
  },
  {
   "cell_type": "code",
   "execution_count": 24,
   "id": "53d9a6a7",
   "metadata": {},
   "outputs": [],
   "source": [
    "models_SSR = SSR(X_train, y_train)\n",
    "models_SSRD = SSRD(X_train, y_train)"
   ]
  },
  {
   "cell_type": "code",
   "execution_count": 25,
   "id": "bc4aa3f0",
   "metadata": {},
   "outputs": [],
   "source": [
    "models_STLSQ = STLSQ(X_train, y_train, threshold=0.01)\n",
    "models_Ridge_STLSQ = Ridge_STLSQ(X_train, y_train, threshold=0.05, alpha=0.08)"
   ]
  },
  {
   "cell_type": "code",
   "execution_count": 26,
   "id": "1d358f5e",
   "metadata": {},
   "outputs": [],
   "source": [
    "#errors_be = list(model.error for model in models_be)\n",
    "#num_terms_be = list(model.num_terms for model in models_be)\n",
    "\n",
    "errors_SSR = list(model.error for model in models_SSR)\n",
    "num_terms_SSR = list(model.num_terms for model in models_SSR)\n",
    "\n",
    "errors_SSRD = list(model.error for model in models_SSRD)\n",
    "num_terms_SSRD = list(model.num_terms for model in models_SSRD)\n",
    "\n",
    "errors_STLSQ = list(model.error for model in models_STLSQ)\n",
    "num_terms_STLSQ = list(model.num_terms for model in models_STLSQ)\n",
    "\n",
    "errors_Ridge_STLSQ = list(model.error for model in models_Ridge_STLSQ)\n",
    "num_terms_Ridge_STLSQ = list(model.num_terms for model in models_Ridge_STLSQ)"
   ]
  },
  {
   "cell_type": "code",
   "execution_count": 27,
   "id": "92eb212a",
   "metadata": {},
   "outputs": [
    {
     "data": {
      "image/png": "[encoded data removed]",
      "text/plain": [
       "<Figure size 1080x360 with 1 Axes>"
      ]
     },
     "metadata": {
      "needs_background": "light"
     },
     "output_type": "display_data"
    }
   ],
   "source": [
    "#plt.semilogy(num_terms_be, errors_be, '.-', c='k', label='backward elimination')\n",
    "plt.semilogy(num_terms_SSR, errors_SSR, '.-', label='SSR')\n",
    "plt.semilogy(num_terms_SSRD, errors_SSRD, '.-', label='SSRD')\n",
    "plt.semilogy(num_terms_STLSQ, errors_STLSQ, '.-', label='STLSQ')\n",
    "plt.semilogy(num_terms_Ridge_STLSQ, errors_Ridge_STLSQ, '.-', label='Ridge_STLSQ')\n",
    "plt.legend()\n",
    "plt.show()"
   ]
  },
  {
   "cell_type": "code",
   "execution_count": 28,
   "id": "b78aab2e",
   "metadata": {},
   "outputs": [
    {
     "data": {
      "application/vnd.jupyter.widget-view+json": {
       "model_id": "32d12a48151941d99f81d4615fa72788",
       "version_major": 2,
       "version_minor": 0
      },
      "text/plain": [
       "interactive(children=(Dropdown(description='Terms:', index=125, options=((126, <matsindy.model.model object at…"
      ]
     },
     "metadata": {},
     "output_type": "display_data"
    }
   ],
   "source": [
    "models = models_SSRD\n",
    "\n",
    "def view_model(model):    \n",
    "    model.print(library)\n",
    "    # Plot error dist\n",
    "    y_hat = model.predict(X_train)\n",
    "    \n",
    "    fig, ax = plt.subplots(ncols=2)\n",
    "    \n",
    "    ax[0].plot(y_train, y_train, '-', c='gray')\n",
    "    ax[0].plot(y_train, y_hat, '.', alpha=0.1)\n",
    "    ax[0].set_ylabel('Predicted value')\n",
    "    ax[0].set_xlabel('Training value')\n",
    "    ax[0].set_title('Prediction')\n",
    "    \n",
    "    ax[1].hist(y_train-y_hat, bins=200)\n",
    "    ax[1].set_yscale('log', nonposy='clip')\n",
    "    ax[1].set_title('Residuals')\n",
    "    plt.show()\n",
    "\n",
    "w2 = interactive(view_model, \n",
    "                model=widgets.Dropdown(\n",
    "                    options=list((model.num_terms, model) for model in models),\n",
    "                    value=models[-1],\n",
    "                    description='Terms:',\n",
    "                    disabled=False,\n",
    "                    )\n",
    "                )\n",
    "w2"
   ]
  },
  {
   "cell_type": "markdown",
   "id": "a279e430",
   "metadata": {},
   "source": [
    "## Simulation error"
   ]
  },
  {
   "cell_type": "code",
   "execution_count": 29,
   "id": "75812b29",
   "metadata": {},
   "outputs": [],
   "source": [
    "model = next(filter(lambda x: x.num_terms == 4, models_SSRD))\n",
    "sim, err = model.simulate('A', dataset['turbulence_0_n1000'], library, method='Euler', return_trajectory=True)"
   ]
  },
  {
   "cell_type": "code",
   "execution_count": 30,
   "id": "53693de3",
   "metadata": {},
   "outputs": [
    {
     "data": {
      "image/png": "[encoded data removed]",
      "text/plain": [
       "<Figure size 1080x360 with 1 Axes>"
      ]
     },
     "metadata": {
      "needs_background": "light"
     },
     "output_type": "display_data"
    }
   ],
   "source": [
    "t = dataset['turbulence_0_n1000']['t']\n",
    "obs = dataset['turbulence_0_n1000']['A']\n",
    "\n",
    "plt.plot(t, obs[:,0,0], c='#0c2c84', linewidth=2, label='xx')\n",
    "plt.plot(t, sim[:,0,0], '--', c='#0c2c84', linewidth=2, label='xx sim')\n",
    "\n",
    "plt.plot(t, obs[:,0,1], c='#1d91c0', linewidth=2, label='xy')\n",
    "plt.plot(t, sim[:,0,1], '--', c='#1d91c0', linewidth=2, label='xy sim')\n",
    "\n",
    "plt.plot(t, obs[:,0,2], c='#7fcdbb', linewidth=2, label='xz')\n",
    "plt.plot(t, sim[:,0,2], '--', c='#7fcdbb', linewidth=2, label='xz sim')\n",
    "plt.legend()\n",
    "    \n",
    "plt.show()"
   ]
  },
  {
   "cell_type": "code",
   "execution_count": 31,
   "id": "0e835918",
   "metadata": {},
   "outputs": [
    {
     "data": {
      "text/plain": [
       "array([[[ 7.26957351e-01,  1.32441993e-02,  6.77494580e-04],\n",
       "        [ 1.32441993e-02,  8.08097399e-01, -3.35936331e-03],\n",
       "        [ 6.77494580e-04, -3.35936331e-03,  8.13931161e-01]],\n",
       "\n",
       "       [[ 7.27745599e-01,  1.15576960e-02, -2.23407611e-03],\n",
       "        [ 1.15576960e-02,  7.99029869e-01, -8.13611976e-03],\n",
       "        [-2.23407611e-03, -8.13611976e-03,  8.22383116e-01]],\n",
       "\n",
       "       [[ 7.28521989e-01,  9.87817875e-03, -5.09978665e-03],\n",
       "        [ 9.87817875e-03,  7.90013163e-01, -1.27089641e-02],\n",
       "        [-5.09978665e-03, -1.27089641e-02,  8.31031238e-01]],\n",
       "\n",
       "       ...,\n",
       "\n",
       "       [[ 1.50714745e+00, -2.98015908e-01, -5.42482188e-01],\n",
       "        [-2.98015908e-01,  1.05154428e+00,  1.15473329e-02],\n",
       "        [-5.42482188e-01,  1.15473329e-02,  1.26319911e+00]],\n",
       "\n",
       "       [[ 1.50497784e+00, -2.99439153e-01, -5.38143587e-01],\n",
       "        [-2.99439153e-01,  1.05181063e+00,  9.80421243e-03],\n",
       "        [-5.38143587e-01,  9.80421243e-03,  1.26116650e+00]],\n",
       "\n",
       "       [[ 1.50281223e+00, -3.00876298e-01, -5.33800937e-01],\n",
       "        [-3.00876298e-01,  1.05208778e+00,  8.07106875e-03],\n",
       "        [-5.33800937e-01,  8.07106875e-03,  1.25914455e+00]]])"
      ]
     },
     "execution_count": 31,
     "metadata": {},
     "output_type": "execute_result"
    }
   ],
   "source": []
  },
  {
   "cell_type": "code",
   "execution_count": null,
   "id": "7e7bb6d0",
   "metadata": {},
   "outputs": [],
   "source": []
  },
  {
   "cell_type": "code",
   "execution_count": null,
   "id": "b74b993e",
   "metadata": {},
   "outputs": [],
   "source": []
  }
 ],
 "metadata": {
  "kernelspec": {
   "display_name": "Python 3",
   "language": "python",
   "name": "python3"
  },
  "language_info": {
   "codemirror_mode": {
    "name": "ipython",
    "version": 3
   },
   "file_extension": ".py",
   "mimetype": "text/x-python",
   "name": "python",
   "nbconvert_exporter": "python",
   "pygments_lexer": "ipython3",
   "version": "3.7.8"
  }
 },
 "nbformat": 4,
 "nbformat_minor": 5
}
