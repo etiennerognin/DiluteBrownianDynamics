{
 "cells": [
  {
   "cell_type": "markdown",
   "id": "2707231d-094d-491c-818d-babb870f3768",
   "metadata": {},
   "source": [
    "# Analyse FENE model regarding conformation tensor\n"
   ]
  },
  {
   "cell_type": "code",
   "execution_count": 1,
   "id": "a3a78a28-dc84-49f4-a0be-e88c33e0b69c",
   "metadata": {},
   "outputs": [],
   "source": [
    "import numpy as np\n",
    "from matsindy.feature_library import FeatureLibrary\n",
    "\n",
    "from ipywidgets import interactive, fixed\n",
    "import ipywidgets as widgets\n",
    "%matplotlib inline\n",
    "import matplotlib.pyplot as plt\n",
    "from matplotlib.pyplot import cm\n",
    "plt.rcParams['figure.figsize'] = [15, 8]"
   ]
  },
  {
   "cell_type": "markdown",
   "id": "d4cd1c61",
   "metadata": {},
   "source": [
    "## Datasets selection"
   ]
  },
  {
   "cell_type": "code",
   "execution_count": 2,
   "id": "96801b73",
   "metadata": {},
   "outputs": [],
   "source": [
    "# Max molecule length\n",
    "L_max = 16.\n",
    "\n",
    "# Name: file\n",
    "dataset_files = {\n",
    "    'random_0_n1000': f'outputs/FENE/L{L_max:.1f}_random_0_n1000.npz',\n",
    "    'random_1_n1000': f'outputs/FENE/L{L_max:.1f}_random_1_n1000.npz',\n",
    "    'random_2_n1000': f'outputs/FENE/L{L_max:.1f}_random_2_n1000.npz',\n",
    "    'random_3_n1000': f'outputs/FENE/L{L_max:.1f}_random_3_n1000.npz',\n",
    "    'random_4_n1000': f'outputs/FENE/L{L_max:.1f}_random_4_n1000.npz',\n",
    "    'turbulence_0_n1000': f'outputs/FENE/L{L_max:.1f}_turbulence_0_n1000.npz',\n",
    "    'turbulence_1_n1000': f'outputs/FENE/L{L_max:.1f}_turbulence_1_n1000.npz',\n",
    "    'turbulence_2_n1000': f'outputs/FENE/L{L_max:.1f}_turbulence_2_n1000.npz',\n",
    "    'turbulence_3_n1000': f'outputs/FENE/L{L_max:.1f}_turbulence_3_n1000.npz',\n",
    "    'turbulence_4_n1000': f'outputs/FENE/L{L_max:.1f}_turbulence_4_n1000.npz',\n",
    "    'contraction_0_n1000': f'outputs/FENE/L{L_max:.1f}_contraction_0_n1000.npz',\n",
    "#    'contraction_1_n1000': f'outputs/FENE/L{L_max:.1f}_contraction_1_n1000.npz',\n",
    "#    'contraction_2_n1000': f'outputs/FENE/L{L_max:.1f}_contraction_2_n1000.npz',\n",
    "#    'contraction_3_n1000': f'outputs/FENE/L{L_max:.1f}_contraction_3_n1000.npz',\n",
    "#    'contraction_4_n1000': f'outputs/FENE/L{L_max:.1f}_contraction_4_n1000.npz'\n",
    "}\n",
    "\n",
    "# Test data\n",
    "test_scenarios = {\n",
    "    'random_0_n1000', \n",
    "    'turbulence_0_n1000', \n",
    "    'turbulence_1_n1000',\n",
    "    'turbulence_2_n1000',\n",
    "#    'contraction_0_n1000'\n",
    "                 }"
   ]
  },
  {
   "cell_type": "code",
   "execution_count": 3,
   "id": "5650ea3a",
   "metadata": {},
   "outputs": [],
   "source": [
    "# Load data\n",
    "dataset = {}\n",
    "for name, file in dataset_files.items():\n",
    "    with np.load(file) as data:\n",
    "        temp = dict(data)\n",
    "        # Rename variables\n",
    "        temp['S'] = temp.pop('S_average')\n",
    "        temp['A'] = temp.pop('A_average')\n",
    "        temp['∇U'] = temp.pop('gradU')\n",
    "        # Add transposed variables\n",
    "        \n",
    "        temp['∇Uᵀ'] = np.transpose(temp['∇U'], axes=(0, 2, 1))\n",
    "        # Save\n",
    "        dataset[name] = temp"
   ]
  },
  {
   "cell_type": "markdown",
   "id": "d105394c",
   "metadata": {},
   "source": [
    "## Make library of features"
   ]
  },
  {
   "cell_type": "markdown",
   "id": "e527a163-89b2-44c8-898b-202cf8e25aa6",
   "metadata": {},
   "source": [
    "Matrix libraries will take data in the form of a dictionary and access the variables using their name. Therefore we need to specify which names we want to involve in the library by defining `variable_names`. Another useful parameter is the `transpose_map` dictionary where we write information about the transpose of the variables. In this dictionary, a key is a variable name of the dataset, and the value is:\n",
    "- Same name if the variable is symmetric;\n",
    "- Same name with a leading `-` if the variable is skew;\n",
    "- The name of the transpose if it is present in the dataset;\n",
    "- `None` otherwise.\n",
    "\n",
    "Here we will be using the stress `'S'` which is symmetric, and both the velocity gradient `'∇U'` and its transposed `'∇Uᵀ'`."
   ]
  },
  {
   "cell_type": "code",
   "execution_count": 4,
   "id": "b2945e1d-ae76-4a2c-84d5-e6dc3903122e",
   "metadata": {},
   "outputs": [],
   "source": [
    "variable_names = {'A', '∇U', '∇Uᵀ'}\n",
    "transpose_map = {'A':'A', '∇U':'∇Uᵀ', '∇Uᵀ':'∇U'}"
   ]
  },
  {
   "cell_type": "markdown",
   "id": "0a51758a-556b-46d1-8fc4-e3fe051eb85e",
   "metadata": {},
   "source": [
    "Now we can create a new library containing polynomial terms by calling `from_polynomial_matrices`. We need to provide: \n",
    "1. `n_terms`: number of mutliplication terms.\n",
    "2. `intercept`: include the identity matrix as a feature.\n",
    "3. `symmetry`: symmetry property of the feature. Here we want only symmetric features."
   ]
  },
  {
   "cell_type": "code",
   "execution_count": 5,
   "id": "c38eedce-3dfd-4c37-baee-6009df155290",
   "metadata": {},
   "outputs": [],
   "source": [
    "library = FeatureLibrary.from_polynomial_matrices(variable_names=variable_names, \n",
    "                                                  transpose_map=transpose_map, \n",
    "                                                  n_terms=4, intercept=True, symmetry='symmetric')\n",
    "#library"
   ]
  },
  {
   "cell_type": "markdown",
   "id": "1bbe4722-c2fc-4fe8-a042-14c73addb7b2",
   "metadata": {},
   "source": [
    "We will also make a scalar library which returns the trace of these polynomial terms. Note that trivially equal features have been removed."
   ]
  },
  {
   "cell_type": "code",
   "execution_count": 6,
   "id": "87283fe0-f362-4820-a8b0-c83934dee9a8",
   "metadata": {},
   "outputs": [
    {
     "data": {
      "text/plain": [
       "Type of feature output: scalar\n",
       "Variables names: {'A', '∇U', '∇Uᵀ'}\n",
       "Variables transpose map: {'A': 'A', '∇U': '∇Uᵀ', '∇Uᵀ': '∇U'}\n",
       "Number of feature_functions: 28\n",
       "(0)\ttr(A)\n",
       "(1)\ttr(∇U)\n",
       "(2)\ttr(A∘A)\n",
       "(3)\ttr(A∘∇U)\n",
       "(4)\ttr(∇U∘∇U)\n",
       "(5)\ttr(∇U∘∇Uᵀ)\n",
       "(6)\ttr(A∘A∘A)\n",
       "(7)\ttr(A∘A∘∇U)\n",
       "(8)\ttr(A∘∇U∘∇U)\n",
       "(9)\ttr(A∘∇U∘∇Uᵀ)\n",
       "(10)\ttr(A∘∇Uᵀ∘∇U)\n",
       "(11)\ttr(∇U∘∇U∘∇U)\n",
       "(12)\ttr(∇U∘∇U∘∇Uᵀ)\n",
       "(13)\ttr(A∘A∘A∘A)\n",
       "(14)\ttr(A∘A∘A∘∇U)\n",
       "(15)\ttr(A∘A∘∇U∘∇U)\n",
       "(16)\ttr(A∘A∘∇U∘∇Uᵀ)\n",
       "(17)\ttr(A∘A∘∇Uᵀ∘∇U)\n",
       "(18)\ttr(A∘∇U∘A∘∇U)\n",
       "(19)\ttr(A∘∇U∘A∘∇Uᵀ)\n",
       "(20)\ttr(A∘∇U∘∇U∘∇U)\n",
       "(21)\ttr(A∘∇U∘∇U∘∇Uᵀ)\n",
       "(22)\ttr(A∘∇U∘∇Uᵀ∘∇U)\n",
       "(23)\ttr(A∘∇Uᵀ∘∇U∘∇U)\n",
       "(24)\ttr(∇U∘∇U∘∇U∘∇U)\n",
       "(25)\ttr(∇U∘∇U∘∇U∘∇Uᵀ)\n",
       "(26)\ttr(∇U∘∇U∘∇Uᵀ∘∇Uᵀ)\n",
       "(27)\ttr(∇U∘∇Uᵀ∘∇U∘∇Uᵀ)"
      ]
     },
     "execution_count": 6,
     "metadata": {},
     "output_type": "execute_result"
    }
   ],
   "source": [
    "library_trace = FeatureLibrary.from_polynomial_traces(variable_names, transpose_map, n_terms=4, intercept=False)\n",
    "library_trace"
   ]
  },
  {
   "cell_type": "raw",
   "id": "af28766d",
   "metadata": {},
   "source": [
    "library_sqrtA = FeatureLibrary.from_polynomial_traces(variable_names, transpose_map, n_terms=1, intercept=False)\n",
    "library_sqrtA.remove_by_name('tr(∇U)')\n",
    "library_sqrtA.compose(lambda x: np.sqrt(x), 'sqrt')\n",
    "library_sqrtA"
   ]
  },
  {
   "cell_type": "markdown",
   "id": "1009b8da-d1af-4fa3-9a1e-b4dfd723f9cc",
   "metadata": {},
   "source": [
    "Before we go on, we will remove `tr(∇U)` from the library as we expect this should be null from imcompressibility assumption."
   ]
  },
  {
   "cell_type": "code",
   "execution_count": 7,
   "id": "ed049caa-551b-45a0-857f-42539e9f158c",
   "metadata": {},
   "outputs": [
    {
     "data": {
      "text/plain": [
       "Type of feature output: scalar\n",
       "Variables names: {'A', '∇U', '∇Uᵀ'}\n",
       "Variables transpose map: {'A': 'A', '∇U': '∇Uᵀ', '∇Uᵀ': '∇U'}\n",
       "Number of feature_functions: 27\n",
       "(0)\ttr(A)\n",
       "(1)\ttr(A∘A)\n",
       "(2)\ttr(A∘∇U)\n",
       "(3)\ttr(∇U∘∇U)\n",
       "(4)\ttr(∇U∘∇Uᵀ)\n",
       "(5)\ttr(A∘A∘A)\n",
       "(6)\ttr(A∘A∘∇U)\n",
       "(7)\ttr(A∘∇U∘∇U)\n",
       "(8)\ttr(A∘∇U∘∇Uᵀ)\n",
       "(9)\ttr(A∘∇Uᵀ∘∇U)\n",
       "(10)\ttr(∇U∘∇U∘∇U)\n",
       "(11)\ttr(∇U∘∇U∘∇Uᵀ)\n",
       "(12)\ttr(A∘A∘A∘A)\n",
       "(13)\ttr(A∘A∘A∘∇U)\n",
       "(14)\ttr(A∘A∘∇U∘∇U)\n",
       "(15)\ttr(A∘A∘∇U∘∇Uᵀ)\n",
       "(16)\ttr(A∘A∘∇Uᵀ∘∇U)\n",
       "(17)\ttr(A∘∇U∘A∘∇U)\n",
       "(18)\ttr(A∘∇U∘A∘∇Uᵀ)\n",
       "(19)\ttr(A∘∇U∘∇U∘∇U)\n",
       "(20)\ttr(A∘∇U∘∇U∘∇Uᵀ)\n",
       "(21)\ttr(A∘∇U∘∇Uᵀ∘∇U)\n",
       "(22)\ttr(A∘∇Uᵀ∘∇U∘∇U)\n",
       "(23)\ttr(∇U∘∇U∘∇U∘∇U)\n",
       "(24)\ttr(∇U∘∇U∘∇U∘∇Uᵀ)\n",
       "(25)\ttr(∇U∘∇U∘∇Uᵀ∘∇Uᵀ)\n",
       "(26)\ttr(∇U∘∇Uᵀ∘∇U∘∇Uᵀ)"
      ]
     },
     "execution_count": 7,
     "metadata": {},
     "output_type": "execute_result"
    }
   ],
   "source": [
    "library_trace.remove_by_name('tr(∇U)')"
   ]
  },
  {
   "cell_type": "code",
   "execution_count": 8,
   "id": "bc40a06d",
   "metadata": {},
   "outputs": [],
   "source": [
    "library_trace = library_trace + library_trace*library_trace"
   ]
  },
  {
   "cell_type": "markdown",
   "id": "d6b7ee59-7fce-4333-867f-fb7caf9b9b04",
   "metadata": {},
   "source": [
    "Now it is time to combine our matrix library and scalar library."
   ]
  },
  {
   "cell_type": "code",
   "execution_count": 9,
   "id": "e67388cc-5d79-45c4-9da9-075f9023d9b8",
   "metadata": {},
   "outputs": [
    {
     "data": {
      "text/plain": [
       "28014"
      ]
     },
     "execution_count": 9,
     "metadata": {},
     "output_type": "execute_result"
    }
   ],
   "source": [
    "library = library + library_trace*library\n",
    "len(library)"
   ]
  },
  {
   "cell_type": "markdown",
   "id": "189a5723-56be-43bb-9032-87ff4bed7c5b",
   "metadata": {},
   "source": [
    "We end up with a gigantic library we certainly want to trim, so we do by specifying the maximum degree in each variable:"
   ]
  },
  {
   "cell_type": "code",
   "execution_count": 10,
   "id": "60ed3373-6214-4a48-8e8a-15c4efc5ba45",
   "metadata": {},
   "outputs": [
    {
     "data": {
      "text/plain": [
       "Type of feature output: matrix\n",
       "Symmetry of features: symmetric\n",
       "Variables names: {'A', '∇U', '∇Uᵀ'}\n",
       "Variables transpose map: {'A': 'A', '∇U': '∇Uᵀ', '∇Uᵀ': '∇U'}\n",
       "Number of feature_functions: 126\n",
       "(0)\tI\n",
       "(1)\tA\n",
       "(2)\t∇U + (∇U)ᵀ\n",
       "(3)\tA∘A\n",
       "(4)\tA∘∇U + (A∘∇U)ᵀ\n",
       "(5)\tA∘∇Uᵀ + (A∘∇Uᵀ)ᵀ\n",
       "(6)\t∇U∘∇Uᵀ\n",
       "(7)\t∇Uᵀ∘∇U\n",
       "(8)\tA∘A∘A\n",
       "(9)\tA∘A∘∇U + (A∘A∘∇U)ᵀ\n",
       "(10)\tA∘A∘∇Uᵀ + (A∘A∘∇Uᵀ)ᵀ\n",
       "(11)\tA∘∇U∘A + (A∘∇U∘A)ᵀ\n",
       "(12)\tA∘∇U∘∇Uᵀ + (A∘∇U∘∇Uᵀ)ᵀ\n",
       "(13)\tA∘∇Uᵀ∘∇U + (A∘∇Uᵀ∘∇U)ᵀ\n",
       "(14)\t∇U∘A∘∇Uᵀ\n",
       "(15)\t∇Uᵀ∘A∘∇U\n",
       "(16)\tA∘A∘A∘∇U + (A∘A∘A∘∇U)ᵀ\n",
       "(17)\tA∘A∘A∘∇Uᵀ + (A∘A∘A∘∇Uᵀ)ᵀ\n",
       "(18)\tA∘A∘∇U∘A + (A∘A∘∇U∘A)ᵀ\n",
       "(19)\tA∘A∘∇U∘∇Uᵀ + (A∘A∘∇U∘∇Uᵀ)ᵀ\n",
       "(20)\tA∘A∘∇Uᵀ∘A + (A∘A∘∇Uᵀ∘A)ᵀ\n",
       "(21)\tA∘A∘∇Uᵀ∘∇U + (A∘A∘∇Uᵀ∘∇U)ᵀ\n",
       "(22)\tA∘∇U∘A∘∇Uᵀ + (A∘∇U∘A∘∇Uᵀ)ᵀ\n",
       "(23)\tA∘∇U∘∇Uᵀ∘A\n",
       "(24)\tA∘∇Uᵀ∘A∘∇U + (A∘∇Uᵀ∘A∘∇U)ᵀ\n",
       "(25)\tA∘∇Uᵀ∘∇U∘A\n",
       "(26)\t∇U∘A∘A∘∇Uᵀ\n",
       "(27)\t∇Uᵀ∘A∘A∘∇U\n",
       "(28)\ttr(A)I\n",
       "(29)\ttr(A)A\n",
       "(30)\ttr(A)(∇U + (∇U)ᵀ)\n",
       "(31)\ttr(A)A∘A\n",
       "(32)\ttr(A)(A∘∇U + (A∘∇U)ᵀ)\n",
       "(33)\ttr(A)(A∘∇Uᵀ + (A∘∇Uᵀ)ᵀ)\n",
       "(34)\ttr(A)∇U∘∇Uᵀ\n",
       "(35)\ttr(A)∇Uᵀ∘∇U\n",
       "(36)\ttr(A)(A∘A∘∇U + (A∘A∘∇U)ᵀ)\n",
       "(37)\ttr(A)(A∘A∘∇Uᵀ + (A∘A∘∇Uᵀ)ᵀ)\n",
       "(38)\ttr(A)(A∘∇U∘A + (A∘∇U∘A)ᵀ)\n",
       "(39)\ttr(A)(A∘∇U∘∇Uᵀ + (A∘∇U∘∇Uᵀ)ᵀ)\n",
       "(40)\ttr(A)(A∘∇Uᵀ∘∇U + (A∘∇Uᵀ∘∇U)ᵀ)\n",
       "(41)\ttr(A)∇U∘A∘∇Uᵀ\n",
       "(42)\ttr(A)∇Uᵀ∘A∘∇U\n",
       "(43)\ttr(A)(A∘A∘∇U∘∇Uᵀ + (A∘A∘∇U∘∇Uᵀ)ᵀ)\n",
       "(44)\ttr(A)(A∘A∘∇Uᵀ∘∇U + (A∘A∘∇Uᵀ∘∇U)ᵀ)\n",
       "(45)\ttr(A)(A∘∇U∘A∘∇Uᵀ + (A∘∇U∘A∘∇Uᵀ)ᵀ)\n",
       "(46)\ttr(A)A∘∇U∘∇Uᵀ∘A\n",
       "(47)\ttr(A)(A∘∇Uᵀ∘A∘∇U + (A∘∇Uᵀ∘A∘∇U)ᵀ)\n",
       "(48)\ttr(A)A∘∇Uᵀ∘∇U∘A\n",
       "(49)\ttr(A)∇U∘A∘A∘∇Uᵀ\n",
       "(50)\ttr(A)∇Uᵀ∘A∘A∘∇U\n",
       "(51)\ttr(A∘A)I\n",
       "(52)\ttr(A∘A)A\n",
       "(53)\ttr(A∘A)(∇U + (∇U)ᵀ)\n",
       "(54)\ttr(A∘A)(A∘∇U + (A∘∇U)ᵀ)\n",
       "(55)\ttr(A∘A)(A∘∇Uᵀ + (A∘∇Uᵀ)ᵀ)\n",
       "(56)\ttr(A∘A)∇U∘∇Uᵀ\n",
       "(57)\ttr(A∘A)∇Uᵀ∘∇U\n",
       "(58)\ttr(A∘A)(A∘∇U∘∇Uᵀ + (A∘∇U∘∇Uᵀ)ᵀ)\n",
       "(59)\ttr(A∘A)(A∘∇Uᵀ∘∇U + (A∘∇Uᵀ∘∇U)ᵀ)\n",
       "(60)\ttr(A∘A)∇U∘A∘∇Uᵀ\n",
       "(61)\ttr(A∘A)∇Uᵀ∘A∘∇U\n",
       "(62)\ttr(A∘∇U)I\n",
       "(63)\ttr(A∘∇U)A\n",
       "(64)\ttr(A∘∇U)A∘A\n",
       "(65)\ttr(A∘∇U)(A∘∇Uᵀ + (A∘∇Uᵀ)ᵀ)\n",
       "(66)\ttr(A∘∇U)(A∘A∘∇Uᵀ + (A∘A∘∇Uᵀ)ᵀ)\n",
       "(67)\ttr(∇U∘∇Uᵀ)I\n",
       "(68)\ttr(∇U∘∇Uᵀ)A\n",
       "(69)\ttr(∇U∘∇Uᵀ)A∘A\n",
       "(70)\ttr(∇U∘∇Uᵀ)A∘A∘A\n",
       "(71)\ttr(A∘A∘A)I\n",
       "(72)\ttr(A∘A∘A)(∇U + (∇U)ᵀ)\n",
       "(73)\ttr(A∘A∘A)∇U∘∇Uᵀ\n",
       "(74)\ttr(A∘A∘A)∇Uᵀ∘∇U\n",
       "(75)\ttr(A∘A∘∇U)I\n",
       "(76)\ttr(A∘A∘∇U)A\n",
       "(77)\ttr(A∘A∘∇U)(A∘∇Uᵀ + (A∘∇Uᵀ)ᵀ)\n",
       "(78)\ttr(A∘∇U∘∇Uᵀ)I\n",
       "(79)\ttr(A∘∇U∘∇Uᵀ)A\n",
       "(80)\ttr(A∘∇U∘∇Uᵀ)A∘A\n",
       "(81)\ttr(A∘∇Uᵀ∘∇U)I\n",
       "(82)\ttr(A∘∇Uᵀ∘∇U)A\n",
       "(83)\ttr(A∘∇Uᵀ∘∇U)A∘A\n",
       "(84)\ttr(A∘A∘A∘∇U)I\n",
       "(85)\ttr(A∘A∘∇U∘∇Uᵀ)I\n",
       "(86)\ttr(A∘A∘∇U∘∇Uᵀ)A\n",
       "(87)\ttr(A∘A∘∇Uᵀ∘∇U)I\n",
       "(88)\ttr(A∘A∘∇Uᵀ∘∇U)A\n",
       "(89)\ttr(A∘∇U∘A∘∇Uᵀ)I\n",
       "(90)\ttr(A∘∇U∘A∘∇Uᵀ)A\n",
       "(91)\t(tr(A))²I\n",
       "(92)\t(tr(A))²A\n",
       "(93)\t(tr(A))²(∇U + (∇U)ᵀ)\n",
       "(94)\t(tr(A))²(A∘∇U + (A∘∇U)ᵀ)\n",
       "(95)\t(tr(A))²(A∘∇Uᵀ + (A∘∇Uᵀ)ᵀ)\n",
       "(96)\t(tr(A))²∇U∘∇Uᵀ\n",
       "(97)\t(tr(A))²∇Uᵀ∘∇U\n",
       "(98)\t(tr(A))²(A∘∇U∘∇Uᵀ + (A∘∇U∘∇Uᵀ)ᵀ)\n",
       "(99)\t(tr(A))²(A∘∇Uᵀ∘∇U + (A∘∇Uᵀ∘∇U)ᵀ)\n",
       "(100)\t(tr(A))²∇U∘A∘∇Uᵀ\n",
       "(101)\t(tr(A))²∇Uᵀ∘A∘∇U\n",
       "(102)\ttr(A)tr(A∘A)I\n",
       "(103)\ttr(A)tr(A∘A)(∇U + (∇U)ᵀ)\n",
       "(104)\ttr(A)tr(A∘A)∇U∘∇Uᵀ\n",
       "(105)\ttr(A)tr(A∘A)∇Uᵀ∘∇U\n",
       "(106)\ttr(A)tr(A∘∇U)I\n",
       "(107)\ttr(A)tr(A∘∇U)A\n",
       "(108)\ttr(A)tr(A∘∇U)(A∘∇Uᵀ + (A∘∇Uᵀ)ᵀ)\n",
       "(109)\ttr(A)tr(∇U∘∇Uᵀ)I\n",
       "(110)\ttr(A)tr(∇U∘∇Uᵀ)A\n",
       "(111)\ttr(A)tr(∇U∘∇Uᵀ)A∘A\n",
       "(112)\ttr(A)tr(A∘A∘∇U)I\n",
       "(113)\ttr(A)tr(A∘∇U∘∇Uᵀ)I\n",
       "(114)\ttr(A)tr(A∘∇U∘∇Uᵀ)A\n",
       "(115)\ttr(A)tr(A∘∇Uᵀ∘∇U)I\n",
       "(116)\ttr(A)tr(A∘∇Uᵀ∘∇U)A\n",
       "(117)\ttr(A)tr(A∘A∘∇U∘∇Uᵀ)I\n",
       "(118)\ttr(A)tr(A∘A∘∇Uᵀ∘∇U)I\n",
       "(119)\ttr(A)tr(A∘∇U∘A∘∇Uᵀ)I\n",
       "(120)\ttr(A∘A)tr(A∘∇U)I\n",
       "(121)\ttr(A∘A)tr(∇U∘∇Uᵀ)I\n",
       "(122)\ttr(A∘A)tr(∇U∘∇Uᵀ)A\n",
       "(123)\ttr(A∘A)tr(A∘∇U∘∇Uᵀ)I\n",
       "(124)\ttr(A∘A)tr(A∘∇Uᵀ∘∇U)I\n",
       "(125)\ttr(∇U∘∇Uᵀ)tr(A∘A∘A)I"
      ]
     },
     "execution_count": 10,
     "metadata": {},
     "output_type": "execute_result"
    }
   ],
   "source": [
    "library.trim({'A':3, '∇U':1, '∇Uᵀ':1})"
   ]
  },
  {
   "cell_type": "code",
   "execution_count": 11,
   "id": "a52bac88",
   "metadata": {},
   "outputs": [],
   "source": [
    "complexities = []\n",
    "for name in library.feature_names:\n",
    "    complexity = 0\n",
    "    for degree in library.degrees[name].values():\n",
    "        complexity += degree\n",
    "    complexities.append(complexity)"
   ]
  },
  {
   "cell_type": "markdown",
   "id": "4c3d0bef",
   "metadata": {},
   "source": [
    "## Evaluate strong-form features\n",
    "\n",
    "For each scenario in the dataset, we evalulate the features from the original (noisy) data and store them in a list. These are features that would be used in a direct application of SINDy."
   ]
  },
  {
   "cell_type": "code",
   "execution_count": 12,
   "id": "52f34b24",
   "metadata": {},
   "outputs": [],
   "source": [
    "for scenario, data in dataset.items():\n",
    "    features = []\n",
    "    for featurize in library.feature_functions:\n",
    "        features.append(featurize(data))\n",
    "    dataset[scenario]['features'] = features"
   ]
  },
  {
   "cell_type": "code",
   "execution_count": 13,
   "id": "2179fc81",
   "metadata": {},
   "outputs": [
    {
     "data": {
      "application/vnd.jupyter.widget-view+json": {
       "model_id": "56a6f58e479545e2be7196a89b7411d7",
       "version_major": 2,
       "version_minor": 0
      },
      "text/plain": [
       "interactive(children=(Dropdown(description='Scenario:', options=('random_0_n1000', 'random_1_n1000', 'random_2…"
      ]
     },
     "metadata": {},
     "output_type": "display_data"
    }
   ],
   "source": [
    "def inspect(scenario, line, feature):\n",
    "\n",
    "    ln = ['x', 'y', 'z']\n",
    "    plt.plot(dataset[scenario]['t'], dataset[scenario]['features'][feature][:,line,0], c='#0c2c84', linewidth=2, label=f'{ln[line]}x')\n",
    "    plt.plot(dataset[scenario]['t'], dataset[scenario]['features'][feature][:,line,1], c='#1d91c0', linewidth=2, label=f'{ln[line]}y')\n",
    "    plt.plot(dataset[scenario]['t'], dataset[scenario]['features'][feature][:,line,2], c='#7fcdbb', linewidth=2, label=f'{ln[line]}z')\n",
    "    plt.legend()\n",
    "    \n",
    "    plt.show()\n",
    "\n",
    "\n",
    "w = interactive(inspect, scenario=widgets.Dropdown(\n",
    "                    options=list(dataset.keys()),\n",
    "                    value=next(iter(dataset.keys())),\n",
    "                    description='Scenario:',\n",
    "                    disabled=False,\n",
    "                    ),\n",
    "                    line=widgets.Dropdown(\n",
    "                    options=[('xx, xy, xz', 0),('yx, yy, yz', 1),('zx, zy, zz', 2)],\n",
    "                    value=0,\n",
    "                    description='Line:',\n",
    "                    disabled=False,\n",
    "                    ),\n",
    "                    feature=widgets.Dropdown(\n",
    "                    options=list(zip(library.feature_names, range(len(library)))),\n",
    "                    value=0,\n",
    "                    description='Feature precursor:',\n",
    "                    disabled=False,\n",
    "                    )\n",
    "               )\n",
    "w"
   ]
  },
  {
   "cell_type": "markdown",
   "id": "f2e49b9e",
   "metadata": {},
   "source": [
    "## Make weak-form features\n",
    "\n",
    "From the literature, weak-form SINDy is more resilient to noisy data. The weak form is simply achieved by projection (weighted sum in our case) onto test functions. Here, we call the test functions *windows*, refering to signal processing. Sampling the weak-form problem is then, for each window, projecting the stress or conformtation tensor onto `diff(window)` and feature onto `window`, where `diff` is a finite differenciation function. In this descrete setting, the strong-form problem with Euler scheme is actually a special case where `window = [0, 1, 0]` and `diff(window) = [0, -1, 1]`.\n",
    "\n",
    "A few important remarks:\n",
    "\n",
    "1. Using windows with a larger support acts as a low-pass filter on the features. However, as pointed out by [REF], features are evaluated before this filtering occurs, so that no assumption is made on the smoothness of the origninal data.\n",
    "\n",
    "2. It is not obvious which window shape we should use. Some are better at filtering out high frequencies but is this really what matters? In our case, we don't know much about the properties of the noise. For example, using a rectangular window is not the best choice for noise, but it brings the problem closer to what we ultimately want to do: evaluate the stress (and not the rate of change, which is only a proxy). Applying a rectangular window is like integrating the data over chunks of time, producing an appraoch similar to that of Hayden Schaeffer and Scott G. McCalla, https://doi.org/10.1103/PhysRevE.96.023302, but avoiding drift.\n",
    "\n",
    "3. We don't go into the complications of optimal window placement, which is a data selection process after all. At this point, we are still agnostic about the information content of the data, and we make the following choice: for a given window size, windows are distributed to cover the entire data but don't overlap (some data points at the end of the simulated scenario may be excluded). Therefore this approach is equivalent to a low-pass filtering followed by subsampling (in signal processing sense): if we choose a window size greater than one, we end up with less data in the weak form. Now, we can do this process with different window sizes and shapes, and regenerate as many weak-form data points as we want."
   ]
  },
  {
   "cell_type": "code",
   "execution_count": 14,
   "id": "bd1ed1ce",
   "metadata": {},
   "outputs": [
    {
     "data": {
      "image/png": "[encoded data removed]",
      "text/plain": [
       "<Figure size 1080x360 with 2 Axes>"
      ]
     },
     "metadata": {
      "needs_background": "light"
     },
     "output_type": "display_data"
    }
   ],
   "source": [
    "from matsindy.weak import make_window\n",
    "\n",
    "window = make_window(8, 'rectangular')\n",
    "\n",
    "width = len(window)\n",
    "x = np.arange(width)\n",
    "#print(window)\n",
    "wind_diff = np.zeros(width)\n",
    "# derivative: \n",
    "wind_diff[1:] = -np.diff(window)\n",
    "plt.rcParams['figure.figsize'] = [15, 5]\n",
    "fig, ax = plt.subplots(ncols=2)\n",
    "ax[0].bar(x, window, width=0.01*width)\n",
    "ax[0].plot(window,'o',markersize=10)\n",
    "ax[1].bar(x, wind_diff, width=0.01*width)\n",
    "ax[1].plot(wind_diff,'o',markersize=10)\n",
    "plt.show()"
   ]
  },
  {
   "cell_type": "code",
   "execution_count": 15,
   "id": "a432aec8",
   "metadata": {},
   "outputs": [],
   "source": [
    "from matsindy.weak import weak_diff\n",
    "\n",
    "ys_dataset = {}\n",
    "for scenario, data in dataset.items():\n",
    "    dt = data['t'][1]-data['t'][0]  # Assuming uniform time-step\n",
    "    ys_dataset[scenario] = weak_diff(data['A'], dt, window)"
   ]
  },
  {
   "cell_type": "code",
   "execution_count": 16,
   "id": "7ffe3ba5",
   "metadata": {},
   "outputs": [],
   "source": [
    "from matsindy.weak import weak_form\n",
    "\n",
    "# Weak-form features\n",
    "wfeatures_dataset = {}\n",
    "for scenario, data in dataset.items():\n",
    "    dt = data['t'][1]-data['t'][0]\n",
    "    wfeatures_dataset[scenario] = [weak_form(feature, dt, window) for feature in data['features']]"
   ]
  },
  {
   "cell_type": "code",
   "execution_count": 17,
   "id": "678f7b37",
   "metadata": {},
   "outputs": [
    {
     "data": {
      "image/png": "[encoded data removed]",
      "text/plain": [
       "<Figure size 1080x360 with 1 Axes>"
      ]
     },
     "metadata": {
      "needs_background": "light"
     },
     "output_type": "display_data"
    }
   ],
   "source": [
    "scenario = next(iter(dataset_files.keys()))\n",
    "plt.plot(dataset[scenario]['t'], dataset[scenario]['A'][:,0,0])\n",
    "plt.plot(dataset[scenario]['t'][width//2:-width//2+1:width-2], wfeatures_dataset[scenario][1][:,0,0]/dt, '.')\n",
    "plt.show()"
   ]
  },
  {
   "cell_type": "markdown",
   "id": "efcb408c",
   "metadata": {},
   "source": [
    "## Assemble matrix before regression \n",
    "\n",
    "Note: at this point, time differentiation has already been done, so the order of data points doesn't matter."
   ]
  },
  {
   "cell_type": "code",
   "execution_count": null,
   "id": "94b0a523",
   "metadata": {},
   "outputs": [],
   "source": []
  },
  {
   "cell_type": "code",
   "execution_count": 18,
   "id": "a9b7e1b3",
   "metadata": {},
   "outputs": [],
   "source": [
    "y_train = np.hstack([ys_dataset[scenario].flatten() for scenario in dataset.keys() - test_scenarios])\n",
    "y_test = np.hstack([ys_dataset[scenario].flatten() for scenario in test_scenarios])"
   ]
  },
  {
   "cell_type": "code",
   "execution_count": 19,
   "id": "830cc423",
   "metadata": {},
   "outputs": [
    {
     "name": "stdout",
     "output_type": "stream",
     "text": [
      "(23967,)\n",
      "(35253,)\n"
     ]
    }
   ],
   "source": [
    "print(y_train.shape)\n",
    "print(y_test.shape)"
   ]
  },
  {
   "cell_type": "code",
   "execution_count": 20,
   "id": "9fe262d2",
   "metadata": {},
   "outputs": [],
   "source": [
    "Xs = []\n",
    "for scenario in dataset.keys() - test_scenarios:\n",
    "    flat_features = [feature.flatten() for feature in wfeatures_dataset[scenario]]\n",
    "    X = np.array(flat_features)\n",
    "    Xs.append(X.T)\n",
    "X_train = np.vstack(Xs)\n",
    "\n",
    "Xs = []\n",
    "for scenario in test_scenarios:\n",
    "    flat_features = [feature.flatten() for feature in wfeatures_dataset[scenario]]\n",
    "    X = np.array(flat_features)\n",
    "    Xs.append(X.T)\n",
    "X_test = np.vstack(Xs)"
   ]
  },
  {
   "cell_type": "code",
   "execution_count": 21,
   "id": "1e14a28f",
   "metadata": {},
   "outputs": [
    {
     "name": "stdout",
     "output_type": "stream",
     "text": [
      "(23967, 126)\n",
      "(35253, 126)\n"
     ]
    }
   ],
   "source": [
    "print(X_train.shape)\n",
    "print(X_test.shape)"
   ]
  },
  {
   "cell_type": "code",
   "execution_count": 22,
   "id": "539c2547",
   "metadata": {},
   "outputs": [
    {
     "data": {
      "text/plain": [
       "120"
      ]
     },
     "execution_count": 22,
     "metadata": {},
     "output_type": "execute_result"
    }
   ],
   "source": [
    "np.linalg.matrix_rank(X_train)"
   ]
  },
  {
   "cell_type": "code",
   "execution_count": 23,
   "id": "3431a10d",
   "metadata": {},
   "outputs": [
    {
     "data": {
      "image/png": "[encoded data removed]",
      "text/plain": [
       "<Figure size 1080x360 with 1 Axes>"
      ]
     },
     "metadata": {
      "needs_background": "light"
     },
     "output_type": "display_data"
    }
   ],
   "source": [
    "plt.hist(y_train, bins=200)\n",
    "plt.yscale('log', nonposy='clip')"
   ]
  },
  {
   "cell_type": "code",
   "execution_count": null,
   "id": "6149ec94",
   "metadata": {},
   "outputs": [],
   "source": []
  },
  {
   "cell_type": "code",
   "execution_count": null,
   "id": "c2254969",
   "metadata": {},
   "outputs": [],
   "source": []
  },
  {
   "cell_type": "markdown",
   "id": "75915706",
   "metadata": {},
   "source": [
    "## Regression\n",
    "\n",
    "Any algorithm utilising the value of the coefficient to select the models will be sensitive to feature scaling. This may be a problem if an important active term has a low coefficient and therefore cannot be distinguished from noise. Another difficulty is correlation between features, which can cause large coefficient while the combined effect of feature is small.\n",
    "\n",
    "On the other hand, method based on evolution of the error (or cost of removing a term) are not sensitive to scaling or correlation."
   ]
  },
  {
   "cell_type": "code",
   "execution_count": 24,
   "id": "567bb6d7",
   "metadata": {},
   "outputs": [
    {
     "name": "stdout",
     "output_type": "stream",
     "text": [
      "Running SSR...\n"
     ]
    },
    {
     "name": "stderr",
     "output_type": "stream",
     "text": [
      "100%|██████████| 126/126 [00:04<00:00, 30.37it/s]\n"
     ]
    },
    {
     "name": "stdout",
     "output_type": "stream",
     "text": [
      "Running SSRD...\n"
     ]
    },
    {
     "name": "stderr",
     "output_type": "stream",
     "text": [
      "100%|██████████| 123/123 [00:12<00:00, 10.06it/s]\n"
     ]
    },
    {
     "name": "stdout",
     "output_type": "stream",
     "text": [
      "Running SSR_var...\n"
     ]
    },
    {
     "name": "stderr",
     "output_type": "stream",
     "text": [
      "100%|██████████| 126/126 [00:07<00:00, 16.13it/s]\n"
     ]
    }
   ],
   "source": [
    "from matsindy.optimizer import fit_from_indices, SSR, SSRD, STLSQ, SBE, SSR_var, SSR_varD, STLSQ_p, SSR_var_softmax\n",
    "\n",
    "from matsindy.model import model\n",
    "# Hard wired Hinch Larson model\n",
    "indices = [0, 1, 4, 63]\n",
    "coefs = np.zeros(X_train.shape[1])*np.nan\n",
    "coefs[indices] = [1, -1, 1, -2./L_max**2]\n",
    "error = np.average(np.square(y_train-np.sum(X_train[:, indices] * coefs[indices], axis=1)))\n",
    "model_HinchLarson = model(coefficients=coefs, error=error)\n",
    "\n",
    "# Hard wired Rognin JFM model\n",
    "indices = [0, 1, 4, 63, 107]\n",
    "coefs = np.zeros(X_train.shape[1])*np.nan\n",
    "coefs[indices] = [1, -1, 1, -3.5/L_max**2, 1.5/L_max**4]\n",
    "error = np.average(np.square(y_train-np.sum(X_train[:, indices] * coefs[indices], axis=1)))\n",
    "model_Rognin = model(coefficients=coefs, error=error)\n",
    "\n",
    "generated_models = {\n",
    "    'Hinch-Larson': [model_HinchLarson],\n",
    "    'Rognin JFM': [model_Rognin],\n",
    "    'SSR': SSR(X_train, y_train, rescale=True, alpha=0.0001),\n",
    "    'SSRD': SSRD(X_train, y_train, alpha=0.0001),\n",
    "#    'SSR_varD': SSR_varD(X_train, y_train),\n",
    "    'SSR var': SSR_var(X_train, y_train, alpha=0.0001),\n",
    "    \n",
    "}"
   ]
  },
  {
   "cell_type": "code",
   "execution_count": null,
   "id": "2150ad2b",
   "metadata": {},
   "outputs": [],
   "source": []
  },
  {
   "cell_type": "code",
   "execution_count": null,
   "id": "5b38c3d5",
   "metadata": {},
   "outputs": [],
   "source": []
  },
  {
   "cell_type": "code",
   "execution_count": 25,
   "id": "1d358f5e",
   "metadata": {},
   "outputs": [],
   "source": [
    "errors = {}\n",
    "cvs = {}\n",
    "num_terms = {}\n",
    "for optim, models in generated_models.items():\n",
    "    errors[optim] = list(model.error for model in models)\n",
    "    cvs[optim] = list(model.compute_cv(X_test, y_test) for model in models)\n",
    "    num_terms[optim] = list(model.num_terms for model in models)\n",
    "\n"
   ]
  },
  {
   "cell_type": "code",
   "execution_count": 26,
   "id": "92eb212a",
   "metadata": {},
   "outputs": [
    {
     "data": {
      "application/vnd.jupyter.widget-view+json": {
       "model_id": "8c81db1b7e3f4e78897631bac22598d5",
       "version_major": 2,
       "version_minor": 0
      },
      "text/plain": [
       "interactive(children=(SelectMultiple(description='Algorithms', index=(0, 1, 2, 3, 4), options=('Hinch-Larson',…"
      ]
     },
     "metadata": {},
     "output_type": "display_data"
    }
   ],
   "source": [
    "def view_errors(keys, display_cv, display_10):\n",
    "    color = iter(cm.Dark2(np.linspace(0, 1, len(keys))))\n",
    "    for i, optim in enumerate(keys):\n",
    "        c = next(color)\n",
    "        plt.semilogy(num_terms[optim], errors[optim], 'o', c=c, label=optim)\n",
    "        if display_cv:\n",
    "            plt.semilogy(num_terms[optim], cvs[optim], '*', c=c, label=optim+' cv')\n",
    "    plt.grid(which='both')\n",
    "    plt.legend()\n",
    "    if display_10:\n",
    "        plt.xlim(1,10)\n",
    "    plt.show()\n",
    "\n",
    "we = interactive(view_errors, \n",
    "                 keys=widgets.SelectMultiple(\n",
    "                    options=list(errors.keys()),\n",
    "                    value=list(errors.keys()),\n",
    "                    #rows=10,\n",
    "                    description='Algorithms',\n",
    "                    disabled=False\n",
    "                    ),\n",
    "                 display_cv = widgets.Checkbox(\n",
    "                    value=False,\n",
    "                    description='Display cross-validation',\n",
    "                                ),\n",
    "                 display_10 = widgets.Checkbox(\n",
    "                    value=False,\n",
    "                    description='Display up to 10 terms',\n",
    "                                )\n",
    "                )\n",
    "we"
   ]
  },
  {
   "cell_type": "code",
   "execution_count": 27,
   "id": "b78aab2e",
   "metadata": {},
   "outputs": [
    {
     "data": {
      "application/vnd.jupyter.widget-view+json": {
       "model_id": "27b827586f93410aad0dd53b47b0f9e1",
       "version_major": 2,
       "version_minor": 0
      },
      "text/plain": [
       "interactive(children=(Dropdown(description='optim', options=('Hinch-Larson', 'Rognin JFM', 'SSR', 'SSRD', 'SSR…"
      ]
     },
     "metadata": {},
     "output_type": "display_data"
    }
   ],
   "source": [
    "def view_model(optim, model):  \n",
    "    print(optim)\n",
    "    model.print(library)\n",
    "    # Plot error dist\n",
    "    y_hat = model.predict(X_train)\n",
    "    \n",
    "    fig, ax = plt.subplots(ncols=2)\n",
    "    \n",
    "    ax[0].plot(y_train, y_train, '-', c='gray')\n",
    "    ax[0].plot(y_train, y_hat, '.', alpha=0.1)\n",
    "    ax[0].set_ylabel('Predicted value')\n",
    "    ax[0].set_xlabel('Training value')\n",
    "    ax[0].set_title('Prediction')\n",
    "    \n",
    "    ax[1].hist(y_train-y_hat, bins=200)\n",
    "    ax[1].set_yscale('log', nonposy='clip')\n",
    "    ax[1].set_title('Residuals')\n",
    "    plt.show()\n",
    "\n",
    "x_widget = widgets.Dropdown(options = list(generated_models.keys()))\n",
    "y_widget = widgets.Dropdown()\n",
    "\n",
    "# Define a function that updates the content of y based on what we select for x\n",
    "def update_models(*args):\n",
    "    y_widget.options = list((model.num_terms, model) for model in generated_models[x_widget.value])\n",
    "x_widget.observe(update_models)\n",
    "\n",
    "\n",
    "wm = interactive(view_model,\n",
    "         optim = x_widget,\n",
    "         model = y_widget)\n",
    "wm"
   ]
  },
  {
   "cell_type": "markdown",
   "id": "a279e430",
   "metadata": {},
   "source": [
    "## Simulation error"
   ]
  },
  {
   "cell_type": "code",
   "execution_count": 28,
   "id": "75812b29",
   "metadata": {},
   "outputs": [],
   "source": [
    "simulation_scenario = 'random_0_n1000'\n",
    "model = next(filter(lambda x: x.num_terms == 4, generated_models['Hinch-Larson']))\n",
    "sim, err = model.simulate('A', dataset[simulation_scenario], library, method='Euler', return_trajectory=True)"
   ]
  },
  {
   "cell_type": "code",
   "execution_count": 29,
   "id": "53693de3",
   "metadata": {},
   "outputs": [
    {
     "data": {
      "image/png": "[encoded data removed]",
      "text/plain": [
       "<Figure size 1080x360 with 1 Axes>"
      ]
     },
     "metadata": {
      "needs_background": "light"
     },
     "output_type": "display_data"
    }
   ],
   "source": [
    "t = dataset[simulation_scenario]['t']\n",
    "obs = dataset[simulation_scenario]['A']\n",
    "\n",
    "plt.plot(t, obs[:,0,0], c='#0c2c84', linewidth=2, label='xx')\n",
    "plt.plot(t, sim[:,0,0], '--', c='#0c2c84', linewidth=2, label='xx sim')\n",
    "\n",
    "plt.plot(t, obs[:,0,1], c='#1d91c0', linewidth=2, label='xy')\n",
    "plt.plot(t, sim[:,0,1], '--', c='#1d91c0', linewidth=2, label='xy sim')\n",
    "\n",
    "plt.plot(t, obs[:,0,2], c='#7fcdbb', linewidth=2, label='xz')\n",
    "plt.plot(t, sim[:,0,2], '--', c='#7fcdbb', linewidth=2, label='xz sim')\n",
    "plt.legend()\n",
    "    \n",
    "plt.show()"
   ]
  },
  {
   "cell_type": "markdown",
   "id": "9f424b85",
   "metadata": {},
   "source": [
    "## Constrained optimisation\n",
    "\n",
    "We can constrained the model search by enforcing some physics prior. For example:\n",
    "\n",
    "- Objectivity (frame invariance): coefficient for A∘∇U + (A∘∇U)ᵀ minus coefficient for A∘∇Uᵀ + (A∘∇Uᵀ)ᵀ should be 1.\n",
    "- Equilibrium value, typically $A=I$ if $\\dot{A}=0$ and $\\nabla U = 0$\n",
    "- Steady-state value, $A=diag(L^2,0,0)$ if $\\dot{A}=0$ and $\\nabla U = diag(c,-0.5c, -0.5c)$ with $w\\gg1$"
   ]
  },
  {
   "cell_type": "code",
   "execution_count": 30,
   "id": "ebb42db2",
   "metadata": {},
   "outputs": [],
   "source": [
    "upper_conv_index = 4\n",
    "lower_conv_index = 5\n",
    "X_objectivity = np.zeros((1, X_train.shape[1]))\n",
    "X_objectivity[0, upper_conv_index] = 1.\n",
    "X_objectivity[0, lower_conv_index] = -1.\n",
    "y_objectivity = np.array([1.])"
   ]
  },
  {
   "cell_type": "code",
   "execution_count": 31,
   "id": "20b68039",
   "metadata": {},
   "outputs": [],
   "source": [
    "equilibrium_data = {\n",
    "    'A': np.array([np.eye(3)]),\n",
    "    '∇U': np.array([np.zeros((3, 3))]),\n",
    "    '∇Uᵀ': np.array([np.zeros((3, 3))])\n",
    "}\n",
    "X_equilibrium = np.empty((1, X_train.shape[1]))\n",
    "for j, featurize in enumerate(library.feature_functions):\n",
    "    f = featurize(equilibrium_data).flatten()\n",
    "    X_equilibrium[0, j] = f[0] + f[4] + f[8]\n",
    "y_equilibrium = np.zeros(1)"
   ]
  },
  {
   "cell_type": "code",
   "execution_count": 32,
   "id": "4de057a5",
   "metadata": {},
   "outputs": [],
   "source": [
    "steady_data = {\n",
    "    'A': np.array([np.diag((L_max**2, 0, 0))]),\n",
    "    '∇U': np.array([np.diag((10, -5, -5))]),\n",
    "    '∇Uᵀ': np.array([np.diag((10, -5, -5))])\n",
    "}\n",
    "# Based on bounded trace\n",
    "X_steady = np.empty((1, X_train.shape[1]))\n",
    "for j, featurize in enumerate(library.feature_functions):\n",
    "    f =  featurize(steady_data).flatten()\n",
    "    X_steady[0, j] = f[0] + f[4] + f[8]\n",
    "y_steady = np.zeros(1)"
   ]
  },
  {
   "cell_type": "code",
   "execution_count": 53,
   "id": "145ae46f",
   "metadata": {},
   "outputs": [],
   "source": [
    "Xc = np.vstack((X_objectivity, \n",
    "                X_equilibrium, \n",
    "#                1e-6*X_steady\n",
    "               ))\n",
    "yc = np.hstack((y_objectivity, \n",
    "                y_equilibrium, \n",
    "#                1e-6*y_steady\n",
    "               ))"
   ]
  },
  {
   "cell_type": "raw",
   "id": "8f3c39d2",
   "metadata": {},
   "source": [
    "from matsindy.constrained_optimizer import cSSR, cSBE"
   ]
  },
  {
   "cell_type": "raw",
   "id": "8661f23c",
   "metadata": {},
   "source": [
    "alpha = 100\n",
    "generated_models[f'cSSR {alpha}'] = cSSR(X_train, y_train, Xc=Xc, yc=yc, alpha=alpha)\n",
    "generated_models[f'cSBE {alpha}'] = cSBE(X_train, y_train, Xc=Xc, yc=yc, alpha=alpha, n_test=2)"
   ]
  },
  {
   "cell_type": "code",
   "execution_count": 54,
   "id": "d1ccc93d",
   "metadata": {},
   "outputs": [
    {
     "name": "stdout",
     "output_type": "stream",
     "text": [
      "Running SSR_var...\n"
     ]
    },
    {
     "name": "stderr",
     "output_type": "stream",
     "text": [
      "100%|██████████| 126/126 [00:08<00:00, 14.90it/s]"
     ]
    },
    {
     "name": "stdout",
     "output_type": "stream",
     "text": [
      "Warning: could not satisfy constraint.\n",
      "Warning: could not satisfy constraint.\n",
      "Warning: could not satisfy constraint.\n"
     ]
    },
    {
     "name": "stderr",
     "output_type": "stream",
     "text": [
      "\n"
     ]
    }
   ],
   "source": [
    "generated_models[f'Constrained SSR var'] = SSR_var(X_train, y_train, alpha=0.0001, Xc=Xc, yc=yc)\n",
    "#for i in range(2):\n",
    "#    generated_models[f'SSR var softmax iter{i}'] = SSR_var_softmax(X_train, y_train, alpha=0.0001)"
   ]
  },
  {
   "cell_type": "code",
   "execution_count": 55,
   "id": "c7ef576a",
   "metadata": {},
   "outputs": [],
   "source": [
    "for optim, models in generated_models.items():\n",
    "    errors[optim] = list(model.error for model in models)\n",
    "    cvs[optim] = list(model.compute_cv(X_test, y_test) for model in models)\n",
    "    num_terms[optim] = list(model.num_terms for model in models)"
   ]
  },
  {
   "cell_type": "code",
   "execution_count": 56,
   "id": "05116ec2",
   "metadata": {},
   "outputs": [
    {
     "data": {
      "application/vnd.jupyter.widget-view+json": {
       "model_id": "6447eeade3d34e6480c75cff05a92224",
       "version_major": 2,
       "version_minor": 0
      },
      "text/plain": [
       "interactive(children=(SelectMultiple(description='Algorithms', index=(0, 1, 2, 3, 4, 5), options=('Hinch-Larso…"
      ]
     },
     "metadata": {},
     "output_type": "display_data"
    }
   ],
   "source": [
    "we = interactive(view_errors, \n",
    "                 keys=widgets.SelectMultiple(\n",
    "                    options=list(errors.keys()),\n",
    "                    value=list(errors.keys()),\n",
    "                    #rows=10,\n",
    "                    description='Algorithms',\n",
    "                    disabled=False\n",
    "                    ),\n",
    "                 display_cv = widgets.Checkbox(\n",
    "                    value=False,\n",
    "                    description='Display cross-validation',\n",
    "                                ),\n",
    "                 display_10 = widgets.Checkbox(\n",
    "                    value=False,\n",
    "                    description='Display up to 10 terms',\n",
    "                                )\n",
    "                )\n",
    "we"
   ]
  },
  {
   "cell_type": "code",
   "execution_count": 57,
   "id": "b73cf780",
   "metadata": {},
   "outputs": [
    {
     "data": {
      "application/vnd.jupyter.widget-view+json": {
       "model_id": "d7c859b0808e4833931ea7622c73a953",
       "version_major": 2,
       "version_minor": 0
      },
      "text/plain": [
       "interactive(children=(Dropdown(description='optim', options=('Hinch-Larson', 'Rognin JFM', 'SSR', 'SSRD', 'SSR…"
      ]
     },
     "metadata": {},
     "output_type": "display_data"
    }
   ],
   "source": [
    "x_widget = widgets.Dropdown(options = list(generated_models.keys()))\n",
    "y_widget = widgets.Dropdown()\n",
    "\n",
    "# Define a function that updates the content of y based on what we select for x\n",
    "def update_models(*args):\n",
    "    y_widget.options = list((model.num_terms, model) for model in generated_models[x_widget.value])\n",
    "x_widget.observe(update_models)\n",
    "\n",
    "\n",
    "wm = interactive(view_model,\n",
    "         optim = x_widget,\n",
    "         model = y_widget)\n",
    "wm"
   ]
  },
  {
   "cell_type": "code",
   "execution_count": 58,
   "id": "50218fc9",
   "metadata": {},
   "outputs": [
    {
     "data": {
      "image/png": "[encoded data removed]",
      "text/plain": [
       "<Figure size 1080x720 with 1 Axes>"
      ]
     },
     "metadata": {
      "needs_background": "light"
     },
     "output_type": "display_data"
    }
   ],
   "source": [
    "simulation_scenario = 'contraction_0_n1000'\n",
    "model = next(filter(lambda x: x.num_terms == 3, generated_models['SSR var']))\n",
    "sim, err = model.simulate('A', dataset[simulation_scenario], library, method='Euler', return_trajectory=True)\n",
    "\n",
    "t = dataset[simulation_scenario]['t']\n",
    "obs = dataset[simulation_scenario]['A']\n",
    "\n",
    "plt.plot(t, obs[:,0,0], c='#0c2c84', linewidth=2, label='xx')\n",
    "plt.plot(t, sim[:,0,0], '--', c='#0c2c84', linewidth=2, label='xx sim')\n",
    "\n",
    "plt.plot(t, obs[:,0,1], c='#1d91c0', linewidth=2, label='xy')\n",
    "plt.plot(t, sim[:,0,1], '--', c='#1d91c0', linewidth=2, label='xy sim')\n",
    "\n",
    "plt.plot(t, obs[:,0,2], c='#7fcdbb', linewidth=2, label='xz')\n",
    "plt.plot(t, sim[:,0,2], '--', c='#7fcdbb', linewidth=2, label='xz sim')\n",
    "plt.legend()\n",
    "    \n",
    "plt.show()"
   ]
  },
  {
   "cell_type": "markdown",
   "id": "78325b33",
   "metadata": {},
   "source": [
    "## Stability criterion"
   ]
  },
  {
   "cell_type": "raw",
   "id": "89ecb151",
   "metadata": {},
   "source": [
    "def bagSSR(X, y, bag):\n",
    "    \"\"\"Stepwise Sparse Regressor. See Boninsegna, Nüske, and Clementi J. Chem.\n",
    "    Phys. 148, 241723 (2018)\n",
    "\n",
    "    Parameters\n",
    "    ----------\n",
    "    X : array_like\n",
    "        The matrix of features.\n",
    "    y : array_like\n",
    "        Vector to fit.\n",
    "\n",
    "    Returns\n",
    "    -------\n",
    "    list of model\n",
    "        List of models with decreasing number of active terms.\n",
    "    \"\"\"\n",
    "    from matsindy.model import model\n",
    "    Nf = X.shape[1]\n",
    "    active_terms = np.ones(Nf, dtype=bool)\n",
    "    for k in bag:\n",
    "        active_terms[k] = False\n",
    "    models_list = []\n",
    "\n",
    "    for i in range(Nf-len(bag)):\n",
    "        coefs = np.zeros(Nf)*np.nan\n",
    "        coefs[active_terms] = np.linalg.lstsq(X[:, active_terms],\n",
    "                                              y, rcond=None)[0]\n",
    "        error = np.average(np.square(y-np.sum(X[:, active_terms] *\n",
    "                                              coefs[active_terms], axis=1)))\n",
    "        # Record model\n",
    "        models_list.append(model(coefficients=coefs, error=error))\n",
    "\n",
    "        # Find and remove smallest coef\n",
    "        j = np.nanargmin(np.abs(coefs))\n",
    "        # print('Removing term {}.'.format(j))\n",
    "        active_terms[j] = False\n",
    "    return models_list    \n",
    "    \n",
    "bags = list(np.random.choice(np.arange(X_train.shape[1]), size=6, replace=False)\n",
    "           for i in range(10))\n",
    "repeat = list(bagSSR(X_train, y_train, bag) for bag in bags)"
   ]
  },
  {
   "cell_type": "raw",
   "id": "07a26f8e",
   "metadata": {},
   "source": [
    "for models in repeat:\n",
    "    num_terms = list(model.num_terms for model in models)\n",
    "    errors = list(model.error for model in models)\n",
    "    plt.semilogy(num_terms, errors, '-')\n",
    "plt.grid(which='both')"
   ]
  },
  {
   "cell_type": "raw",
   "id": "98d5cec5",
   "metadata": {},
   "source": [
    "for models in repeat:\n",
    "    num_terms = list(model.num_terms for model in models)\n",
    "    cvs = list(model.compute_cv(X_test, y_test) for model in models)\n",
    "    plt.semilogy(num_terms, cvs, '-')\n",
    "plt.grid(which='both')"
   ]
  },
  {
   "cell_type": "raw",
   "id": "152a5b3f",
   "metadata": {},
   "source": [
    "# Build propa map\n",
    "p0 = np.zeros(X_train.shape[1])\n",
    "for models in repeat:\n",
    "    p1 = np.zeros(X_train.shape[1])\n",
    "    for model in models:\n",
    "        q = np.ones(X_train.shape[1])\n",
    "        q[np.isnan(model.coefficients)] = 0\n",
    "        p1 += q\n",
    "    p1 = p1/X_train.shape[1]\n",
    "    print(np.max(p1))\n",
    "    p0 += p1\n",
    "        "
   ]
  },
  {
   "cell_type": "raw",
   "id": "6c07cbb9",
   "metadata": {},
   "source": [
    "plt.semilogy(p0)"
   ]
  },
  {
   "cell_type": "raw",
   "id": "2eebc1e1",
   "metadata": {},
   "source": [
    "importance = np.argsort(p0)"
   ]
  },
  {
   "cell_type": "raw",
   "id": "5b490bee",
   "metadata": {},
   "source": [
    "rem = importance[:len(importance)//2]\n",
    "keep = importance[len(importance)//2:]\n",
    "bags = list(np.hstack((rem, np.random.choice(keep, size=1, replace=False)))\n",
    "           for i in range(10))\n",
    "repeat = list(bagSSR(X_train, y_train, bag) for bag in bags)"
   ]
  },
  {
   "cell_type": "raw",
   "id": "8fea9ca1",
   "metadata": {},
   "source": [
    "for models in repeat:\n",
    "    num_terms = list(model.num_terms for model in models)\n",
    "    errors = list(model.error for model in models)\n",
    "    plt.semilogy(num_terms, errors, '-')\n",
    "plt.grid(which='both')"
   ]
  },
  {
   "cell_type": "raw",
   "id": "b42a3d8e",
   "metadata": {},
   "source": [
    "for models in repeat:\n",
    "    num_terms = list(model.num_terms for model in models)\n",
    "    cvs = list(model.compute_cv(X_test, y_test) for model in models)\n",
    "    plt.semilogy(num_terms, cvs, '-')\n",
    "plt.grid(which='both')"
   ]
  },
  {
   "cell_type": "markdown",
   "id": "a64f57c8",
   "metadata": {},
   "source": [
    "## Elimination based on coefficient variance"
   ]
  },
  {
   "cell_type": "code",
   "execution_count": 39,
   "id": "8e4fffb0",
   "metadata": {},
   "outputs": [
    {
     "name": "stderr",
     "output_type": "stream",
     "text": [
      "/home/etienne/miniconda3/lib/python3.7/site-packages/ipykernel_launcher.py:11: RuntimeWarning: invalid value encountered in sqrt\n",
      "  # This is added back by InteractiveShellApp.init_path()\n"
     ]
    }
   ],
   "source": [
    "from scipy.stats import t\n",
    "\n",
    "X = X_train\n",
    "y = y_train\n",
    "d = np.sum(X.shape[1])\n",
    "M = X.T @ X + 0.0001*np.eye(d)\n",
    "invXtX = np.linalg.pinv(M)\n",
    "beta = invXtX @ X.T @ y\n",
    "error = np.average(np.square(y-np.sum(X*beta, axis=1)))\n",
    "# t stat\n",
    "t0 = np.abs(beta)/np.sqrt(error*np.diag(invXtX))\n",
    "p = t.sf(t0, 100)"
   ]
  },
  {
   "cell_type": "code",
   "execution_count": 40,
   "id": "ab657ec9",
   "metadata": {},
   "outputs": [
    {
     "data": {
      "text/plain": [
       "[<matplotlib.lines.Line2D at 0x7feace947d10>]"
      ]
     },
     "execution_count": 40,
     "metadata": {},
     "output_type": "execute_result"
    },
    {
     "data": {
      "image/png": "[encoded data removed]",
      "text/plain": [
       "<Figure size 1080x360 with 1 Axes>"
      ]
     },
     "metadata": {
      "needs_background": "light"
     },
     "output_type": "display_data"
    }
   ],
   "source": [
    "plt.semilogy(t0)\n",
    "#plt.ylim(0.05,1)"
   ]
  },
  {
   "cell_type": "code",
   "execution_count": 41,
   "id": "ee0b9603",
   "metadata": {},
   "outputs": [
    {
     "data": {
      "image/png": "[encoded data removed]",
      "text/plain": [
       "<Figure size 720x720 with 2 Axes>"
      ]
     },
     "metadata": {
      "needs_background": "light"
     },
     "output_type": "display_data"
    }
   ],
   "source": [
    "var_Beta = error*invXtX\n",
    "beta2 = np.outer(beta, beta)\n",
    "n_bv = var_Beta/beta2\n",
    "n_bv[n_bv>-1] = np.nan \n",
    "\n",
    "plt.rcParams['figure.figsize'] = [15, 10]\n",
    "plt.matshow(n_bv)\n",
    "plt.colorbar()\n",
    "plt.show()"
   ]
  },
  {
   "cell_type": "code",
   "execution_count": 42,
   "id": "837f6262",
   "metadata": {},
   "outputs": [
    {
     "data": {
      "image/png": "[encoded data removed]",
      "text/plain": [
       "<Figure size 1080x720 with 1 Axes>"
      ]
     },
     "metadata": {
      "needs_background": "light"
     },
     "output_type": "display_data"
    }
   ],
   "source": [
    "plt.hist(var_Beta.flatten()/beta2.flatten(), bins=200)\n",
    "plt.yscale('log', nonposy='clip')\n",
    "plt.show()"
   ]
  },
  {
   "cell_type": "code",
   "execution_count": 43,
   "id": "5bc787b8",
   "metadata": {},
   "outputs": [
    {
     "data": {
      "text/plain": [
       "<matplotlib.image.AxesImage at 0x7feae610cd50>"
      ]
     },
     "execution_count": 43,
     "metadata": {},
     "output_type": "execute_result"
    },
    {
     "data": {
      "image/png": "[encoded data removed]",
      "text/plain": [
       "<Figure size 720x720 with 1 Axes>"
      ]
     },
     "metadata": {
      "needs_background": "light"
     },
     "output_type": "display_data"
    }
   ],
   "source": [
    "active_terms = np.ones(d+2, dtype=bool)\n",
    "active_terms[1] = False\n",
    "active_terms[10] = False\n",
    "betavar = np.zeros((d+2, d+2))*np.nan\n",
    "dd = invXtX/np.outer(beta, beta)\n",
    "betavar[np.outer(active_terms, active_terms)] = dd.flatten()\n",
    "plt.matshow(betavar.reshape((d+2,d+2)))"
   ]
  },
  {
   "cell_type": "code",
   "execution_count": 44,
   "id": "3a7cd3af",
   "metadata": {},
   "outputs": [
    {
     "ename": "NameError",
     "evalue": "name 'dd2' is not defined",
     "output_type": "error",
     "traceback": [
      "\u001b[0;31m---------------------------------------------------------------------------\u001b[0m",
      "\u001b[0;31mNameError\u001b[0m                                 Traceback (most recent call last)",
      "\u001b[0;32m<ipython-input-44-05fd0ed5f11f>\u001b[0m in \u001b[0;36m<module>\u001b[0;34m\u001b[0m\n\u001b[0;32m----> 1\u001b[0;31m \u001b[0mdd2\u001b[0m\u001b[0;34m.\u001b[0m\u001b[0mshape\u001b[0m\u001b[0;34m\u001b[0m\u001b[0;34m\u001b[0m\u001b[0m\n\u001b[0m",
      "\u001b[0;31mNameError\u001b[0m: name 'dd2' is not defined"
     ]
    }
   ],
   "source": [
    "dd2.shape"
   ]
  },
  {
   "cell_type": "code",
   "execution_count": null,
   "id": "f2d73a5e",
   "metadata": {},
   "outputs": [],
   "source": [
    "active_terms"
   ]
  },
  {
   "cell_type": "code",
   "execution_count": null,
   "id": "93e5565b",
   "metadata": {},
   "outputs": [],
   "source": [
    "complexities = []\n",
    "for name in library.feature_names:\n",
    "    complexity = 0\n",
    "    for degree in library.degrees[name].values():\n",
    "        complexity += degree\n",
    "    complexities.append(complexity)\n",
    "complexities"
   ]
  },
  {
   "cell_type": "code",
   "execution_count": null,
   "id": "5d3d6e02",
   "metadata": {},
   "outputs": [],
   "source": [
    "A = np.arange(10)\n",
    "A = A.reshape((2,5))"
   ]
  },
  {
   "cell_type": "code",
   "execution_count": null,
   "id": "f68b86e0",
   "metadata": {},
   "outputs": [],
   "source": [
    "A"
   ]
  },
  {
   "cell_type": "code",
   "execution_count": null,
   "id": "81cb42e8",
   "metadata": {},
   "outputs": [],
   "source": [
    "B = np.sum(A>0, axis=1)\n",
    "B"
   ]
  },
  {
   "cell_type": "code",
   "execution_count": null,
   "id": "83f30052",
   "metadata": {},
   "outputs": [],
   "source": [
    "np.all(B > 3)"
   ]
  },
  {
   "cell_type": "code",
   "execution_count": null,
   "id": "d5400300",
   "metadata": {},
   "outputs": [],
   "source": []
  }
 ],
 "metadata": {
  "kernelspec": {
   "display_name": "Python 3",
   "language": "python",
   "name": "python3"
  },
  "language_info": {
   "codemirror_mode": {
    "name": "ipython",
    "version": 3
   },
   "file_extension": ".py",
   "mimetype": "text/x-python",
   "name": "python",
   "nbconvert_exporter": "python",
   "pygments_lexer": "ipython3",
   "version": "3.7.8"
  }
 },
 "nbformat": 4,
 "nbformat_minor": 5
}
