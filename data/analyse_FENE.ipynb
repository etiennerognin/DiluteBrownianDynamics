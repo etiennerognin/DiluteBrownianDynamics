{
 "cells": [
  {
   "cell_type": "markdown",
   "id": "2707231d-094d-491c-818d-babb870f3768",
   "metadata": {},
   "source": [
    "# Analyse FENE model\n"
   ]
  },
  {
   "cell_type": "code",
   "execution_count": 1,
   "id": "a3a78a28-dc84-49f4-a0be-e88c33e0b69c",
   "metadata": {},
   "outputs": [],
   "source": [
    "import numpy as np\n",
    "from matsindy.feature_library import FeatureLibrary\n",
    "\n",
    "from ipywidgets import interactive, fixed\n",
    "import ipywidgets as widgets\n",
    "%matplotlib inline\n",
    "import matplotlib.pyplot as plt\n",
    "plt.rcParams['figure.figsize'] = [15, 8]"
   ]
  },
  {
   "cell_type": "markdown",
   "id": "d4cd1c61",
   "metadata": {},
   "source": [
    "## Datasets selection"
   ]
  },
  {
   "cell_type": "code",
   "execution_count": 2,
   "id": "96801b73",
   "metadata": {},
   "outputs": [],
   "source": [
    "# Max molecule length\n",
    "L_max = 8.\n",
    "\n",
    "# Name: file\n",
    "dataset_files = {\n",
    "#    'random_0_n1000': f'outputs/FENE/L{L_max:.1f}_random_0_n1000.npz',\n",
    "#    'random_1_n1000': f'outputs/FENE/L{L_max:.1f}_random_1_n1000.npz',\n",
    "#    'random_2_n1000': f'outputs/FENE/L{L_max:.1f}_random_2_n1000.npz',\n",
    "#    'random_3_n1000': f'outputs/FENE/L{L_max:.1f}_random_2_n1000.npz',\n",
    "#    'random_4_n1000': f'outputs/FENE/L{L_max:.1f}_random_2_n1000.npz'\n",
    "    'turbulence_0_n1000': f'outputs/FENE/L{L_max:.1f}_turbulence_0_n1000.npz',\n",
    "    'turbulence_1_n1000': f'outputs/FENE/L{L_max:.1f}_turbulence_1_n1000.npz',\n",
    "    'turbulence_2_n1000': f'outputs/FENE/L{L_max:.1f}_turbulence_2_n1000.npz',\n",
    "    'turbulence_3_n1000': f'outputs/FENE/L{L_max:.1f}_turbulence_3_n1000.npz',\n",
    "    'turbulence_4_n1000': f'outputs/FENE/L{L_max:.1f}_turbulence_4_n1000.npz',\n",
    "#    'contraction_0_n1000': f'outputs/FENE/L{L_max:.1f}_contraction_0_n1000.npz',\n",
    "#    'contraction_1_n1000': f'outputs/FENE/L{L_max:.1f}_contraction_1_n1000.npz',\n",
    "#    'contraction_2_n1000': f'outputs/FENE/L{L_max:.1f}_contraction_2_n1000.npz',\n",
    "#    'contraction_3_n1000': f'outputs/FENE/L{L_max:.1f}_contraction_3_n1000.npz',\n",
    "#    'contraction_4_n1000': f'outputs/FENE/L{L_max:.1f}_contraction_4_n1000.npz'\n",
    "}\n",
    "\n",
    "# Test data\n",
    "test_scenarios = {\n",
    "    #'random_0_n1000', \n",
    "    'turbulence_0_n1000', \n",
    "#'contraction_0_n1000'\n",
    "                 }"
   ]
  },
  {
   "cell_type": "code",
   "execution_count": 3,
   "id": "5650ea3a",
   "metadata": {},
   "outputs": [],
   "source": [
    "# Load data\n",
    "dataset = {}\n",
    "for name, file in dataset_files.items():\n",
    "    with np.load(file) as data:\n",
    "        temp = dict(data)\n",
    "        # Rename variables\n",
    "        temp['S'] = temp.pop('S_average')\n",
    "        temp['A'] = temp.pop('A_average')\n",
    "        temp['∇U'] = temp.pop('gradU')\n",
    "        # Add transposed variables\n",
    "        \n",
    "        temp['∇Uᵀ'] = np.transpose(temp['∇U'], axes=(0, 2, 1))\n",
    "        # Save\n",
    "        dataset[name] = temp"
   ]
  },
  {
   "cell_type": "markdown",
   "id": "d105394c",
   "metadata": {},
   "source": [
    "## Make library of features"
   ]
  },
  {
   "cell_type": "markdown",
   "id": "e527a163-89b2-44c8-898b-202cf8e25aa6",
   "metadata": {},
   "source": [
    "Matrix libraries will take data in the form of a dictionary and access the variables using their name. Therefore we need to specify which names we want to involve in the library by defining `variable_names`. Another useful parameter is the `transpose_map` dictionary where we write information about the transpose of the variables. In this dictionary, a key is a variable name of the dataset, and the value is:\n",
    "- Same name if the variable is symmetric;\n",
    "- Same name with a leading `-` if the variable is skew;\n",
    "- The name of the transpose if it is present in the dataset;\n",
    "- `None` otherwise.\n",
    "\n",
    "Here we will be using the stress `'S'` which is symmetric, and both the velocity gradient `'∇U'` and its transposed `'∇Uᵀ'`."
   ]
  },
  {
   "cell_type": "code",
   "execution_count": 4,
   "id": "b2945e1d-ae76-4a2c-84d5-e6dc3903122e",
   "metadata": {},
   "outputs": [],
   "source": [
    "variable_names = {'S', '∇U', '∇Uᵀ'}\n",
    "transpose_map = {'S':'S', '∇U':'∇Uᵀ', '∇Uᵀ':'∇U'}"
   ]
  },
  {
   "cell_type": "markdown",
   "id": "0a51758a-556b-46d1-8fc4-e3fe051eb85e",
   "metadata": {},
   "source": [
    "Now we can create a new library containing polynomial terms by calling `from_polynomial_matrices`. We need to provide: \n",
    "1. `n_terms`: number of mutliplication terms.\n",
    "2. `intercept`: include the identity matrix as a feature.\n",
    "3. `symmetry`: symmetry property of the feature. Here we want only symmetric features."
   ]
  },
  {
   "cell_type": "code",
   "execution_count": 5,
   "id": "c38eedce-3dfd-4c37-baee-6009df155290",
   "metadata": {},
   "outputs": [],
   "source": [
    "library = FeatureLibrary.from_polynomial_matrices(variable_names=variable_names, \n",
    "                                                  transpose_map=transpose_map, \n",
    "                                                  n_terms=4, intercept=True, symmetry='symmetric')\n",
    "#library"
   ]
  },
  {
   "cell_type": "markdown",
   "id": "1bbe4722-c2fc-4fe8-a042-14c73addb7b2",
   "metadata": {},
   "source": [
    "We will also make a scalar library which returns the trace of these polynomial terms. Note that trivially equal features have been removed."
   ]
  },
  {
   "cell_type": "code",
   "execution_count": 6,
   "id": "87283fe0-f362-4820-a8b0-c83934dee9a8",
   "metadata": {},
   "outputs": [],
   "source": [
    "library_trace = FeatureLibrary.from_polynomial_traces(variable_names, transpose_map, n_terms=4, intercept=False)\n",
    "#library_trace"
   ]
  },
  {
   "cell_type": "markdown",
   "id": "1009b8da-d1af-4fa3-9a1e-b4dfd723f9cc",
   "metadata": {},
   "source": [
    "Before we go on, we will remove `tr(∇U)` from the library as we expect this should be null from imcompressibility assumption."
   ]
  },
  {
   "cell_type": "code",
   "execution_count": 7,
   "id": "ed049caa-551b-45a0-857f-42539e9f158c",
   "metadata": {},
   "outputs": [
    {
     "data": {
      "text/plain": [
       "Type of feature output: scalar\n",
       "Variables names: {'∇Uᵀ', 'S', '∇U'}\n",
       "Variables transpose map: {'S': 'S', '∇U': '∇Uᵀ', '∇Uᵀ': '∇U'}\n",
       "Number of feature_functions: 27\n",
       "(0)\ttr(S)\n",
       "(1)\ttr(S∘S)\n",
       "(2)\ttr(S∘∇U)\n",
       "(3)\ttr(∇U∘∇U)\n",
       "(4)\ttr(∇U∘∇Uᵀ)\n",
       "(5)\ttr(S∘S∘S)\n",
       "(6)\ttr(S∘S∘∇U)\n",
       "(7)\ttr(S∘∇U∘∇U)\n",
       "(8)\ttr(S∘∇U∘∇Uᵀ)\n",
       "(9)\ttr(S∘∇Uᵀ∘∇U)\n",
       "(10)\ttr(∇U∘∇U∘∇U)\n",
       "(11)\ttr(∇U∘∇U∘∇Uᵀ)\n",
       "(12)\ttr(S∘S∘S∘S)\n",
       "(13)\ttr(S∘S∘S∘∇U)\n",
       "(14)\ttr(S∘S∘∇U∘∇U)\n",
       "(15)\ttr(S∘S∘∇U∘∇Uᵀ)\n",
       "(16)\ttr(S∘S∘∇Uᵀ∘∇U)\n",
       "(17)\ttr(S∘∇U∘S∘∇U)\n",
       "(18)\ttr(S∘∇U∘S∘∇Uᵀ)\n",
       "(19)\ttr(S∘∇U∘∇U∘∇U)\n",
       "(20)\ttr(S∘∇U∘∇U∘∇Uᵀ)\n",
       "(21)\ttr(S∘∇U∘∇Uᵀ∘∇U)\n",
       "(22)\ttr(S∘∇Uᵀ∘∇U∘∇U)\n",
       "(23)\ttr(∇U∘∇U∘∇U∘∇U)\n",
       "(24)\ttr(∇U∘∇U∘∇U∘∇Uᵀ)\n",
       "(25)\ttr(∇U∘∇U∘∇Uᵀ∘∇Uᵀ)\n",
       "(26)\ttr(∇U∘∇Uᵀ∘∇U∘∇Uᵀ)"
      ]
     },
     "execution_count": 7,
     "metadata": {},
     "output_type": "execute_result"
    }
   ],
   "source": [
    "library_trace.remove_by_name('tr(∇U)')"
   ]
  },
  {
   "cell_type": "markdown",
   "id": "d6b7ee59-7fce-4333-867f-fb7caf9b9b04",
   "metadata": {},
   "source": [
    "Now it is time to combine our matrix library and scalar library."
   ]
  },
  {
   "cell_type": "code",
   "execution_count": 8,
   "id": "e67388cc-5d79-45c4-9da9-075f9023d9b8",
   "metadata": {},
   "outputs": [
    {
     "data": {
      "text/plain": [
       "1932"
      ]
     },
     "execution_count": 8,
     "metadata": {},
     "output_type": "execute_result"
    }
   ],
   "source": [
    "library = library + library_trace*library\n",
    "len(library)"
   ]
  },
  {
   "cell_type": "markdown",
   "id": "189a5723-56be-43bb-9032-87ff4bed7c5b",
   "metadata": {},
   "source": [
    "We end up with a gigantic library we certainly want to trim, so we do by specifying the maximum degree in each variable:"
   ]
  },
  {
   "cell_type": "code",
   "execution_count": 9,
   "id": "60ed3373-6214-4a48-8e8a-15c4efc5ba45",
   "metadata": {},
   "outputs": [
    {
     "data": {
      "text/plain": [
       "Type of feature output: matrix\n",
       "Symmetry of features: symmetric\n",
       "Variables names: {'∇Uᵀ', 'S', '∇U'}\n",
       "Variables transpose map: {'S': 'S', '∇U': '∇Uᵀ', '∇Uᵀ': '∇U'}\n",
       "Number of feature_functions: 52\n",
       "(0)\tI\n",
       "(1)\tS\n",
       "(2)\t∇U + (∇U)ᵀ\n",
       "(3)\tS∘S\n",
       "(4)\tS∘∇U + (S∘∇U)ᵀ\n",
       "(5)\tS∘∇Uᵀ + (S∘∇Uᵀ)ᵀ\n",
       "(6)\t∇U∘∇Uᵀ\n",
       "(7)\t∇Uᵀ∘∇U\n",
       "(8)\tS∘S∘∇U + (S∘S∘∇U)ᵀ\n",
       "(9)\tS∘S∘∇Uᵀ + (S∘S∘∇Uᵀ)ᵀ\n",
       "(10)\tS∘∇U∘S + (S∘∇U∘S)ᵀ\n",
       "(11)\tS∘∇U∘∇Uᵀ + (S∘∇U∘∇Uᵀ)ᵀ\n",
       "(12)\tS∘∇Uᵀ∘∇U + (S∘∇Uᵀ∘∇U)ᵀ\n",
       "(13)\t∇U∘S∘∇Uᵀ\n",
       "(14)\t∇Uᵀ∘S∘∇U\n",
       "(15)\tS∘S∘∇U∘∇Uᵀ + (S∘S∘∇U∘∇Uᵀ)ᵀ\n",
       "(16)\tS∘S∘∇Uᵀ∘∇U + (S∘S∘∇Uᵀ∘∇U)ᵀ\n",
       "(17)\tS∘∇U∘S∘∇Uᵀ + (S∘∇U∘S∘∇Uᵀ)ᵀ\n",
       "(18)\tS∘∇U∘∇Uᵀ∘S\n",
       "(19)\tS∘∇Uᵀ∘S∘∇U + (S∘∇Uᵀ∘S∘∇U)ᵀ\n",
       "(20)\tS∘∇Uᵀ∘∇U∘S\n",
       "(21)\t∇U∘S∘S∘∇Uᵀ\n",
       "(22)\t∇Uᵀ∘S∘S∘∇U\n",
       "(23)\ttr(S)I\n",
       "(24)\ttr(S)S\n",
       "(25)\ttr(S)(∇U + (∇U)ᵀ)\n",
       "(26)\ttr(S)(S∘∇U + (S∘∇U)ᵀ)\n",
       "(27)\ttr(S)(S∘∇Uᵀ + (S∘∇Uᵀ)ᵀ)\n",
       "(28)\ttr(S)∇U∘∇Uᵀ\n",
       "(29)\ttr(S)∇Uᵀ∘∇U\n",
       "(30)\ttr(S)(S∘∇U∘∇Uᵀ + (S∘∇U∘∇Uᵀ)ᵀ)\n",
       "(31)\ttr(S)(S∘∇Uᵀ∘∇U + (S∘∇Uᵀ∘∇U)ᵀ)\n",
       "(32)\ttr(S)∇U∘S∘∇Uᵀ\n",
       "(33)\ttr(S)∇Uᵀ∘S∘∇U\n",
       "(34)\ttr(S∘S)I\n",
       "(35)\ttr(S∘S)(∇U + (∇U)ᵀ)\n",
       "(36)\ttr(S∘S)∇U∘∇Uᵀ\n",
       "(37)\ttr(S∘S)∇Uᵀ∘∇U\n",
       "(38)\ttr(S∘∇U)I\n",
       "(39)\ttr(S∘∇U)S\n",
       "(40)\ttr(S∘∇U)(S∘∇Uᵀ + (S∘∇Uᵀ)ᵀ)\n",
       "(41)\ttr(∇U∘∇Uᵀ)I\n",
       "(42)\ttr(∇U∘∇Uᵀ)S\n",
       "(43)\ttr(∇U∘∇Uᵀ)S∘S\n",
       "(44)\ttr(S∘S∘∇U)I\n",
       "(45)\ttr(S∘∇U∘∇Uᵀ)I\n",
       "(46)\ttr(S∘∇U∘∇Uᵀ)S\n",
       "(47)\ttr(S∘∇Uᵀ∘∇U)I\n",
       "(48)\ttr(S∘∇Uᵀ∘∇U)S\n",
       "(49)\ttr(S∘S∘∇U∘∇Uᵀ)I\n",
       "(50)\ttr(S∘S∘∇Uᵀ∘∇U)I\n",
       "(51)\ttr(S∘∇U∘S∘∇Uᵀ)I"
      ]
     },
     "execution_count": 9,
     "metadata": {},
     "output_type": "execute_result"
    }
   ],
   "source": [
    "library.trim({'S':2, '∇U':1, '∇Uᵀ':1})"
   ]
  },
  {
   "cell_type": "markdown",
   "id": "4c3d0bef",
   "metadata": {},
   "source": [
    "## Evaluate strong-form features\n",
    "\n",
    "For each scenario in the dataset, we evalulate the features from the original (noisy) data and store them in a list. These are features that would be used in a direct application of SINDy."
   ]
  },
  {
   "cell_type": "code",
   "execution_count": 10,
   "id": "52f34b24",
   "metadata": {},
   "outputs": [],
   "source": [
    "for scenario, data in dataset.items():\n",
    "    features = []\n",
    "    for featurize in library.feature_functions:\n",
    "        features.append(featurize(data))\n",
    "    dataset[scenario]['features'] = features"
   ]
  },
  {
   "cell_type": "code",
   "execution_count": 11,
   "id": "2179fc81",
   "metadata": {},
   "outputs": [
    {
     "data": {
      "application/vnd.jupyter.widget-view+json": {
       "model_id": "5c54372ae63b43be91c426fd43aaaf3e",
       "version_major": 2,
       "version_minor": 0
      },
      "text/plain": [
       "interactive(children=(Dropdown(description='Scenario:', options=('turbulence_0_n1000', 'turbulence_1_n1000', '…"
      ]
     },
     "metadata": {},
     "output_type": "display_data"
    }
   ],
   "source": [
    "def inspect(scenario, line, feature):\n",
    "\n",
    "    ln = ['x', 'y', 'z']\n",
    "    plt.plot(dataset[scenario]['t'], dataset[scenario]['features'][feature][:,line,0], c='#0c2c84', linewidth=2, label=f'{ln[line]}x')\n",
    "    plt.plot(dataset[scenario]['t'], dataset[scenario]['features'][feature][:,line,1], c='#1d91c0', linewidth=2, label=f'{ln[line]}y')\n",
    "    plt.plot(dataset[scenario]['t'], dataset[scenario]['features'][feature][:,line,2], c='#7fcdbb', linewidth=2, label=f'{ln[line]}z')\n",
    "    plt.legend()\n",
    "    \n",
    "    plt.show()\n",
    "\n",
    "\n",
    "w = interactive(inspect, scenario=widgets.Dropdown(\n",
    "                    options=list(dataset.keys()),\n",
    "                    value=next(iter(dataset.keys())),\n",
    "                    description='Scenario:',\n",
    "                    disabled=False,\n",
    "                    ),\n",
    "                    line=widgets.Dropdown(\n",
    "                    options=[('xx, xy, xz', 0),('yx, yy, yz', 1),('zx, zy, zz', 2)],\n",
    "                    value=0,\n",
    "                    description='Line:',\n",
    "                    disabled=False,\n",
    "                    ),\n",
    "                    feature=widgets.Dropdown(\n",
    "                    options=list(zip(library.feature_names, range(len(library)))),\n",
    "                    value=0,\n",
    "                    description='Feature precursor:',\n",
    "                    disabled=False,\n",
    "                    )\n",
    "               )\n",
    "w"
   ]
  },
  {
   "cell_type": "markdown",
   "id": "f2e49b9e",
   "metadata": {},
   "source": [
    "## Make weak-form features\n",
    "\n",
    "From the literature, weak-form SINDy is more resilient to noisy data. The weak form is simply achieved by projection (weighted sum in our case) onto test functions. Here, we call the test functions *windows*, refering to signal processing. Sampling the weak-form problem is then, for each window, projecting the stress or conformtation tensor onto `diff(window)` and feature onto `window`, where `diff` is a finite differenciation function. In this descrete setting, the strong-form problem with Euler scheme is actually a special case where `window = [0, 1, 0]` and `diff(window) = [0, -1, 1]`.\n",
    "\n",
    "A few important remarks:\n",
    "\n",
    "1. Using windows with a larger support acts as a low-pass filter on the features. However, as pointed out by [REF], features are evaluated before this filtering occurs, so that no assumption is made on the smoothness of the origninal data.\n",
    "\n",
    "2. It is not obvious which window shape we should use. Some are better at filtering out high frequencies but is this really what matters? In our case, we don't know much about the properties of the noise. For example, using a rectangular window is not the best choice for noise, but it brings the problem closer to what we ultimately want to do: evaluate the stress (and not the rate of change, which is only a proxy). Applying a rectangular window is like integrating the data over chunks of time, producing an appraoch similar to that of Hayden Schaeffer and Scott G. McCalla, https://doi.org/10.1103/PhysRevE.96.023302, but avoiding drift.\n",
    "\n",
    "3. We don't go into the complications of optimal window placement, which is a data selection process after all. At this point, we are still agnostic about the information content of the data, and we make the following choice: for a given window size, windows are distributed to cover the entire data but don't overlap (some data points at the end of the simulated scenario may be excluded). Therefore this approach is equivalent to a low-pass filtering followed by subsampling (in signal processing sense): if we choose a window size greater than one, we end up with less data in the weak form. Now, we can do this process with different window sizes and shapes, and regenerate as many weak-form data points as we want."
   ]
  },
  {
   "cell_type": "code",
   "execution_count": 12,
   "id": "bd1ed1ce",
   "metadata": {},
   "outputs": [
    {
     "data": {
      "image/png": "[encoded data removed]",
      "text/plain": [
       "<Figure size 1080x360 with 2 Axes>"
      ]
     },
     "metadata": {
      "needs_background": "light"
     },
     "output_type": "display_data"
    }
   ],
   "source": [
    "from matsindy.weak import make_window\n",
    "\n",
    "window = make_window(16, 'rectangular')\n",
    "\n",
    "width = len(window)\n",
    "x = np.arange(width)\n",
    "#print(window)\n",
    "wind_diff = np.zeros(width)\n",
    "# derivative: \n",
    "wind_diff[1:] = -np.diff(window)\n",
    "plt.rcParams['figure.figsize'] = [15, 5]\n",
    "fig, ax = plt.subplots(ncols=2)\n",
    "ax[0].bar(x, window, width=0.01*width)\n",
    "ax[0].plot(window,'o',markersize=10)\n",
    "ax[1].bar(x, wind_diff, width=0.01*width)\n",
    "ax[1].plot(wind_diff,'o',markersize=10)\n",
    "plt.show()"
   ]
  },
  {
   "cell_type": "code",
   "execution_count": 13,
   "id": "a432aec8",
   "metadata": {},
   "outputs": [],
   "source": [
    "from matsindy.weak import weak_diff\n",
    "\n",
    "ys_dataset = {}\n",
    "for scenario, data in dataset.items():\n",
    "    dt = data['t'][1]-data['t'][0]  # Assuming uniform time-step\n",
    "    ys_dataset[scenario] = weak_diff(data['S'], dt, window)"
   ]
  },
  {
   "cell_type": "code",
   "execution_count": 14,
   "id": "7ffe3ba5",
   "metadata": {},
   "outputs": [],
   "source": [
    "from matsindy.weak import weak_form\n",
    "\n",
    "# Weak-form features\n",
    "wfeatures_dataset = {}\n",
    "for scenario, data in dataset.items():\n",
    "    dt = data['t'][1]-data['t'][0]\n",
    "    wfeatures_dataset[scenario] = [weak_form(feature, dt, window) for feature in data['features']]"
   ]
  },
  {
   "cell_type": "code",
   "execution_count": 15,
   "id": "678f7b37",
   "metadata": {},
   "outputs": [
    {
     "data": {
      "image/png": "[encoded data removed]",
      "text/plain": [
       "<Figure size 1080x360 with 1 Axes>"
      ]
     },
     "metadata": {
      "needs_background": "light"
     },
     "output_type": "display_data"
    }
   ],
   "source": [
    "scenario = next(iter(dataset_files.keys()))\n",
    "plt.plot(dataset[scenario]['t'], dataset[scenario]['S'][:,0,0])\n",
    "plt.plot(dataset[scenario]['t'][width//2:-width//2+1:width-2], wfeatures_dataset[scenario][1][:,0,0]/dt, '.')\n",
    "plt.show()"
   ]
  },
  {
   "cell_type": "markdown",
   "id": "efcb408c",
   "metadata": {},
   "source": [
    "## Assemble matrix before regression \n",
    "\n",
    "Note: at this point, time differentiation has already been done, so the order of data points doesn't matter."
   ]
  },
  {
   "cell_type": "code",
   "execution_count": null,
   "id": "94b0a523",
   "metadata": {},
   "outputs": [],
   "source": []
  },
  {
   "cell_type": "code",
   "execution_count": 16,
   "id": "a9b7e1b3",
   "metadata": {},
   "outputs": [],
   "source": [
    "y_train = np.hstack([ys_dataset[scenario].flatten() for scenario in dataset.keys() - test_scenarios])\n",
    "y_test = np.hstack([ys_dataset[scenario].flatten() for scenario in test_scenarios])"
   ]
  },
  {
   "cell_type": "code",
   "execution_count": 17,
   "id": "830cc423",
   "metadata": {},
   "outputs": [
    {
     "name": "stdout",
     "output_type": "stream",
     "text": [
      "(20097,)\n",
      "(5013,)\n"
     ]
    }
   ],
   "source": [
    "print(y_train.shape)\n",
    "print(y_test.shape)"
   ]
  },
  {
   "cell_type": "code",
   "execution_count": 18,
   "id": "9fe262d2",
   "metadata": {},
   "outputs": [],
   "source": [
    "Xs = []\n",
    "for scenario in dataset.keys() - test_scenarios:\n",
    "    flat_features = [feature.flatten() for feature in wfeatures_dataset[scenario]]\n",
    "    X = np.array(flat_features)\n",
    "    Xs.append(X.T)\n",
    "X_train = np.vstack(Xs)\n",
    "\n",
    "Xs = []\n",
    "for scenario in test_scenarios:\n",
    "    flat_features = [feature.flatten() for feature in wfeatures_dataset[scenario]]\n",
    "    X = np.array(flat_features)\n",
    "    Xs.append(X.T)\n",
    "X_test = np.vstack(Xs)"
   ]
  },
  {
   "cell_type": "code",
   "execution_count": 19,
   "id": "1e14a28f",
   "metadata": {},
   "outputs": [
    {
     "name": "stdout",
     "output_type": "stream",
     "text": [
      "(20097, 52)\n",
      "(5013, 52)\n"
     ]
    }
   ],
   "source": [
    "print(X_train.shape)\n",
    "print(X_test.shape)"
   ]
  },
  {
   "cell_type": "markdown",
   "id": "75915706",
   "metadata": {},
   "source": [
    "## Regression"
   ]
  },
  {
   "cell_type": "code",
   "execution_count": 20,
   "id": "567bb6d7",
   "metadata": {},
   "outputs": [],
   "source": [
    "from matsindy.optimizer import SSR"
   ]
  },
  {
   "cell_type": "code",
   "execution_count": 21,
   "id": "d06e8164",
   "metadata": {},
   "outputs": [],
   "source": [
    "models = SSR(X_train, y_train)"
   ]
  },
  {
   "cell_type": "code",
   "execution_count": 22,
   "id": "1d358f5e",
   "metadata": {},
   "outputs": [],
   "source": [
    "errors = list(model.error for model in models)\n",
    "num_terms = list(model.num_terms for model in models)\n",
    "cvs = list(model.compute_cv(X_test, y_test) for model in models)"
   ]
  },
  {
   "cell_type": "code",
   "execution_count": 23,
   "id": "c159d1ab",
   "metadata": {},
   "outputs": [
    {
     "data": {
      "image/png": "[encoded data removed]",
      "text/plain": [
       "<Figure size 1080x360 with 1 Axes>"
      ]
     },
     "metadata": {
      "needs_background": "light"
     },
     "output_type": "display_data"
    }
   ],
   "source": [
    "plt.semilogy(num_terms, errors, label='training error')\n",
    "plt.semilogy(num_terms, cvs, label='Cross-validation error')\n",
    "\n",
    "plt.legend()\n",
    "plt.show()"
   ]
  },
  {
   "cell_type": "code",
   "execution_count": 24,
   "id": "b78aab2e",
   "metadata": {},
   "outputs": [
    {
     "data": {
      "application/vnd.jupyter.widget-view+json": {
       "model_id": "aaaa3eed6f4a49a395666513d39e8c02",
       "version_major": 2,
       "version_minor": 0
      },
      "text/plain": [
       "interactive(children=(Dropdown(description='Terms:', index=51, options=((52, <matsindy.model.model object at 0…"
      ]
     },
     "metadata": {},
     "output_type": "display_data"
    }
   ],
   "source": [
    "def view_model(model):    \n",
    "    model.print(library)\n",
    "    # Plot error dist\n",
    "    y_hat = model.predict(X_train)\n",
    "    \n",
    "    fig, ax = plt.subplots(ncols=2)\n",
    "    \n",
    "    ax[0].plot(y_train, y_train, '-', c='gray')\n",
    "    ax[0].plot(y_train, y_hat, '.', alpha=0.1)\n",
    "    ax[0].set_title('Prediction')\n",
    "    \n",
    "    ax[1].hist(y_train-y_hat, bins=200)\n",
    "    ax[1].set_yscale('log', nonposy='clip')\n",
    "    ax[1].set_title('Residuals')\n",
    "    plt.show()\n",
    "\n",
    "w2 = interactive(view_model, \n",
    "                model=widgets.Dropdown(\n",
    "                    options=list((model.num_terms, model) for model in models),\n",
    "                    value=models[-1],\n",
    "                    description='Terms:',\n",
    "                    disabled=False,\n",
    "                    )\n",
    "                )\n",
    "w2"
   ]
  },
  {
   "cell_type": "code",
   "execution_count": 25,
   "id": "cf35598c",
   "metadata": {},
   "outputs": [],
   "source": [
    "#x = np.linspace(-2,2,1000)\n",
    "#plt.semilogy(x, np.exp(-np.abs(x)**0.2))"
   ]
  },
  {
   "cell_type": "code",
   "execution_count": 26,
   "id": "8325485d",
   "metadata": {},
   "outputs": [],
   "source": [
    "from matsindy.optimizer import bagging_SSR\n",
    "\n",
    "models_b = bagging_SSR(X_train, y_train, n_estimators=10, n_samples=0.2)"
   ]
  },
  {
   "cell_type": "code",
   "execution_count": 27,
   "id": "5bde1645",
   "metadata": {},
   "outputs": [
    {
     "data": {
      "image/png": "[encoded data removed]",
      "text/plain": [
       "<Figure size 1080x360 with 1 Axes>"
      ]
     },
     "metadata": {
      "needs_background": "light"
     },
     "output_type": "display_data"
    }
   ],
   "source": [
    "errors = [model.error for model in models_b]\n",
    "num_terms = [model.num_terms for model in models_b]\n",
    "cvs = [model.compute_cv(X_test, y_test) for model in models_b]\n",
    "plt.semilogy(num_terms, errors, label='training error')\n",
    "plt.semilogy(num_terms, cvs, label='Cross-validation error')\n",
    "plt.legend()\n",
    "plt.show()"
   ]
  },
  {
   "cell_type": "code",
   "execution_count": 28,
   "id": "fc92b292",
   "metadata": {},
   "outputs": [
    {
     "data": {
      "application/vnd.jupyter.widget-view+json": {
       "model_id": "68da37e598404e27b29c8414a269b4ca",
       "version_major": 2,
       "version_minor": 0
      },
      "text/plain": [
       "interactive(children=(Dropdown(description='Terms:', index=51, options=((52, <matsindy.model.model object at 0…"
      ]
     },
     "metadata": {},
     "output_type": "display_data"
    }
   ],
   "source": [
    "w3 = interactive(view_model, \n",
    "                model=widgets.Dropdown(\n",
    "                    options=list((model.num_terms, model) for model in models_b),\n",
    "                    value=models_b[-1],\n",
    "                    description='Terms:',\n",
    "                    disabled=False,\n",
    "                    )\n",
    "                )\n",
    "w3"
   ]
  },
  {
   "cell_type": "markdown",
   "id": "3ac15896",
   "metadata": {},
   "source": [
    "## Classical linear models from scikit-learn"
   ]
  },
  {
   "cell_type": "code",
   "execution_count": 29,
   "id": "1167329e",
   "metadata": {},
   "outputs": [
    {
     "data": {
      "text/plain": [
       "array([-1.91317545e+01, -1.12656586e+00, -3.43455127e+00,  4.86572378e-02,\n",
       "        1.35489500e+00,  1.61017570e-01, -1.94445481e-01, -3.33194607e-01,\n",
       "        1.84520436e-03,  9.13811892e-04, -4.77360729e-03,  2.25514433e-02,\n",
       "        1.12031312e-02, -1.09510912e-02,  1.24792066e-02, -6.63427009e-05,\n",
       "        0.00000000e+00, -6.12899612e-05, -9.20208491e-05, -1.53330029e-04,\n",
       "        8.06661116e-05,  6.15404848e-06, -2.28153632e-04,  1.42805406e-01,\n",
       "       -8.31835369e-02,  8.26520078e-03, -2.02755335e-03, -1.08022959e-03,\n",
       "       -5.87539736e-04, -3.73951048e-04, -4.49448220e-06, -1.99865805e-05,\n",
       "        2.23216475e-05,  2.59764969e-04, -7.71599505e-03,  4.40433223e-06,\n",
       "       -7.90559414e-07,  4.27379454e-07,  6.80462725e-01,  1.04166180e-02,\n",
       "        6.49933640e-05,  4.44469899e-01, -5.84490114e-03,  1.77763601e-06,\n",
       "        1.22572554e-03, -6.24686023e-02,  5.00385508e-04, -6.60036943e-03,\n",
       "       -2.81815475e-05,  1.27383958e-04,  1.11244977e-05, -2.05732302e-04])"
      ]
     },
     "execution_count": 29,
     "metadata": {},
     "output_type": "execute_result"
    }
   ],
   "source": [
    "from sklearn.linear_model import LassoLarsIC\n",
    "\n",
    "reg = LassoLarsIC(criterion='aic', fit_intercept=False, normalize=False)\n",
    "reg.fit(X_train, y_train)\n",
    "reg.coef_"
   ]
  },
  {
   "cell_type": "code",
   "execution_count": 30,
   "id": "64eb2986",
   "metadata": {},
   "outputs": [
    {
     "data": {
      "text/plain": [
       "0.5288001226842135"
      ]
     },
     "execution_count": 30,
     "metadata": {},
     "output_type": "execute_result"
    }
   ],
   "source": [
    "reg.score(X_test, y_test)"
   ]
  },
  {
   "cell_type": "code",
   "execution_count": null,
   "id": "52dce182",
   "metadata": {},
   "outputs": [],
   "source": []
  }
 ],
 "metadata": {
  "kernelspec": {
   "display_name": "Python 3",
   "language": "python",
   "name": "python3"
  },
  "language_info": {
   "codemirror_mode": {
    "name": "ipython",
    "version": 3
   },
   "file_extension": ".py",
   "mimetype": "text/x-python",
   "name": "python",
   "nbconvert_exporter": "python",
   "pygments_lexer": "ipython3",
   "version": "3.7.8"
  }
 },
 "nbformat": 4,
 "nbformat_minor": 5
}
