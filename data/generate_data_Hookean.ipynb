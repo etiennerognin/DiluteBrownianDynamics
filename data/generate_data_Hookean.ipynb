{
 "cells": [
  {
   "cell_type": "markdown",
   "id": "6cb240e2",
   "metadata": {},
   "source": [
    "# Generate data using Hookean dumbbell model\n",
    "\n",
    "The script will first draw a distribution of molecules and equilibrate. Then for each scenario, simulate, and save in individual files.\n"
   ]
  },
  {
   "cell_type": "code",
   "execution_count": 1,
   "id": "e200af8f",
   "metadata": {},
   "outputs": [],
   "source": [
    "import numpy as np\n",
    "from dilutebrowniandynamics.simulate import simulate_batch\n",
    "from dilutebrowniandynamics.molecules.Hookean_dumbbell import HookeanDumbbell\n",
    "\n",
    "from scipy.interpolate import interp1d\n",
    "\n",
    "from ipywidgets import interactive, fixed\n",
    "import ipywidgets as widgets\n",
    "\n",
    "%matplotlib inline\n",
    "import matplotlib.pyplot as plt\n",
    "plt.rcParams['figure.figsize'] = [15, 8]\n",
    "\n",
    "import json"
   ]
  },
  {
   "cell_type": "markdown",
   "id": "908a42b7",
   "metadata": {},
   "source": [
    "## Parameters definition"
   ]
  },
  {
   "cell_type": "code",
   "execution_count": 2,
   "id": "09eb77c4",
   "metadata": {},
   "outputs": [],
   "source": [
    "n_ensemble = 1000   # Number of molecules to simulate\n",
    "dt = .001           # Time step value (dimensionless)\n",
    "n_proc = 16          # Number of processor cores to use\n",
    "                    \n",
    "# Name: file\n",
    "scenarios = {\n",
    "    'turbulence_0': 'inputs/turbulence/scenario_turbulence_0.npz',\n",
    "    'turbulence_1': 'inputs/turbulence/scenario_turbulence_1.npz',\n",
    "    'turbulence_2': 'inputs/turbulence/scenario_turbulence_2.npz',\n",
    "    'turbulence_3': 'inputs/turbulence/scenario_turbulence_3.npz',\n",
    "    'turbulence_4': 'inputs/turbulence/scenario_turbulence_4.npz',\n",
    "#    'inkjet_0': 'inputs/inkjet/scenario_inkjet_0.npz',\n",
    "#    'contraction_0': 'inputs/contraction/scenario_contraction_0.npz',\n",
    "#    'contraction_1': 'inputs/contraction/scenario_contraction_1.npz',\n",
    "#    'contraction_2': 'inputs/contraction/scenario_contraction_2.npz',\n",
    "#    'elongation_0': 'inputs/elongation/scenario_elongation_0.npz',\n",
    "#    'elongation_1': 'inputs/elongation/scenario_elongation_1.npz',\n",
    "#    'elongation_2': 'inputs/elongation/scenario_elongation_2.npz',\n",
    "    'random_0': 'inputs/random/scenario_random_0.npz',\n",
    "    'random_1': 'inputs/random/scenario_random_1.npz',\n",
    "    'random_2': 'inputs/random/scenario_random_2.npz',\n",
    "    'random_3': 'inputs/random/scenario_random_3.npz',\n",
    "    'random_4': 'inputs/random/scenario_random_4.npz'\n",
    "}"
   ]
  },
  {
   "cell_type": "markdown",
   "id": "ba9d6bb0",
   "metadata": {},
   "source": [
    "## Initialise molecules\n",
    "Here we just draw random vectors from a normal distribution with variance ⅓ in each coordinate so that the average norm is 1. To do this with call `from_normal_distribution` constructor. Note that we pass a random seed (`SeedSequence` object) to ensure thread-safe random number generation and reproducible results."
   ]
  },
  {
   "cell_type": "code",
   "execution_count": 3,
   "id": "9bc61b6c",
   "metadata": {},
   "outputs": [],
   "source": [
    "seq = np.random.SeedSequence(2022)\n",
    "seeds = seq.spawn(n_ensemble)\n",
    "# Starting vectors\n",
    "molecules = [HookeanDumbbell.from_normal_distribution(seed)\n",
    "             for seed in seeds]"
   ]
  },
  {
   "cell_type": "markdown",
   "id": "d04bfbf8",
   "metadata": {},
   "source": [
    "## Initial relaxation\n",
    "Molecular dynamics simulations are usually preceeded by a relaxation/thermalisation step, which in our case is just a simulation with no velocity gradient. Although we know that for Hookean dumbbell the relaxed distribution is the one we just used to create new molecules, we still do it as an example of a first call to the `simulate_batch` function."
   ]
  },
  {
   "cell_type": "code",
   "execution_count": 4,
   "id": "98624d39",
   "metadata": {},
   "outputs": [
    {
     "name": "stdout",
     "output_type": "stream",
     "text": [
      "Physical time to compute: 3.0\n",
      "Calculation started on 16 cores.\n"
     ]
    },
    {
     "name": "stderr",
     "output_type": "stream",
     "text": [
      "100%|██████████| 1000/1000 [00:13<00:00, 72.59it/s]\n"
     ]
    }
   ],
   "source": [
    "gradU = np.zeros((3, 3))\n",
    "n_rec = int(3/dt)\n",
    "\n",
    "\n",
    "observables, molecules_init = simulate_batch(molecules, gradU, n_rec, dt, n_proc)"
   ]
  },
  {
   "cell_type": "markdown",
   "id": "8813dfad",
   "metadata": {},
   "source": [
    "We can investigate the dumbbell distribution in a number of ways. Let's look at time series and histograms."
   ]
  },
  {
   "cell_type": "markdown",
   "id": "e2067c04",
   "metadata": {},
   "source": [
    "## Simulations\n",
    "\n",
    "Now let's simulate each scenario. We will use the interpolator `scipy.interpolate.interp1d` with the property `kind=previous` for the sudden elongation and random tensor, `kind=linear` for realistic flows."
   ]
  },
  {
   "cell_type": "code",
   "execution_count": 5,
   "id": "1b821b29",
   "metadata": {},
   "outputs": [
    {
     "name": "stdout",
     "output_type": "stream",
     "text": [
      "Simulate turbulence_0...\n",
      "Physical time to compute: 89.147\n",
      "Calculation started on 16 cores.\n"
     ]
    },
    {
     "name": "stderr",
     "output_type": "stream",
     "text": [
      "100%|██████████| 1000/1000 [14:24<00:00,  1.16it/s]\n"
     ]
    },
    {
     "name": "stdout",
     "output_type": "stream",
     "text": [
      "Simulate turbulence_1...\n",
      "Physical time to compute: 91.426\n",
      "Calculation started on 16 cores.\n"
     ]
    },
    {
     "name": "stderr",
     "output_type": "stream",
     "text": [
      "100%|██████████| 1000/1000 [15:19<00:00,  1.09it/s]\n"
     ]
    },
    {
     "name": "stdout",
     "output_type": "stream",
     "text": [
      "Simulate turbulence_2...\n",
      "Physical time to compute: 123.056\n",
      "Calculation started on 16 cores.\n"
     ]
    },
    {
     "name": "stderr",
     "output_type": "stream",
     "text": [
      "100%|██████████| 1000/1000 [20:59<00:00,  1.26s/it]\n"
     ]
    },
    {
     "name": "stdout",
     "output_type": "stream",
     "text": [
      "Simulate turbulence_3...\n",
      "Physical time to compute: 70.38\n",
      "Calculation started on 16 cores.\n"
     ]
    },
    {
     "name": "stderr",
     "output_type": "stream",
     "text": [
      "100%|██████████| 1000/1000 [12:20<00:00,  1.35it/s]\n"
     ]
    },
    {
     "name": "stdout",
     "output_type": "stream",
     "text": [
      "Simulate turbulence_4...\n",
      "Physical time to compute: 72.898\n",
      "Calculation started on 16 cores.\n"
     ]
    },
    {
     "name": "stderr",
     "output_type": "stream",
     "text": [
      "100%|██████████| 1000/1000 [12:26<00:00,  1.34it/s]\n"
     ]
    },
    {
     "name": "stdout",
     "output_type": "stream",
     "text": [
      "Simulate random_0...\n",
      "Physical time to compute: 10.0\n",
      "Calculation started on 16 cores.\n"
     ]
    },
    {
     "name": "stderr",
     "output_type": "stream",
     "text": [
      "100%|██████████| 1000/1000 [02:01<00:00,  8.22it/s]\n"
     ]
    },
    {
     "name": "stdout",
     "output_type": "stream",
     "text": [
      "Simulate random_1...\n",
      "Physical time to compute: 10.0\n",
      "Calculation started on 16 cores.\n"
     ]
    },
    {
     "name": "stderr",
     "output_type": "stream",
     "text": [
      "100%|██████████| 1000/1000 [01:57<00:00,  8.48it/s]\n"
     ]
    },
    {
     "name": "stdout",
     "output_type": "stream",
     "text": [
      "Simulate random_2...\n",
      "Physical time to compute: 10.0\n",
      "Calculation started on 16 cores.\n"
     ]
    },
    {
     "name": "stderr",
     "output_type": "stream",
     "text": [
      "100%|██████████| 1000/1000 [01:52<00:00,  8.89it/s]\n"
     ]
    },
    {
     "name": "stdout",
     "output_type": "stream",
     "text": [
      "Simulate random_3...\n",
      "Physical time to compute: 10.0\n",
      "Calculation started on 16 cores.\n"
     ]
    },
    {
     "name": "stderr",
     "output_type": "stream",
     "text": [
      "100%|██████████| 1000/1000 [01:33<00:00, 10.73it/s]\n"
     ]
    },
    {
     "name": "stdout",
     "output_type": "stream",
     "text": [
      "Simulate random_4...\n",
      "Physical time to compute: 10.0\n",
      "Calculation started on 16 cores.\n"
     ]
    },
    {
     "name": "stderr",
     "output_type": "stream",
     "text": [
      "100%|██████████| 1000/1000 [01:38<00:00, 10.20it/s]\n"
     ]
    }
   ],
   "source": [
    "simulation_results = []\n",
    "\n",
    "for name, file in scenarios.items():\n",
    "\n",
    "    # Build scenario\n",
    "    # --------------\n",
    "    scenario = np.load(file)\n",
    "    t_base = scenario['t']\n",
    "    t_base = t_base - t_base[0]\n",
    "    gradU_base = scenario['gradU']\n",
    "    if name.startswith('elongation') or name.startswith('random'):\n",
    "        kind='previous'\n",
    "    else:\n",
    "        kind='linear'\n",
    "    gradU = interp1d(t_base, gradU_base, axis=0, kind=kind, bounds_error=False, \n",
    "                     fill_value=(gradU_base[0], gradU_base[-1]), assume_sorted=True)\n",
    "    \n",
    "    # Simulate\n",
    "    # --------\n",
    "    print(f\"Simulate {name}...\")\n",
    "    \n",
    "    n_rec = int(t_base[-1]/dt)\n",
    "    observables, _ = simulate_batch(molecules_init, gradU, n_rec, dt, n_proc)\n",
    "    observables['t'] = np.arange(n_rec)*dt\n",
    "    observables['gradU'] = gradU(np.arange(n_rec)*dt)\n",
    "    simulation_results.append(observables)"
   ]
  },
  {
   "cell_type": "markdown",
   "id": "f230e4a6",
   "metadata": {},
   "source": [
    "## Inspect"
   ]
  },
  {
   "cell_type": "code",
   "execution_count": 6,
   "id": "dea27523",
   "metadata": {},
   "outputs": [
    {
     "data": {
      "application/vnd.jupyter.widget-view+json": {
       "model_id": "eb4b268683d3422b9acdd127960b0b25",
       "version_major": 2,
       "version_minor": 0
      },
      "text/plain": [
       "interactive(children=(Dropdown(description='Scenario:', options=(('turbulence_0', 0), ('turbulence_1', 1), ('t…"
      ]
     },
     "metadata": {},
     "output_type": "display_data"
    }
   ],
   "source": [
    "def inspect(scenario, line, show_std):\n",
    "    t = simulation_results[scenario]['t']\n",
    "    obs = simulation_results[scenario]\n",
    "    \n",
    "    figure, ax = plt.subplots(nrows=3)\n",
    "    \n",
    "    ax[0].plot(t, obs['A_average'][:,line,0], c='#0c2c84', linewidth=2, label='ix')\n",
    "    ax[0].plot(t, obs['A_average'][:,line,1], c='#1d91c0', linewidth=2, label='iy')\n",
    "    ax[0].plot(t, obs['A_average'][:,line,2], c='#7fcdbb', linewidth=2, label='iz')    \n",
    "    if show_std:\n",
    "        ax[0].fill_between(t, obs['A_average'][:,line,0] - obs['A_std'][:,line,0],\n",
    "                       obs['A_average'][:,line,0] + obs['A_std'][:,line,0],\n",
    "                       label='sigma ix', alpha=0.1)\n",
    "        ax[0].fill_between(t, obs['A_average'][:,line,1] - obs['A_std'][:,line,1],\n",
    "                       obs['A_average'][:,line,1] + obs['A_std'][:,line,1],\n",
    "                       label='sigma iy', alpha=0.1)\n",
    "        ax[0].fill_between(t, obs['A_average'][:,line,2] - obs['A_std'][:,line,2],\n",
    "                       obs['A_average'][:,line,2] + obs['A_std'][:,line,2],\n",
    "                       label='sigma iz', alpha=0.1)\n",
    "    ax[0].set_title('Conformation tensor')\n",
    "    ax[0].legend()\n",
    "\n",
    "    ax[1].plot(t, obs['S_average'][:,line,0], c='#0c2c84', linewidth=2, label='ix')\n",
    "    ax[1].plot(t, obs['S_average'][:,line,1], c='#1d91c0', linewidth=2, label='iy')\n",
    "    ax[1].plot(t, obs['S_average'][:,line,2], c='#7fcdbb', linewidth=2, label='iz')\n",
    "    \n",
    "    if show_std:\n",
    "        ax[1].fill_between(t, obs['S_average'][:,line,0] - obs['S_std'][:,line,0],\n",
    "                       obs['S_average'][:,line,0] + obs['S_std'][:,line,0],\n",
    "                       label='sigma ix', alpha=0.1)\n",
    "        ax[1].fill_between(t, obs['S_average'][:,line,1] - obs['S_std'][:,line,1],\n",
    "                       obs['S_average'][:,line,1] + obs['S_std'][:,line,1],\n",
    "                       label='sigma iy', alpha=0.1)\n",
    "        ax[1].fill_between(t, obs['S_average'][:,line,2] - obs['S_std'][:,line,2],\n",
    "                       obs['S_average'][:,line,2] + obs['S_std'][:,line,2],\n",
    "                       label='sigma iz', alpha=0.1)\n",
    "    ax[1].set_title('Stress tensor')\n",
    "    \n",
    "    ax[2].plot(t, obs['gradU'][:,line,0], c='#0c2c84', linewidth=2, label='ix')\n",
    "    ax[2].plot(t, obs['gradU'][:,line,1], c='#1d91c0', linewidth=2, label='iy')\n",
    "    ax[2].plot(t, obs['gradU'][:,line,2], c='#7fcdbb', linewidth=2, label='iz')\n",
    "    ax[2].set_title('Grad(U) tensor')\n",
    "    \n",
    "    plt.show()\n",
    "\n",
    "\n",
    "w = interactive(inspect, scenario=widgets.Dropdown(\n",
    "                        options=list(zip(scenarios.keys(), range(len(scenarios)))),\n",
    "                        value=0,\n",
    "                        description='Scenario:',\n",
    "                        disabled=False\n",
    "                    ),\n",
    "                    line=widgets.Dropdown(\n",
    "                        options=[('xx, xy, xz', 0),('yx, yy, yz', 1),('zx, zy, zz', 2)],\n",
    "                        value=0,\n",
    "                        description='Line:',\n",
    "                        disabled=False\n",
    "                    ),\n",
    "                    show_std=widgets.Checkbox(\n",
    "                        value=False,\n",
    "                        description='Show standard deviation',\n",
    "                        disabled=False\n",
    "                    )\n",
    "               )\n",
    "w"
   ]
  },
  {
   "cell_type": "markdown",
   "id": "5695fe6e",
   "metadata": {},
   "source": [
    "## Save result to files\n",
    "\n",
    "Here we save the result as *numpy arrays* compressed in a single file, as we expect further analysis with Python. Use other tools to save as text files."
   ]
  },
  {
   "cell_type": "code",
   "execution_count": 7,
   "id": "6db125b5",
   "metadata": {},
   "outputs": [],
   "source": [
    "params = {'model' : molecules[0].__class__.__name__,\n",
    "          'n_ensemble' : n_ensemble,\n",
    "          'dt' : dt,\n",
    "          'n_proc' : n_proc\n",
    "          }\n",
    "\n",
    "for i, name in enumerate(scenarios.keys()):\n",
    "    observables = simulation_results[i]\n",
    "    np.savez_compressed(f\"outputs/Hookean/{name}_n{n_ensemble}\", **observables)\n",
    "    json.dump(params, open( f\"outputs/Hookean/{name}_n{n_ensemble}.json\", 'w' ) )"
   ]
  },
  {
   "cell_type": "code",
   "execution_count": null,
   "id": "2172c04d",
   "metadata": {},
   "outputs": [],
   "source": []
  },
  {
   "cell_type": "code",
   "execution_count": null,
   "id": "60044f8e",
   "metadata": {},
   "outputs": [],
   "source": []
  }
 ],
 "metadata": {
  "kernelspec": {
   "display_name": "Python 3",
   "language": "python",
   "name": "python3"
  },
  "language_info": {
   "codemirror_mode": {
    "name": "ipython",
    "version": 3
   },
   "file_extension": ".py",
   "mimetype": "text/x-python",
   "name": "python",
   "nbconvert_exporter": "python",
   "pygments_lexer": "ipython3",
   "version": "3.7.8"
  }
 },
 "nbformat": 4,
 "nbformat_minor": 5
}
