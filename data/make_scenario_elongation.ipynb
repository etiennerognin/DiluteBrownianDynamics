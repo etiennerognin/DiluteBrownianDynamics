{
 "cells": [
  {
   "cell_type": "markdown",
   "id": "6cb240e2",
   "metadata": {},
   "source": [
    "# Elongation velocity gradient\n",
    "\n",
    "Elongation velocity gradient, followed by relaxation. The first velocity gradient is along the x-axis, others are along random orientations. The Henky strain `H` is the duration of the velocity gradient event. "
   ]
  },
  {
   "cell_type": "code",
   "execution_count": 1,
   "id": "80582d2b",
   "metadata": {},
   "outputs": [],
   "source": [
    "import numpy as np\n",
    "np.random.seed(2022)\n",
    "from scipy.interpolate import interp1d\n",
    "import pywt\n",
    "\n",
    "from ipywidgets import interactive\n",
    "import ipywidgets as widgets\n",
    "\n",
    "%matplotlib inline\n",
    "import matplotlib.pyplot as plt\n",
    "plt.rcParams['figure.figsize'] = [15, 8]\n",
    "\n",
    "output_file = 'inputs/elongation/scenario_elongation'\n",
    "\n",
    "# Number of independent scenarios\n",
    "n_scenarios = 5\n",
    "\n",
    "# Henky strain\n",
    "H = 10\n",
    "\n",
    "# Relax after strain\n",
    "relax = False"
   ]
  },
  {
   "cell_type": "markdown",
   "id": "3e73d984",
   "metadata": {},
   "source": [
    "## Sample velocity gradient data"
   ]
  },
  {
   "cell_type": "code",
   "execution_count": 2,
   "id": "53e39349",
   "metadata": {},
   "outputs": [
    {
     "data": {
      "text/plain": [
       "[[array([[ 1. ,  0. ,  0. ],\n",
       "         [ 0. , -0.5,  0. ],\n",
       "         [ 0. ,  0. , -0.5]]),\n",
       "  array([[0., 0., 0.],\n",
       "         [0., 0., 0.],\n",
       "         [0., 0., 0.]])],\n",
       " [array([[ 0.35906263, -0.74102686, -0.03852961],\n",
       "         [-0.74102686,  0.13920928,  0.03323562],\n",
       "         [-0.03852961,  0.03323562, -0.49827192]]),\n",
       "  array([[0., 0., 0.],\n",
       "         [0., 0., 0.],\n",
       "         [0., 0., 0.]])],\n",
       " [array([[-0.26776314,  0.21277127, -0.49914899],\n",
       "         [ 0.21277127, -0.30506276, -0.45731141],\n",
       "         [-0.49914899, -0.45731141,  0.5728259 ]]),\n",
       "  array([[0., 0., 0.],\n",
       "         [0., 0., 0.],\n",
       "         [0., 0., 0.]])],\n",
       " [array([[-0.1556659 ,  0.07205345, -0.62669249],\n",
       "         [ 0.07205345, -0.48492249, -0.13113821],\n",
       "         [-0.62669249, -0.13113821,  0.64058839]]),\n",
       "  array([[0., 0., 0.],\n",
       "         [0., 0., 0.],\n",
       "         [0., 0., 0.]])],\n",
       " [array([[-0.42127626,  0.19282065,  0.27332833],\n",
       "         [ 0.19282065, -0.02771802,  0.66947211],\n",
       "         [ 0.27332833,  0.66947211,  0.44899428]]),\n",
       "  array([[0., 0., 0.],\n",
       "         [0., 0., 0.],\n",
       "         [0., 0., 0.]])]]"
      ]
     },
     "execution_count": 2,
     "metadata": {},
     "output_type": "execute_result"
    }
   ],
   "source": [
    "if relax:\n",
    "    times = [[0,H,2*H]]*n_scenarios\n",
    "else:\n",
    "    times = [[0,H]]*n_scenarios\n",
    "gradUs = []\n",
    "\n",
    "for i in range(n_scenarios):\n",
    "    gradU = np.diag([1,-.5,-.5])\n",
    "    if i>0:\n",
    "        # Rotate\n",
    "        x = 2*np.pi*np.random.random()\n",
    "        y = 2*np.pi*np.random.random()\n",
    "        z = 2*np.pi*np.random.random()\n",
    "        Rx = np.array([[1., 0, 0],\n",
    "                      [0, np.cos(x), -np.sin(x) ],\n",
    "                      [0, np.sin(x), np.cos(x)]\n",
    "                      ])\n",
    "        Ry = np.array([[np.cos(y), 0, np.sin(y)],\n",
    "                      [0, 1, 0],\n",
    "                      [-np.sin(y), 0, np.cos(y)]\n",
    "                      ])\n",
    "        Rz = np.array([[np.cos(z),  -np.sin(z), 0],\n",
    "                      [np.sin(z), np.cos(z), 0],\n",
    "                      [0, 0, 1]\n",
    "                      ])\n",
    "        R = Rx @ Ry @ Rz\n",
    "        gradU = R @ gradU @ R.T\n",
    "    if relax:\n",
    "        gradUs.append([gradU, np.zeros((3,3)), np.zeros((3,3))])\n",
    "    else:\n",
    "        gradUs.append([gradU, np.zeros((3,3))])\n",
    "gradUs"
   ]
  },
  {
   "cell_type": "code",
   "execution_count": 3,
   "id": "6db125b5",
   "metadata": {},
   "outputs": [],
   "source": [
    "for i, (time, gradU) in enumerate(zip(times, gradUs)):\n",
    "    np.savez_compressed(f\"{output_file}_{i}\", t=time, gradU=gradU)"
   ]
  },
  {
   "cell_type": "code",
   "execution_count": null,
   "id": "2172c04d",
   "metadata": {},
   "outputs": [],
   "source": []
  },
  {
   "cell_type": "code",
   "execution_count": null,
   "id": "60044f8e",
   "metadata": {},
   "outputs": [],
   "source": []
  },
  {
   "cell_type": "code",
   "execution_count": null,
   "id": "2d4db458",
   "metadata": {},
   "outputs": [],
   "source": []
  },
  {
   "cell_type": "code",
   "execution_count": null,
   "id": "7466076b",
   "metadata": {},
   "outputs": [],
   "source": []
  }
 ],
 "metadata": {
  "kernelspec": {
   "display_name": "Python 3",
   "language": "python",
   "name": "python3"
  },
  "language_info": {
   "codemirror_mode": {
    "name": "ipython",
    "version": 3
   },
   "file_extension": ".py",
   "mimetype": "text/x-python",
   "name": "python",
   "nbconvert_exporter": "python",
   "pygments_lexer": "ipython3",
   "version": "3.7.8"
  }
 },
 "nbformat": 4,
 "nbformat_minor": 5
}
