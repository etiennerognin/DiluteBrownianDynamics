{
 "cells": [
  {
   "cell_type": "markdown",
   "id": "6cb240e2",
   "metadata": {},
   "source": [
    "# Elongation velocity gradient\n",
    "\n",
    "Elongation velocity gradient, followed by relaxation. The first velocity gradient is along the x-axis, others are along random orientations. The Henky strain `H` is the duration of the velocity gradient event. "
   ]
  },
  {
   "cell_type": "code",
   "execution_count": 5,
   "id": "80582d2b",
   "metadata": {},
   "outputs": [],
   "source": [
    "import numpy as np\n",
    "from scipy.interpolate import interp1d\n",
    "import pywt\n",
    "\n",
    "from ipywidgets import interactive\n",
    "import ipywidgets as widgets\n",
    "\n",
    "%matplotlib inline\n",
    "import matplotlib.pyplot as plt\n",
    "plt.rcParams['figure.figsize'] = [15, 8]\n",
    "\n",
    "output_file = 'inputs/elongation/scenario_elongation'\n",
    "\n",
    "# Number of independent scenarios\n",
    "n_scenarios = 5\n",
    "\n",
    "# Henky strain\n",
    "H = 5"
   ]
  },
  {
   "cell_type": "markdown",
   "id": "3e73d984",
   "metadata": {},
   "source": [
    "## Sample velocity gradient data"
   ]
  },
  {
   "cell_type": "code",
   "execution_count": 6,
   "id": "53e39349",
   "metadata": {},
   "outputs": [
    {
     "data": {
      "text/plain": [
       "[[array([[ 1. ,  0. ,  0. ],\n",
       "         [ 0. , -0.5,  0. ],\n",
       "         [ 0. ,  0. , -0.5]]),\n",
       "  array([[0., 0., 0.],\n",
       "         [0., 0., 0.],\n",
       "         [0., 0., 0.]]),\n",
       "  array([[0., 0., 0.],\n",
       "         [0., 0., 0.],\n",
       "         [0., 0., 0.]])],\n",
       " [array([[-0.43212568, -0.25557343, -0.1785687 ],\n",
       "         [-0.25557343,  0.46233415,  0.67238116],\n",
       "         [-0.1785687 ,  0.67238116, -0.03020847]]),\n",
       "  array([[0., 0., 0.],\n",
       "         [0., 0., 0.],\n",
       "         [0., 0., 0.]]),\n",
       "  array([[0., 0., 0.],\n",
       "         [0., 0., 0.],\n",
       "         [0., 0., 0.]])],\n",
       " [array([[ 0.56914325,  0.65539909,  0.17635085],\n",
       "         [ 0.65539909, -0.09823161,  0.10810542],\n",
       "         [ 0.17635085,  0.10810542, -0.47091164]]),\n",
       "  array([[0., 0., 0.],\n",
       "         [0., 0., 0.],\n",
       "         [0., 0., 0.]]),\n",
       "  array([[0., 0., 0.],\n",
       "         [0., 0., 0.],\n",
       "         [0., 0., 0.]])],\n",
       " [array([[ 0.29576025, -0.68774639, -0.29565335],\n",
       "         [-0.68774639,  0.09439397,  0.25552234],\n",
       "         [-0.29565335,  0.25552234, -0.39015422]]),\n",
       "  array([[0., 0., 0.],\n",
       "         [0., 0., 0.],\n",
       "         [0., 0., 0.]]),\n",
       "  array([[0., 0., 0.],\n",
       "         [0., 0., 0.],\n",
       "         [0., 0., 0.]])],\n",
       " [array([[-0.45851256,  0.22443375, -0.10069483],\n",
       "         [ 0.22443375,  0.71411454, -0.5447267 ],\n",
       "         [-0.10069483, -0.5447267 , -0.25560199]]),\n",
       "  array([[0., 0., 0.],\n",
       "         [0., 0., 0.],\n",
       "         [0., 0., 0.]]),\n",
       "  array([[0., 0., 0.],\n",
       "         [0., 0., 0.],\n",
       "         [0., 0., 0.]])]]"
      ]
     },
     "execution_count": 6,
     "metadata": {},
     "output_type": "execute_result"
    }
   ],
   "source": [
    "times = [[0,H,H+1]]*n_scenarios\n",
    "gradUs = []\n",
    "\n",
    "for i in range(n_scenarios):\n",
    "    gradU = np.diag([1,-.5,-.5])\n",
    "    if i>0:\n",
    "        # Rotate\n",
    "        x = 2*np.pi*np.random.random()\n",
    "        y = 2*np.pi*np.random.random()\n",
    "        z = 2*np.pi*np.random.random()\n",
    "        Rx = np.array([[1., 0, 0],\n",
    "                      [0, np.cos(x), -np.sin(x) ],\n",
    "                      [0, np.sin(x), np.cos(x)]\n",
    "                      ])\n",
    "        Ry = np.array([[np.cos(y), 0, np.sin(y)],\n",
    "                      [0, 1, 0],\n",
    "                      [-np.sin(y), 0, np.cos(y)]\n",
    "                      ])\n",
    "        Rz = np.array([[np.cos(z),  -np.sin(z), 0],\n",
    "                      [np.sin(z), np.cos(z), 0],\n",
    "                      [0, 0, 1]\n",
    "                      ])\n",
    "        R = Rx @ Ry @ Rz\n",
    "        gradU = R @ gradU @ R.T\n",
    "    gradUs.append([gradU, np.zeros((3,3)), np.zeros((3,3))])\n",
    "gradUs"
   ]
  },
  {
   "cell_type": "code",
   "execution_count": 7,
   "id": "6db125b5",
   "metadata": {},
   "outputs": [],
   "source": [
    "for i, (time, gradU) in enumerate(zip(times, gradUs)):\n",
    "    np.savez_compressed(f\"{output_file}_{i}\", t=time, gradU=gradU)"
   ]
  },
  {
   "cell_type": "code",
   "execution_count": null,
   "id": "2172c04d",
   "metadata": {},
   "outputs": [],
   "source": []
  },
  {
   "cell_type": "code",
   "execution_count": null,
   "id": "60044f8e",
   "metadata": {},
   "outputs": [],
   "source": []
  },
  {
   "cell_type": "code",
   "execution_count": 112,
   "id": "2d4db458",
   "metadata": {},
   "outputs": [],
   "source": []
  },
  {
   "cell_type": "code",
   "execution_count": null,
   "id": "7466076b",
   "metadata": {},
   "outputs": [],
   "source": []
  }
 ],
 "metadata": {
  "kernelspec": {
   "display_name": "Python 3",
   "language": "python",
   "name": "python3"
  },
  "language_info": {
   "codemirror_mode": {
    "name": "ipython",
    "version": 3
   },
   "file_extension": ".py",
   "mimetype": "text/x-python",
   "name": "python",
   "nbconvert_exporter": "python",
   "pygments_lexer": "ipython3",
   "version": "3.7.8"
  }
 },
 "nbformat": 4,
 "nbformat_minor": 5
}
