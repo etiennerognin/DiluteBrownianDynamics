{
 "cells": [
  {
   "cell_type": "markdown",
   "id": "6cb240e2",
   "metadata": {},
   "source": [
    "# Random velocity gradient\n",
    "\n",
    "Random velocity gradient sampled from standard distribution, followed by relaxation. The velocity gradient is normalised. The Henky strain `H` is the duration of the velocity gradient event. "
   ]
  },
  {
   "cell_type": "code",
   "execution_count": 1,
   "id": "80582d2b",
   "metadata": {},
   "outputs": [],
   "source": [
    "import numpy as np\n",
    "np.random.seed(2022)\n",
    "from scipy.interpolate import interp1d\n",
    "import pywt\n",
    "\n",
    "from ipywidgets import interactive\n",
    "import ipywidgets as widgets\n",
    "\n",
    "%matplotlib inline\n",
    "import matplotlib.pyplot as plt\n",
    "plt.rcParams['figure.figsize'] = [15, 8]\n",
    "\n",
    "output_file = 'inputs/random/scenario_random'\n",
    "\n",
    "# Number of independent scenarios\n",
    "n_scenarios = 5\n",
    "\n",
    "# Henky strain\n",
    "H = 10\n",
    "\n",
    "# Relax after strain\n",
    "relax = False"
   ]
  },
  {
   "cell_type": "markdown",
   "id": "3e73d984",
   "metadata": {},
   "source": [
    "## Sample velocity gradient data"
   ]
  },
  {
   "cell_type": "code",
   "execution_count": 2,
   "id": "53e39349",
   "metadata": {},
   "outputs": [],
   "source": [
    "if relax:\n",
    "    times = [[0,H,2*H]]*n_scenarios\n",
    "else:\n",
    "    times = [[0,H]]*n_scenarios\n",
    "gradUs = []\n",
    "\n",
    "for i in range(n_scenarios):\n",
    "    gradU = np.random.standard_normal(size=(3,3))\n",
    "    gradU = gradU - (gradU[0,0] + gradU[1,1] + gradU[2,2])/3*np.eye(3)\n",
    "    if relax:\n",
    "        gradUs.append([gradU, np.zeros((3,3)), np.zeros((3,3))])\n",
    "    else:\n",
    "        gradUs.append([gradU, np.zeros((3,3))])"
   ]
  },
  {
   "cell_type": "markdown",
   "id": "fd0ada35",
   "metadata": {},
   "source": [
    "## Analyse strain"
   ]
  },
  {
   "cell_type": "code",
   "execution_count": 3,
   "id": "2d788189",
   "metadata": {},
   "outputs": [
    {
     "name": "stdout",
     "output_type": "stream",
     "text": [
      "Maximum strain rate: 1.1216058604085946\n",
      "Maximum strain rate: 1.4088412068120273\n",
      "Maximum strain rate: 1.2753193864897365\n",
      "Maximum strain rate: 1.1061703910868559\n",
      "Maximum strain rate: 1.2860439642528507\n"
     ]
    }
   ],
   "source": [
    "gradUs_norm = []\n",
    "\n",
    "for gradU in gradUs:\n",
    "\n",
    "    # Get principal values for the strain\n",
    "    D = 0.5*(gradU + np.transpose(gradU, axes=(0,2,1)))\n",
    "    strains = np.linalg.eigvalsh(D)\n",
    "    max_Wi = np.max(strains[:,2])\n",
    "    \n",
    "    # Normalize\n",
    "    gradUs_norm.append(gradU/max_Wi)\n",
    "    print(f\"Maximum strain rate: {max_Wi}\")"
   ]
  },
  {
   "cell_type": "code",
   "execution_count": 4,
   "id": "2a037b23",
   "metadata": {},
   "outputs": [
    {
     "data": {
      "text/plain": [
       "[array([[[-0.19515543, -0.24509628, -0.12418405],\n",
       "         [ 1.76950409,  0.05683793,  0.67832087],\n",
       "         [ 0.26834882,  0.48171759,  0.1383175 ]],\n",
       " \n",
       "        [[ 0.        ,  0.        ,  0.        ],\n",
       "         [ 0.        ,  0.        ,  0.        ],\n",
       "         [ 0.        ,  0.        ,  0.        ]]]),\n",
       " array([[[ 0.73719529, -0.06403361, -1.63676592],\n",
       "         [ 0.81113472, -0.6209902 , -0.61309395],\n",
       "         [ 0.72154685,  0.73391088, -0.11620509]],\n",
       " \n",
       "        [[ 0.        ,  0.        ,  0.        ],\n",
       "         [ 0.        ,  0.        ,  0.        ],\n",
       "         [ 0.        ,  0.        ,  0.        ]]]),\n",
       " array([[[ 0.19140341, -0.30058632, -0.23851709],\n",
       "         [ 0.78199353,  0.07678216, -1.15726768],\n",
       "         [-1.52189824,  0.65367855, -0.26818558]],\n",
       " \n",
       "        [[ 0.        ,  0.        ,  0.        ],\n",
       "         [ 0.        ,  0.        ,  0.        ],\n",
       "         [ 0.        ,  0.        ,  0.        ]]]),\n",
       " array([[[ 0.77457567,  0.28844456,  0.17255066],\n",
       "         [ 0.33382758, -0.37862354, -0.85141448],\n",
       "         [-1.26937199,  1.88094622, -0.39595213]],\n",
       " \n",
       "        [[ 0.        ,  0.        ,  0.        ],\n",
       "         [ 0.        ,  0.        ,  0.        ],\n",
       "         [ 0.        ,  0.        ,  0.        ]]]),\n",
       " array([[[-0.41246103,  1.42097175, -0.51376711],\n",
       "         [-0.6281327 , -0.31292459, -0.16908244],\n",
       "         [-0.73055396,  0.46618804,  0.72538562]],\n",
       " \n",
       "        [[ 0.        ,  0.        ,  0.        ],\n",
       "         [ 0.        ,  0.        ,  0.        ],\n",
       "         [ 0.        ,  0.        ,  0.        ]]])]"
      ]
     },
     "execution_count": 4,
     "metadata": {},
     "output_type": "execute_result"
    }
   ],
   "source": [
    "gradUs_norm"
   ]
  },
  {
   "cell_type": "code",
   "execution_count": 5,
   "id": "6db125b5",
   "metadata": {},
   "outputs": [],
   "source": [
    "for i, (time, gradU) in enumerate(zip(times, gradUs_norm)):\n",
    "    np.savez_compressed(f\"{output_file}_{i}\", t=time, gradU=gradU)"
   ]
  },
  {
   "cell_type": "code",
   "execution_count": null,
   "id": "2172c04d",
   "metadata": {},
   "outputs": [],
   "source": []
  },
  {
   "cell_type": "code",
   "execution_count": null,
   "id": "60044f8e",
   "metadata": {},
   "outputs": [],
   "source": []
  },
  {
   "cell_type": "code",
   "execution_count": null,
   "id": "2d4db458",
   "metadata": {},
   "outputs": [],
   "source": []
  },
  {
   "cell_type": "code",
   "execution_count": null,
   "id": "7466076b",
   "metadata": {},
   "outputs": [],
   "source": []
  }
 ],
 "metadata": {
  "kernelspec": {
   "display_name": "Python 3",
   "language": "python",
   "name": "python3"
  },
  "language_info": {
   "codemirror_mode": {
    "name": "ipython",
    "version": 3
   },
   "file_extension": ".py",
   "mimetype": "text/x-python",
   "name": "python",
   "nbconvert_exporter": "python",
   "pygments_lexer": "ipython3",
   "version": "3.7.8"
  }
 },
 "nbformat": 4,
 "nbformat_minor": 5
}
