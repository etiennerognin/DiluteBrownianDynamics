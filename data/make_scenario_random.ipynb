{
 "cells": [
  {
   "cell_type": "markdown",
   "id": "6cb240e2",
   "metadata": {},
   "source": [
    "# Random velocity gradient\n",
    "\n",
    "Random velocity gradient sampled from standard distribution, followed by relaxation. The velocity gradient is normalised. The Henky strain `H` is the duration of the velocity gradient event. "
   ]
  },
  {
   "cell_type": "code",
   "execution_count": 2,
   "id": "80582d2b",
   "metadata": {},
   "outputs": [],
   "source": [
    "import numpy as np\n",
    "from scipy.interpolate import interp1d\n",
    "import pywt\n",
    "\n",
    "from ipywidgets import interactive\n",
    "import ipywidgets as widgets\n",
    "\n",
    "%matplotlib inline\n",
    "import matplotlib.pyplot as plt\n",
    "plt.rcParams['figure.figsize'] = [15, 8]\n",
    "\n",
    "output_file = 'inputs/random/scenario_random'\n",
    "\n",
    "# Number of independent scenarios\n",
    "n_scenarios = 5\n",
    "\n",
    "# Henky strain\n",
    "H = 5"
   ]
  },
  {
   "cell_type": "markdown",
   "id": "3e73d984",
   "metadata": {},
   "source": [
    "## Sample velocity gradient data"
   ]
  },
  {
   "cell_type": "code",
   "execution_count": 18,
   "id": "53e39349",
   "metadata": {},
   "outputs": [],
   "source": [
    "times = [[0,H,H+1]]*n_scenarios\n",
    "gradUs = []\n",
    "\n",
    "for i in range(n_scenarios):\n",
    "    gradU = np.random.standard_normal(size=(3,3))\n",
    "    gradU = gradU - (gradU[0,0] + gradU[1,1] + gradU[2,2])/3*np.eye(3)\n",
    "    gradUs.append([gradU, np.zeros((3,3)), np.zeros((3,3))])"
   ]
  },
  {
   "cell_type": "markdown",
   "id": "fd0ada35",
   "metadata": {},
   "source": [
    "## Analyse strain"
   ]
  },
  {
   "cell_type": "code",
   "execution_count": 19,
   "id": "2d788189",
   "metadata": {},
   "outputs": [
    {
     "name": "stdout",
     "output_type": "stream",
     "text": [
      "Maximum strain rate: 0.815914149465935\n",
      "Maximum strain rate: 1.4525571678332805\n",
      "Maximum strain rate: 2.6058001012084366\n",
      "Maximum strain rate: 2.262828317639982\n",
      "Maximum strain rate: 2.4281588656779762\n"
     ]
    }
   ],
   "source": [
    "gradUs_norm = []\n",
    "\n",
    "for gradU in gradUs:\n",
    "\n",
    "    # Get principal values for the strain\n",
    "    D = 0.5*(gradU + np.transpose(gradU, axes=(0,2,1)))\n",
    "    strains = np.linalg.eigvalsh(D)\n",
    "    max_Wi = np.max(strains[:,2])\n",
    "    \n",
    "    # Normalize\n",
    "    gradUs_norm.append(gradU/max_Wi)\n",
    "    print(f\"Maximum strain rate: {max_Wi}\")"
   ]
  },
  {
   "cell_type": "code",
   "execution_count": 20,
   "id": "2a037b23",
   "metadata": {},
   "outputs": [
    {
     "data": {
      "text/plain": [
       "[array([[[-0.45061825, -0.59479125,  0.08743619],\n",
       "         [-0.3945834 ,  0.28403745, -1.7544757 ],\n",
       "         [-0.6253586 ,  0.26136263,  0.1665808 ]],\n",
       " \n",
       "        [[ 0.        ,  0.        ,  0.        ],\n",
       "         [ 0.        ,  0.        ,  0.        ],\n",
       "         [ 0.        ,  0.        ,  0.        ]],\n",
       " \n",
       "        [[ 0.        ,  0.        ,  0.        ],\n",
       "         [ 0.        ,  0.        ,  0.        ],\n",
       "         [ 0.        ,  0.        ,  0.        ]]]),\n",
       " array([[[-0.51956915, -0.16501923, -1.20036408],\n",
       "         [-0.07201753,  0.93067316,  0.45167008],\n",
       "         [-0.47758176, -0.10524652, -0.41110401]],\n",
       " \n",
       "        [[ 0.        ,  0.        ,  0.        ],\n",
       "         [ 0.        ,  0.        ,  0.        ],\n",
       "         [ 0.        ,  0.        ,  0.        ]],\n",
       " \n",
       "        [[ 0.        ,  0.        ,  0.        ],\n",
       "         [ 0.        ,  0.        ,  0.        ],\n",
       "         [ 0.        ,  0.        ,  0.        ]]]),\n",
       " array([[[-0.53407954,  0.00616103,  0.39972988],\n",
       "         [-0.85612377,  0.8082791 ,  0.39779355],\n",
       "         [-0.41910745,  0.21091652, -0.27419956]],\n",
       " \n",
       "        [[ 0.        ,  0.        ,  0.        ],\n",
       "         [ 0.        ,  0.        ,  0.        ],\n",
       "         [ 0.        ,  0.        ,  0.        ]],\n",
       " \n",
       "        [[ 0.        ,  0.        ,  0.        ],\n",
       "         [ 0.        ,  0.        ,  0.        ],\n",
       "         [ 0.        ,  0.        ,  0.        ]]]),\n",
       " array([[[-0.45413043,  0.75576533,  0.381041  ],\n",
       "         [ 0.44070807,  0.42228989,  0.25919595],\n",
       "         [-0.03305654,  0.71858931,  0.03184055]],\n",
       " \n",
       "        [[ 0.        ,  0.        ,  0.        ],\n",
       "         [ 0.        ,  0.        ,  0.        ],\n",
       "         [ 0.        ,  0.        ,  0.        ]],\n",
       " \n",
       "        [[ 0.        ,  0.        ,  0.        ],\n",
       "         [ 0.        ,  0.        ,  0.        ],\n",
       "         [ 0.        ,  0.        ,  0.        ]]]),\n",
       " array([[[ 0.12044132,  0.20939962,  0.01744052],\n",
       "         [ 0.91766431,  0.33126096, -0.30639881],\n",
       "         [-0.11725399, -0.96500941, -0.45170228]],\n",
       " \n",
       "        [[ 0.        ,  0.        ,  0.        ],\n",
       "         [ 0.        ,  0.        ,  0.        ],\n",
       "         [ 0.        ,  0.        ,  0.        ]],\n",
       " \n",
       "        [[ 0.        ,  0.        ,  0.        ],\n",
       "         [ 0.        ,  0.        ,  0.        ],\n",
       "         [ 0.        ,  0.        ,  0.        ]]])]"
      ]
     },
     "execution_count": 20,
     "metadata": {},
     "output_type": "execute_result"
    }
   ],
   "source": [
    "gradUs_norm"
   ]
  },
  {
   "cell_type": "code",
   "execution_count": 22,
   "id": "6db125b5",
   "metadata": {},
   "outputs": [],
   "source": [
    "for i, (time, gradU) in enumerate(zip(times, gradUs_norm)):\n",
    "    np.savez_compressed(f\"{output_file}_{i}\", t=time, gradU=gradU)"
   ]
  },
  {
   "cell_type": "code",
   "execution_count": null,
   "id": "2172c04d",
   "metadata": {},
   "outputs": [],
   "source": []
  },
  {
   "cell_type": "code",
   "execution_count": null,
   "id": "60044f8e",
   "metadata": {},
   "outputs": [],
   "source": []
  },
  {
   "cell_type": "code",
   "execution_count": 112,
   "id": "2d4db458",
   "metadata": {},
   "outputs": [],
   "source": []
  },
  {
   "cell_type": "code",
   "execution_count": null,
   "id": "7466076b",
   "metadata": {},
   "outputs": [],
   "source": []
  }
 ],
 "metadata": {
  "kernelspec": {
   "display_name": "Python 3",
   "language": "python",
   "name": "python3"
  },
  "language_info": {
   "codemirror_mode": {
    "name": "ipython",
    "version": 3
   },
   "file_extension": ".py",
   "mimetype": "text/x-python",
   "name": "python",
   "nbconvert_exporter": "python",
   "pygments_lexer": "ipython3",
   "version": "3.7.8"
  }
 },
 "nbformat": 4,
 "nbformat_minor": 5
}
