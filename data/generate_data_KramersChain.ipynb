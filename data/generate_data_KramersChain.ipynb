{
 "cells": [
  {
   "cell_type": "markdown",
   "id": "6cb240e2",
   "metadata": {},
   "source": [
    "# Generate data using Kramers model\n",
    "\n",
    "The script will first draw a distribution of molecules and equilibrate. Then for each scenario, simulate, and save in individual files.\n",
    "\n",
    "For Kramers chain, we need to do an additional normalizing step of flow scenarios, because the model itself is normalized by the segmental diffusion (not the longest relaxation time). Renormalization is given by (Doyle et al. 1997):\n",
    "\n",
    "$$\n",
    "Wi = 0.0142 N^2 Pe\n",
    "$$\n",
    "\n",
    "In addition, we are primarily interested in mechano-chemistry application, where typical Weissenberg numbers are $\\mathcal{O}(100)$. Therefore we choose to have $Wi_\\max = 1000$ in simulated flows.\n"
   ]
  },
  {
   "cell_type": "code",
   "execution_count": 1,
   "id": "e200af8f",
   "metadata": {},
   "outputs": [],
   "source": [
    "import numpy as np\n",
    "from dilutebrowniandynamics.simulate import simulate_batch\n",
    "from dilutebrowniandynamics.molecules.adaptive_Kramers_chain import AdaptiveKramersChain\n",
    "from dilutebrowniandynamics.molecules.Kramers_chain import KramersChain\n",
    "\n",
    "from scipy.interpolate import interp1d\n",
    "\n",
    "from ipywidgets import interactive, fixed\n",
    "import ipywidgets as widgets\n",
    "\n",
    "%matplotlib inline\n",
    "import matplotlib.pyplot as plt\n",
    "plt.rcParams['figure.figsize'] = [15, 8]\n",
    "\n",
    "import json\n",
    "import datetime\n",
    "from copy import deepcopy"
   ]
  },
  {
   "cell_type": "markdown",
   "id": "908a42b7",
   "metadata": {},
   "source": [
    "## Parameters definition"
   ]
  },
  {
   "cell_type": "code",
   "execution_count": 2,
   "id": "09eb77c4",
   "metadata": {},
   "outputs": [],
   "source": [
    "Wi_max = 1000                       # Peak Weissenberg number in simulations\n",
    "n_links = 1000                       # Number of segments in the Kramers chain\n",
    "n_ensemble = 100                   # Number of molecules to simulate\n",
    "n_proc = 16                         # Number of processor cores to use\n",
    "seq = np.random.SeedSequence(2022)  # Random number seed\n",
    "polydispersed = True\n",
    "\n",
    "# Output folder\n",
    "save_folder = 'outputs/Kramers'\n",
    "                    \n",
    "# Name: file\n",
    "scenarios = {\n",
    "    'inkjet_0_PD': 'inputs/inkjet/scenario_inkjet_0.npz',\n",
    "    'inkjet_1_PD': 'inputs/inkjet/scenario_inkjet_1.npz',\n",
    "    'inkjet_2_PD': 'inputs/inkjet/scenario_inkjet_2.npz',\n",
    "    'inkjet_3_PD': 'inputs/inkjet/scenario_inkjet_3.npz',\n",
    "    'inkjet_4_PD': 'inputs/inkjet/scenario_inkjet_4.npz',\n",
    "#    'contraction_0_PD': 'inputs/contraction/scenario_contraction_0.npz',\n",
    "#    'contraction_1_PD': 'inputs/contraction/scenario_contraction_1.npz',\n",
    "#    'contraction_2_PD': 'inputs/contraction/scenario_contraction_2.npz',\n",
    "#    'contraction_3_PD': 'inputs/contraction/scenario_contraction_3.npz',\n",
    "#    'contraction_4_PD': 'inputs/contraction/scenario_contraction_4.npz',\n",
    "#    'contraction_5_PD': 'inputs/contraction/scenario_contraction_5.npz',\n",
    "#    'contraction_6_PD': 'inputs/contraction/scenario_contraction_6.npz',\n",
    "#    'elongation_0_noBF': 'inputs/elongation/scenario_elongation_0.npz',\n",
    "#    'random_0': 'inputs/random/scenario_random_0.npz',\n",
    "#    'random_1': 'inputs/random/scenario_random_1.npz',\n",
    "#    'random_2': 'inputs/random/scenario_random_2.npz',\n",
    "#    'random_3': 'inputs/random/scenario_random_3.npz',\n",
    "#    'random_4': 'inputs/random/scenario_random_4.npz',\n",
    "#    'sonication_0_PD': 'inputs/sonication/scenario_sonication_0.npz',\n",
    "#    'sonication_1_PD': 'inputs/sonication/scenario_sonication_1.npz',\n",
    "#    'sonication_2_PD': 'inputs/sonication/scenario_sonication_2.npz',\n",
    "#    'sonication_3_PD': 'inputs/sonication/scenario_sonication_3.npz',\n",
    "#    'sonication_4_PD': 'inputs/sonication/scenario_sonication_4.npz',\n",
    "    'turbulence_0_PD': 'inputs/turbulence/scenario_turbulence_0.npz',\n",
    "    'turbulence_1_PD': 'inputs/turbulence/scenario_turbulence_1.npz',\n",
    "    'turbulence_2_PD': 'inputs/turbulence/scenario_turbulence_2.npz',\n",
    "    'turbulence_3_PD': 'inputs/turbulence/scenario_turbulence_3.npz',\n",
    "    'turbulence_4_PD': 'inputs/turbulence/scenario_turbulence_4.npz',\n",
    "}"
   ]
  },
  {
   "cell_type": "markdown",
   "id": "ba9d6bb0",
   "metadata": {},
   "source": [
    "## Initialise molecules\n",
    "We call the `from_normal_distribution` constructor. Note that we pass a random seed (`SeedSequence` object) to ensure thread-safe random number generation and reproducible results."
   ]
  },
  {
   "cell_type": "code",
   "execution_count": 3,
   "id": "9bc61b6c",
   "metadata": {},
   "outputs": [
    {
     "name": "stdout",
     "output_type": "stream",
     "text": [
      "1.0098025630066207\n"
     ]
    },
    {
     "data": {
      "image/png": "[encoded data removed]",
      "text/plain": [
       "<Figure size 1080x576 with 1 Axes>"
      ]
     },
     "metadata": {
      "needs_background": "light"
     },
     "output_type": "display_data"
    }
   ],
   "source": [
    "\n",
    "seeds = seq.spawn(n_ensemble)\n",
    "\n",
    "if polydispersed:\n",
    "\n",
    "    # Dispersity\n",
    "    Ns = np.random.lognormal(mean=np.log(n_links), sigma=0.11, size=n_ensemble)  # 0.215\n",
    "    Ns = Ns.astype(int)\n",
    "\n",
    "    PDI = np.average(Ns**2)/np.average(Ns)**2\n",
    "    print(PDI)\n",
    "\n",
    "    plt.hist(Ns, 100)\n",
    "    \n",
    "    molecules = [KramersChain.from_normal_distribution(N, seed) for N, seed in zip(Ns, seeds)]\n",
    "\n",
    "else:\n",
    "    # Starting vectors\n",
    "    molecules = [AdaptiveKramersChain.from_normal_distribution(n_links, seed)\n",
    "                 for seed in seeds]"
   ]
  },
  {
   "cell_type": "markdown",
   "id": "d04bfbf8",
   "metadata": {},
   "source": [
    "## Initial relaxation\n",
    "Molecular dynamics simulations are usually preceeded by a relaxation/thermalisation step, which in our case is just a simulation with no velocity gradient."
   ]
  },
  {
   "cell_type": "code",
   "execution_count": 4,
   "id": "98624d39",
   "metadata": {},
   "outputs": [
    {
     "name": "stdout",
     "output_type": "stream",
     "text": [
      "Number of time steps: 1000\n",
      "Physical time to compute: 10.0\n",
      "Calculation started on 16 cores.\n"
     ]
    },
    {
     "name": "stderr",
     "output_type": "stream",
     "text": [
      "100%|██████████| 100/100 [00:31<00:00,  3.21it/s]\n"
     ]
    }
   ],
   "source": [
    "gradU = np.zeros((3, 3))\n",
    "dt = .01                                    # Time step value (dimensionless)\n",
    "n_steps = 1000       # Equilibriate at bead scale.\n",
    "print(f\"Number of time steps: {n_steps}\")\n",
    "write_interval = 100   # Record frequency (in number of time steps)\n",
    "observables, molecules_init = simulate_batch(molecules, gradU, dt, n_steps, \n",
    "                                             write_interval=write_interval, \n",
    "                                             no_average=('g_max', 'i_max', 'g_13', 'g_12', 'g_23'),\n",
    "                                             n_proc=n_proc)"
   ]
  },
  {
   "cell_type": "markdown",
   "id": "8813dfad",
   "metadata": {},
   "source": [
    "We can investigate the dumbbell distribution in a number of ways. Let's look at time series and histograms."
   ]
  },
  {
   "cell_type": "code",
   "execution_count": 5,
   "id": "923696ff",
   "metadata": {},
   "outputs": [
    {
     "data": {
      "image/png": "[encoded data removed]",
      "text/plain": [
       "<Figure size 1080x360 with 2 Axes>"
      ]
     },
     "metadata": {
      "needs_background": "light"
     },
     "output_type": "display_data"
    }
   ],
   "source": [
    "t = np.arange(n_steps//write_interval)*dt*write_interval\n",
    "A = observables['A_average']\n",
    "trA = np.trace(A, axis1=1, axis2=2)\n",
    "REEs = np.array([molecule.REE for molecule in molecules])\n",
    "\n",
    "import matplotlib.pyplot as plt\n",
    "plt.rcParams['figure.figsize'] = [15, 5]\n",
    "fig, ax = plt.subplots(nrows=1, ncols=2)\n",
    "ax[0].plot(t, trA, label='tr(A)')\n",
    "ax[0].plot(t, A[:,0,0], label='Axx')\n",
    "ax[0].plot(t, A[:,0,1], label='Axy')\n",
    "ax[0].plot(t, A[:,0,2], label='Axz')\n",
    "ax[0].plot(t, A[:,1,1], label='Ayy')\n",
    "ax[0].plot(t, A[:,1,2], label='Ayz')\n",
    "ax[0].plot(t, A[:,2,2], label='Azz')\n",
    "ax[0].legend()\n",
    "ax[0].set_xlabel('Time')\n",
    "ax[0].set_ylabel('Value')\n",
    "ax[0].set_title('Time series of the conformation tensor')\n",
    "bins = int(np.sqrt(n_ensemble))\n",
    "ax[1].hist([REEs[:,0], REEs[:,1], REEs[:,2]], bins=bins, density=True, label=['x','y','z'])\n",
    "ax[1].legend()\n",
    "ax[1].set_title('Final end-to-end vectors distribution')\n",
    "plt.show()"
   ]
  },
  {
   "cell_type": "code",
   "execution_count": null,
   "id": "a106364a",
   "metadata": {},
   "outputs": [],
   "source": []
  },
  {
   "cell_type": "markdown",
   "id": "e2067c04",
   "metadata": {},
   "source": [
    "## Simulations\n",
    "\n",
    "Now let's simulate each scenario. We will use the interpolator `scipy.interpolate.interp1d` with the property `kind=previous` for the sudden elongation and random tensor, `kind=linear` for realistic flows."
   ]
  },
  {
   "cell_type": "code",
   "execution_count": null,
   "id": "1b821b29",
   "metadata": {},
   "outputs": [
    {
     "name": "stdout",
     "output_type": "stream",
     "text": [
      "Simulate inkjet_0_PD\n",
      "--------------------\n",
      "Number of time steps: 30532\n",
      "Number of recorded steps: 305\n",
      "Physical time to compute: 305.32\n",
      "Calculation started on 16 cores.\n"
     ]
    },
    {
     "name": "stderr",
     "output_type": "stream",
     "text": [
      "100%|██████████| 100/100 [18:43<00:00, 11.23s/it] "
     ]
    },
    {
     "name": "stdout",
     "output_type": "stream",
     "text": [
      "Simulate inkjet_1_PD\n",
      "--------------------\n",
      "Number of time steps: 40996\n",
      "Number of recorded steps: 409\n",
      "Physical time to compute: 409.96000000000004\n"
     ]
    },
    {
     "name": "stderr",
     "output_type": "stream",
     "text": [
      "\n"
     ]
    },
    {
     "name": "stdout",
     "output_type": "stream",
     "text": [
      "Calculation started on 16 cores.\n"
     ]
    },
    {
     "name": "stderr",
     "output_type": "stream",
     "text": [
      "100%|██████████| 100/100 [20:05<00:00, 12.05s/it] \n"
     ]
    },
    {
     "name": "stdout",
     "output_type": "stream",
     "text": [
      "Simulate inkjet_2_PD\n",
      "--------------------\n",
      "Number of time steps: 33110\n",
      "Number of recorded steps: 331\n",
      "Physical time to compute: 331.1\n",
      "Calculation started on 16 cores.\n"
     ]
    },
    {
     "name": "stderr",
     "output_type": "stream",
     "text": [
      "100%|██████████| 100/100 [15:59<00:00,  9.59s/it] \n"
     ]
    },
    {
     "name": "stdout",
     "output_type": "stream",
     "text": [
      "Simulate inkjet_3_PD\n",
      "--------------------\n",
      "Number of time steps: 32630\n",
      "Number of recorded steps: 326\n",
      "Physical time to compute: 326.3\n",
      "Calculation started on 16 cores.\n"
     ]
    },
    {
     "name": "stderr",
     "output_type": "stream",
     "text": [
      "100%|██████████| 100/100 [21:43<00:00, 13.03s/it] "
     ]
    },
    {
     "name": "stdout",
     "output_type": "stream",
     "text": [
      "Simulate inkjet_4_PD\n",
      "--------------------\n",
      "Number of time steps: 39176\n",
      "Number of recorded steps: 391\n",
      "Physical time to compute: 391.76\n"
     ]
    },
    {
     "name": "stderr",
     "output_type": "stream",
     "text": [
      "\n"
     ]
    },
    {
     "name": "stdout",
     "output_type": "stream",
     "text": [
      "Calculation started on 16 cores.\n"
     ]
    },
    {
     "name": "stderr",
     "output_type": "stream",
     "text": [
      "100%|██████████| 100/100 [20:01<00:00, 12.01s/it] \n"
     ]
    },
    {
     "name": "stdout",
     "output_type": "stream",
     "text": [
      "Simulate turbulence_0_PD\n",
      "------------------------\n",
      "Number of time steps: 69685\n",
      "Number of recorded steps: 696\n",
      "Physical time to compute: 696.85\n",
      "Calculation started on 16 cores.\n"
     ]
    },
    {
     "name": "stderr",
     "output_type": "stream",
     "text": [
      "100%|██████████| 100/100 [5:31:21<00:00, 198.82s/it] \n"
     ]
    },
    {
     "name": "stdout",
     "output_type": "stream",
     "text": [
      "Simulate turbulence_1_PD\n",
      "------------------------\n",
      "Number of time steps: 69685\n",
      "Number of recorded steps: 696\n",
      "Physical time to compute: 696.85\n",
      "Calculation started on 16 cores.\n"
     ]
    },
    {
     "name": "stderr",
     "output_type": "stream",
     "text": [
      "100%|██████████| 100/100 [13:44:02<00:00, 494.42s/it]  \n"
     ]
    },
    {
     "name": "stdout",
     "output_type": "stream",
     "text": [
      "Simulate turbulence_2_PD\n",
      "------------------------\n",
      "Number of time steps: 69685\n",
      "Number of recorded steps: 696\n",
      "Physical time to compute: 696.85\n",
      "Calculation started on 16 cores.\n"
     ]
    },
    {
     "name": "stderr",
     "output_type": "stream",
     "text": [
      "100%|██████████| 100/100 [43:47:00<00:00, 1576.21s/it]  \n"
     ]
    },
    {
     "name": "stdout",
     "output_type": "stream",
     "text": [
      "Simulate turbulence_3_PD\n",
      "------------------------\n",
      "Number of time steps: 69685\n",
      "Number of recorded steps: 696\n",
      "Physical time to compute: 696.85\n",
      "Calculation started on 16 cores.\n"
     ]
    },
    {
     "name": "stderr",
     "output_type": "stream",
     "text": [
      " 22%|██▏       | 22/100 [9:14:53<41:58:35, 1937.37s/it] "
     ]
    }
   ],
   "source": [
    "dt = 0.01\n",
    "write_interval = 100\n",
    "\n",
    "\n",
    "for name, file in scenarios.items():\n",
    "    \n",
    "    # Rescale factor\n",
    "    # --------------\n",
    "    f = Wi_max/(0.0142*n_links**2)\n",
    "\n",
    "    # Build scenario\n",
    "    # --------------\n",
    "    scenario = np.load(file)\n",
    "    t_base = scenario['t']\n",
    "    t_base = t_base/f\n",
    "    gradU_base = scenario['gradU']*f\n",
    "    if name.startswith('elongation') or name.startswith('random'):\n",
    "        kind='previous'\n",
    "    else:\n",
    "        kind='linear'\n",
    "    gradU = interp1d(t_base, gradU_base, axis=0, kind=kind, bounds_error=False, \n",
    "                     fill_value=(gradU_base[0], gradU_base[-1]), assume_sorted=True)\n",
    "    \n",
    "    # Simulate\n",
    "    # --------\n",
    "    print(f\"Simulate {name}\")\n",
    "    print(f\"---------{'-'*len(name)}\")\n",
    "    \n",
    "    n_steps = int(t_base[-1]/dt)\n",
    "    #write_interval = max(1, 10**(int(np.log10(n_steps))-3))\n",
    "    \n",
    "    print(f\"Number of time steps: {n_steps}\")\n",
    "    print(f\"Number of recorded steps: {n_steps//write_interval}\")\n",
    "    pre = datetime.datetime.now()\n",
    "    \n",
    "    molecules = deepcopy(molecules_init)\n",
    "    observables, _ = simulate_batch(molecules, gradU, dt, n_steps, write_interval=write_interval,\n",
    "                                    no_average=('g_max', 'i_max', 'g_13', 'g_12', 'g_23'),\n",
    "                                    n_proc=n_proc)\n",
    "    \n",
    "    observables['t'] = np.arange(n_steps//write_interval)*dt*write_interval\n",
    "    observables['gradU'] = gradU(observables['t'])\n",
    "    \n",
    "    \n",
    "    # Save\n",
    "    # ----\n",
    "\n",
    "    params = {'model': molecules[0].__class__.__name__,\n",
    "              'n_links': n_links,\n",
    "              'n_ensemble': n_ensemble,\n",
    "              'dt': dt,\n",
    "              'write_interval': write_interval,\n",
    "              'n_proc': n_proc,\n",
    "              'compute date': datetime.datetime.now().strftime(\"%Y-%m-%d %H:%M:%S\"),\n",
    "              'compute cost': str(datetime.datetime.now() - pre)\n",
    "              }\n",
    "\n",
    "    np.savez_compressed(f\"{save_folder}/{name}_Wi{Wi_max}_nlinks{n_links}_nmol{n_ensemble}\", **observables)\n",
    "    json.dump(params, open( f\"{save_folder}/{name}_Wi{Wi_max}_nlinks{n_links}_nmol{n_ensemble}.json\", 'w' ) )"
   ]
  },
  {
   "cell_type": "markdown",
   "id": "f230e4a6",
   "metadata": {},
   "source": [
    "## Inspect"
   ]
  },
  {
   "cell_type": "raw",
   "id": "7a96cd27",
   "metadata": {},
   "source": [
    "def inspect(scenario, line, show_std, show_N2):\n",
    "    t = simulation_results[scenario]['t']\n",
    "    obs = simulation_results[scenario]\n",
    "    \n",
    "    plt.rcParams['figure.figsize'] = [15, 15]\n",
    "    figure, ax = plt.subplots(nrows=4)\n",
    "    \n",
    "    ax[0].plot(t, obs['A_average'][:,line,0], c='#0c2c84', linewidth=2, label='ix')\n",
    "    ax[0].plot(t, obs['A_average'][:,line,1], c='#1d91c0', linewidth=2, label='iy')\n",
    "    ax[0].plot(t, obs['A_average'][:,line,2], c='#7fcdbb', linewidth=2, label='iz')    \n",
    "    if show_std:\n",
    "        ax[0].fill_between(t, obs['A_average'][:,line,0] - obs['A_std'][:,line,0],\n",
    "                       obs['A_average'][:,line,0] + obs['A_std'][:,line,0],\n",
    "                       label='sigma ix', alpha=0.1)\n",
    "        ax[0].fill_between(t, obs['A_average'][:,line,1] - obs['A_std'][:,line,1],\n",
    "                       obs['A_average'][:,line,1] + obs['A_std'][:,line,1],\n",
    "                       label='sigma iy', alpha=0.1)\n",
    "        ax[0].fill_between(t, obs['A_average'][:,line,2] - obs['A_std'][:,line,2],\n",
    "                       obs['A_average'][:,line,2] + obs['A_std'][:,line,2],\n",
    "                       label='sigma iz', alpha=0.1)\n",
    "    ax[0].set_title('Conformation tensor')\n",
    "    ax[0].legend()\n",
    "    \n",
    "    ax[1].semilogy(t, obs['A_average'][:,0,0]+obs['A_average'][:,1,1]+obs['A_average'][:,2,2], c='#0c2c84', linewidth=2, label='Tr')\n",
    "    if show_N2:\n",
    "        ax[1].axhline(n_links**2, ls='--', label='$N^2$')\n",
    "        ax[1].axhline(n_links**1.5, ls=':', label='$N^{1.5}$')\n",
    "        ax[1].axhline(n_links, label='$N$')\n",
    "        ax[1].legend()\n",
    "    ax[1].set_title('Trace conformation tensor')\n",
    "    \n",
    "    \n",
    "\n",
    "    ax[2].plot(t, obs['S_average'][:,line,0], c='#0c2c84', linewidth=2, label='ix')\n",
    "    ax[2].plot(t, obs['S_average'][:,line,1], c='#1d91c0', linewidth=2, label='iy')\n",
    "    ax[2].plot(t, obs['S_average'][:,line,2], c='#7fcdbb', linewidth=2, label='iz')\n",
    "    \n",
    "    if show_std:\n",
    "        ax[2].fill_between(t, obs['S_average'][:,line,0] - obs['S_std'][:,line,0],\n",
    "                       obs['S_average'][:,line,0] + obs['S_std'][:,line,0],\n",
    "                       label='sigma ix', alpha=0.1)\n",
    "        ax[2].fill_between(t, obs['S_average'][:,line,1] - obs['S_std'][:,line,1],\n",
    "                       obs['S_average'][:,line,1] + obs['S_std'][:,line,1],\n",
    "                       label='sigma iy', alpha=0.1)\n",
    "        ax[2].fill_between(t, obs['S_average'][:,line,2] - obs['S_std'][:,line,2],\n",
    "                       obs['S_average'][:,line,2] + obs['S_std'][:,line,2],\n",
    "                       label='sigma iz', alpha=0.1)\n",
    "    ax[2].set_title('Stress tensor')\n",
    "    \n",
    "    ax[3].plot(t, obs['gradU'][:,line,0], c='#0c2c84', linewidth=2, label='ix')\n",
    "    ax[3].plot(t, obs['gradU'][:,line,1], c='#1d91c0', linewidth=2, label='iy')\n",
    "    ax[3].plot(t, obs['gradU'][:,line,2], c='#7fcdbb', linewidth=2, label='iz')\n",
    "    ax[3].set_title('Grad(U) tensor')\n",
    "    \n",
    "    plt.show()\n",
    "\n",
    "\n",
    "w = interactive(inspect, scenario=widgets.Dropdown(\n",
    "                        options=list(zip(scenarios.keys(), range(len(scenarios)))),\n",
    "                        value=0,\n",
    "                        description='Scenario:',\n",
    "                        disabled=False\n",
    "                    ),\n",
    "                    line=widgets.Dropdown(\n",
    "                        options=[('xx, xy, xz', 0),('yx, yy, yz', 1),('zx, zy, zz', 2)],\n",
    "                        value=0,\n",
    "                        description='Line:',\n",
    "                        disabled=False\n",
    "                    ),\n",
    "                    show_std=widgets.Checkbox(\n",
    "                        value=False,\n",
    "                        description='Show standard deviation',\n",
    "                        disabled=False\n",
    "                    ),\n",
    "                    show_N2=widgets.Checkbox(\n",
    "                        value=False,\n",
    "                        description='Show coil-stretch transistion',\n",
    "                        disabled=False\n",
    "                    )\n",
    "               )\n",
    "w"
   ]
  },
  {
   "cell_type": "code",
   "execution_count": null,
   "id": "a88057e4",
   "metadata": {},
   "outputs": [],
   "source": []
  },
  {
   "cell_type": "code",
   "execution_count": null,
   "id": "0b3c4b2f",
   "metadata": {},
   "outputs": [],
   "source": []
  }
 ],
 "metadata": {
  "kernelspec": {
   "display_name": "Python 3",
   "language": "python",
   "name": "python3"
  },
  "language_info": {
   "codemirror_mode": {
    "name": "ipython",
    "version": 3
   },
   "file_extension": ".py",
   "mimetype": "text/x-python",
   "name": "python",
   "nbconvert_exporter": "python",
   "pygments_lexer": "ipython3",
   "version": "3.7.8"
  }
 },
 "nbformat": 4,
 "nbformat_minor": 5
}
