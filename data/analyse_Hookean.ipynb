{
 "cells": [
  {
   "cell_type": "markdown",
   "id": "2707231d-094d-491c-818d-babb870f3768",
   "metadata": {},
   "source": [
    "# Analyse Hookean model\n"
   ]
  },
  {
   "cell_type": "code",
   "execution_count": 1,
   "id": "a3a78a28-dc84-49f4-a0be-e88c33e0b69c",
   "metadata": {},
   "outputs": [],
   "source": [
    "import numpy as np\n",
    "from matsindy.feature_library import FeatureLibrary"
   ]
  },
  {
   "cell_type": "markdown",
   "id": "d4cd1c61",
   "metadata": {},
   "source": [
    "## Datasets selection"
   ]
  },
  {
   "cell_type": "code",
   "execution_count": 2,
   "id": "96801b73",
   "metadata": {},
   "outputs": [],
   "source": [
    "# Name: file\n",
    "dataset_files = {\n",
    "    'random_0_n1000': 'outputs/Hookean/random_0_n1000.npz',\n",
    "    'random_2_n1000': 'outputs/Hookean/random_2_n1000.npz'\n",
    "}"
   ]
  },
  {
   "cell_type": "code",
   "execution_count": 38,
   "id": "5650ea3a",
   "metadata": {},
   "outputs": [],
   "source": [
    "# Load data\n",
    "dataset = {}\n",
    "for name, file in dataset_files.items():\n",
    "    with np.load(file, allow_pickle=True) as data:\n",
    "        temp = dict(data)\n",
    "        # Rename variables\n",
    "        temp['S'] = temp.pop('S_average')\n",
    "        temp['A'] = temp.pop('A_average')\n",
    "        temp['∇U'] = temp.pop('gradU')\n",
    "        temp['∇Uᵀ'] = np.transpose(temp['∇U'], axes=(0, 2, 1))\n",
    "        # Save\n",
    "        dataset[name] = temp"
   ]
  },
  {
   "cell_type": "markdown",
   "id": "d105394c",
   "metadata": {},
   "source": [
    "## Make library of features"
   ]
  },
  {
   "cell_type": "markdown",
   "id": "e527a163-89b2-44c8-898b-202cf8e25aa6",
   "metadata": {},
   "source": [
    "Matrix libraries will take data in the form of a dictionary and access the variables using their name. Therefore we need to specify which names we want to involve in the library by defining `variable_names`. Another useful parameter is the `transpose_map` dictionary where we write information about the transpose of the variables. In this dictionary, a key is a variable name of the dataset, and the value is:\n",
    "- Same name if the variable is symmetric;\n",
    "- Same name with a leading `-` if the variable is skew;\n",
    "- The name of the transpose if it is present in the dataset;\n",
    "- `None` otherwise.\n",
    "\n",
    "Here we will be using the stress `'S'` which is symmetric, and both the velocity gradient `'∇U'` and its transposed `'∇Uᵀ'`."
   ]
  },
  {
   "cell_type": "code",
   "execution_count": 30,
   "id": "b2945e1d-ae76-4a2c-84d5-e6dc3903122e",
   "metadata": {},
   "outputs": [],
   "source": [
    "variable_names = {'S', '∇U', '∇Uᵀ'}\n",
    "transpose_map = {'S':'S', '∇U':'∇Uᵀ', '∇Uᵀ':'∇U'}"
   ]
  },
  {
   "cell_type": "markdown",
   "id": "0a51758a-556b-46d1-8fc4-e3fe051eb85e",
   "metadata": {},
   "source": [
    "Now we can create a new library containing polynomial terms by calling `from_polynomial_matrices`. We need to provide: \n",
    "1. `n_terms`: number of mutliplication terms.\n",
    "2. `intercept`: include the identity matrix as a feature.\n",
    "3. `symmetry`: symmetry property of the feature. Here we want only symmetric features."
   ]
  },
  {
   "cell_type": "code",
   "execution_count": 31,
   "id": "c38eedce-3dfd-4c37-baee-6009df155290",
   "metadata": {},
   "outputs": [],
   "source": [
    "library = FeatureLibrary.from_polynomial_matrices(variable_names=variable_names, \n",
    "                                                  transpose_map=transpose_map, \n",
    "                                                  n_terms=4, intercept=True, symmetry='symmetric')\n",
    "#library"
   ]
  },
  {
   "cell_type": "markdown",
   "id": "1bbe4722-c2fc-4fe8-a042-14c73addb7b2",
   "metadata": {},
   "source": [
    "We will also make a scalar library which returns the trace of these polynomial terms. Note that trivially equal features have been removed."
   ]
  },
  {
   "cell_type": "code",
   "execution_count": 32,
   "id": "87283fe0-f362-4820-a8b0-c83934dee9a8",
   "metadata": {},
   "outputs": [],
   "source": [
    "library_trace = FeatureLibrary.from_polynomial_traces(variable_names, transpose_map, n_terms=4, intercept=False)\n",
    "#library_trace"
   ]
  },
  {
   "cell_type": "markdown",
   "id": "1009b8da-d1af-4fa3-9a1e-b4dfd723f9cc",
   "metadata": {},
   "source": [
    "Before we go on, we will remove `tr(∇U)` from the library as we expect this should be null from imcompressibility assumption."
   ]
  },
  {
   "cell_type": "code",
   "execution_count": 33,
   "id": "ed049caa-551b-45a0-857f-42539e9f158c",
   "metadata": {},
   "outputs": [
    {
     "data": {
      "text/plain": [
       "Type of feature output: scalar\n",
       "Variables names: {'S', '∇U', '∇Uᵀ'}\n",
       "Variables transpose map: {'S': 'S', '∇U': '∇Uᵀ', '∇Uᵀ': '∇U'}\n",
       "Number of feature_functions: 27\n",
       "(0)\ttr(S)\n",
       "(1)\ttr(S∘S)\n",
       "(2)\ttr(S∘∇U)\n",
       "(3)\ttr(∇U∘∇U)\n",
       "(4)\ttr(∇U∘∇Uᵀ)\n",
       "(5)\ttr(S∘S∘S)\n",
       "(6)\ttr(S∘S∘∇U)\n",
       "(7)\ttr(S∘∇U∘∇U)\n",
       "(8)\ttr(S∘∇U∘∇Uᵀ)\n",
       "(9)\ttr(S∘∇Uᵀ∘∇U)\n",
       "(10)\ttr(∇U∘∇U∘∇U)\n",
       "(11)\ttr(∇U∘∇U∘∇Uᵀ)\n",
       "(12)\ttr(S∘S∘S∘S)\n",
       "(13)\ttr(S∘S∘S∘∇U)\n",
       "(14)\ttr(S∘S∘∇U∘∇U)\n",
       "(15)\ttr(S∘S∘∇U∘∇Uᵀ)\n",
       "(16)\ttr(S∘S∘∇Uᵀ∘∇U)\n",
       "(17)\ttr(S∘∇U∘S∘∇U)\n",
       "(18)\ttr(S∘∇U∘S∘∇Uᵀ)\n",
       "(19)\ttr(S∘∇U∘∇U∘∇U)\n",
       "(20)\ttr(S∘∇U∘∇U∘∇Uᵀ)\n",
       "(21)\ttr(S∘∇U∘∇Uᵀ∘∇U)\n",
       "(22)\ttr(S∘∇Uᵀ∘∇U∘∇U)\n",
       "(23)\ttr(∇U∘∇U∘∇U∘∇U)\n",
       "(24)\ttr(∇U∘∇U∘∇U∘∇Uᵀ)\n",
       "(25)\ttr(∇U∘∇U∘∇Uᵀ∘∇Uᵀ)\n",
       "(26)\ttr(∇U∘∇Uᵀ∘∇U∘∇Uᵀ)"
      ]
     },
     "execution_count": 33,
     "metadata": {},
     "output_type": "execute_result"
    }
   ],
   "source": [
    "library_trace.remove_by_name('tr(∇U)')"
   ]
  },
  {
   "cell_type": "markdown",
   "id": "faa6e6a2-ebc4-4ac7-8cf4-a340b32b67e5",
   "metadata": {},
   "source": [
    "Next we will further increase the complexity by 'tensorifying' the library with itself."
   ]
  },
  {
   "cell_type": "code",
   "execution_count": 34,
   "id": "23f539f1-d862-4875-8768-356b8fdfada5",
   "metadata": {},
   "outputs": [],
   "source": [
    "library_trace = library_trace + library_trace*library_trace\n",
    "#library_trace"
   ]
  },
  {
   "cell_type": "markdown",
   "id": "d6b7ee59-7fce-4333-867f-fb7caf9b9b04",
   "metadata": {},
   "source": [
    "Now it is time to combine our matrix library and scalar library."
   ]
  },
  {
   "cell_type": "code",
   "execution_count": 35,
   "id": "e67388cc-5d79-45c4-9da9-075f9023d9b8",
   "metadata": {},
   "outputs": [
    {
     "data": {
      "text/plain": [
       "52233"
      ]
     },
     "execution_count": 35,
     "metadata": {},
     "output_type": "execute_result"
    }
   ],
   "source": [
    "library = library + library_trace*library\n",
    "len(library)"
   ]
  },
  {
   "cell_type": "markdown",
   "id": "189a5723-56be-43bb-9032-87ff4bed7c5b",
   "metadata": {},
   "source": [
    "We end up with a gigantic library we certainly want to trim, so we do by specifying the maximum degree in each variable:"
   ]
  },
  {
   "cell_type": "code",
   "execution_count": 36,
   "id": "60ed3373-6214-4a48-8e8a-15c4efc5ba45",
   "metadata": {},
   "outputs": [
    {
     "data": {
      "text/plain": [
       "Type of feature output: matrix\n",
       "Symmetry of features: symmetric\n",
       "Variables names: {'S', '∇U', '∇Uᵀ'}\n",
       "Variables transpose map: {'S': 'S', '∇U': '∇Uᵀ', '∇Uᵀ': '∇U'}\n",
       "Number of feature_functions: 68\n",
       "(0)\tI\n",
       "(1)\tS\n",
       "(2)\t∇U + (∇U)ᵀ\n",
       "(3)\tS∘S\n",
       "(4)\tS∘∇U + (S∘∇U)ᵀ\n",
       "(5)\tS∘∇Uᵀ + (S∘∇Uᵀ)ᵀ\n",
       "(6)\t∇U∘∇Uᵀ\n",
       "(7)\t∇Uᵀ∘∇U\n",
       "(8)\tS∘S∘∇U + (S∘S∘∇U)ᵀ\n",
       "(9)\tS∘S∘∇Uᵀ + (S∘S∘∇Uᵀ)ᵀ\n",
       "(10)\tS∘∇U∘S + (S∘∇U∘S)ᵀ\n",
       "(11)\tS∘∇U∘∇Uᵀ + (S∘∇U∘∇Uᵀ)ᵀ\n",
       "(12)\tS∘∇Uᵀ∘∇U + (S∘∇Uᵀ∘∇U)ᵀ\n",
       "(13)\t∇U∘S∘∇Uᵀ\n",
       "(14)\t∇Uᵀ∘S∘∇U\n",
       "(15)\tS∘S∘∇U∘∇Uᵀ + (S∘S∘∇U∘∇Uᵀ)ᵀ\n",
       "(16)\tS∘S∘∇Uᵀ∘∇U + (S∘S∘∇Uᵀ∘∇U)ᵀ\n",
       "(17)\tS∘∇U∘S∘∇Uᵀ + (S∘∇U∘S∘∇Uᵀ)ᵀ\n",
       "(18)\tS∘∇U∘∇Uᵀ∘S\n",
       "(19)\tS∘∇Uᵀ∘S∘∇U + (S∘∇Uᵀ∘S∘∇U)ᵀ\n",
       "(20)\tS∘∇Uᵀ∘∇U∘S\n",
       "(21)\t∇U∘S∘S∘∇Uᵀ\n",
       "(22)\t∇Uᵀ∘S∘S∘∇U\n",
       "(23)\ttr(S)I\n",
       "(24)\ttr(S)S\n",
       "(25)\ttr(S)(∇U + (∇U)ᵀ)\n",
       "(26)\ttr(S)(S∘∇U + (S∘∇U)ᵀ)\n",
       "(27)\ttr(S)(S∘∇Uᵀ + (S∘∇Uᵀ)ᵀ)\n",
       "(28)\ttr(S)∇U∘∇Uᵀ\n",
       "(29)\ttr(S)∇Uᵀ∘∇U\n",
       "(30)\ttr(S)(S∘∇U∘∇Uᵀ + (S∘∇U∘∇Uᵀ)ᵀ)\n",
       "(31)\ttr(S)(S∘∇Uᵀ∘∇U + (S∘∇Uᵀ∘∇U)ᵀ)\n",
       "(32)\ttr(S)∇U∘S∘∇Uᵀ\n",
       "(33)\ttr(S)∇Uᵀ∘S∘∇U\n",
       "(34)\ttr(S∘S)I\n",
       "(35)\ttr(S∘S)(∇U + (∇U)ᵀ)\n",
       "(36)\ttr(S∘S)∇U∘∇Uᵀ\n",
       "(37)\ttr(S∘S)∇Uᵀ∘∇U\n",
       "(38)\ttr(S∘∇U)I\n",
       "(39)\ttr(S∘∇U)S\n",
       "(40)\ttr(S∘∇U)(S∘∇Uᵀ + (S∘∇Uᵀ)ᵀ)\n",
       "(41)\ttr(∇U∘∇Uᵀ)I\n",
       "(42)\ttr(∇U∘∇Uᵀ)S\n",
       "(43)\ttr(∇U∘∇Uᵀ)S∘S\n",
       "(44)\ttr(S∘S∘∇U)I\n",
       "(45)\ttr(S∘∇U∘∇Uᵀ)I\n",
       "(46)\ttr(S∘∇U∘∇Uᵀ)S\n",
       "(47)\ttr(S∘∇Uᵀ∘∇U)I\n",
       "(48)\ttr(S∘∇Uᵀ∘∇U)S\n",
       "(49)\ttr(S∘S∘∇U∘∇Uᵀ)I\n",
       "(50)\ttr(S∘S∘∇Uᵀ∘∇U)I\n",
       "(51)\ttr(S∘∇U∘S∘∇Uᵀ)I\n",
       "(52)\t(tr(S))²I\n",
       "(53)\t(tr(S))²(∇U + (∇U)ᵀ)\n",
       "(54)\t(tr(S))²∇U∘∇Uᵀ\n",
       "(55)\t(tr(S))²∇Uᵀ∘∇U\n",
       "(56)\ttr(S)tr(S∘∇U)I\n",
       "(57)\ttr(S)tr(∇U∘∇Uᵀ)I\n",
       "(58)\ttr(S)tr(∇U∘∇Uᵀ)S\n",
       "(59)\ttr(S)tr(S∘∇U∘∇Uᵀ)I\n",
       "(60)\ttr(S)tr(S∘∇Uᵀ∘∇U)I\n",
       "(61)\ttr(S∘S)tr(∇U∘∇Uᵀ)I\n",
       "(62)\ttr(S∘∇U)tr(S)I\n",
       "(63)\ttr(∇U∘∇Uᵀ)tr(S)I\n",
       "(64)\ttr(∇U∘∇Uᵀ)tr(S)S\n",
       "(65)\ttr(∇U∘∇Uᵀ)tr(S∘S)I\n",
       "(66)\ttr(S∘∇U∘∇Uᵀ)tr(S)I\n",
       "(67)\ttr(S∘∇Uᵀ∘∇U)tr(S)I"
      ]
     },
     "execution_count": 36,
     "metadata": {},
     "output_type": "execute_result"
    }
   ],
   "source": [
    "library.trim({'S':2, '∇U':1, '∇Uᵀ':1})"
   ]
  },
  {
   "cell_type": "markdown",
   "id": "4c3d0bef",
   "metadata": {},
   "source": [
    "## Evaluate precursors\n",
    "For each scenario in the dataset, we evalulate the precursor features and store it in a list."
   ]
  },
  {
   "cell_type": "code",
   "execution_count": 39,
   "id": "52f34b24",
   "metadata": {},
   "outputs": [],
   "source": [
    "precursor_dict = {}\n",
    "for name, data in dataset.items():\n",
    "    precursors = []\n",
    "    for feature in library.feature_functions:\n",
    "        precursors.append(feature(data))\n",
    "    precursor_dict[name] = precursors"
   ]
  },
  {
   "cell_type": "code",
   "execution_count": 41,
   "id": "2179fc81",
   "metadata": {},
   "outputs": [
    {
     "data": {
      "text/plain": [
       "248"
      ]
     },
     "execution_count": 41,
     "metadata": {},
     "output_type": "execute_result"
    }
   ],
   "source": []
  },
  {
   "cell_type": "code",
   "execution_count": null,
   "id": "b779895e",
   "metadata": {},
   "outputs": [],
   "source": []
  }
 ],
 "metadata": {
  "kernelspec": {
   "display_name": "Python 3",
   "language": "python",
   "name": "python3"
  },
  "language_info": {
   "codemirror_mode": {
    "name": "ipython",
    "version": 3
   },
   "file_extension": ".py",
   "mimetype": "text/x-python",
   "name": "python",
   "nbconvert_exporter": "python",
   "pygments_lexer": "ipython3",
   "version": "3.7.8"
  }
 },
 "nbformat": 4,
 "nbformat_minor": 5
}
